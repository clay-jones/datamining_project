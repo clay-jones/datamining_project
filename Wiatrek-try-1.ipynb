{
 "cells": [
  {
   "cell_type": "code",
   "execution_count": 142,
   "metadata": {},
   "outputs": [],
   "source": [
    "import nltk\n",
    "import pandas as pd\n",
    "import numpy as np\n",
    "import matplotlib.pyplot as plt\n",
    "from nltk.tokenize import sent_tokenize, word_tokenize\n",
    "from nltk.stem import WordNetLemmatizer\n",
    "import string\n",
    "from sklearn.pipeline import Pipeline\n",
    "from sklearn.feature_extraction.text import TfidfTransformer, CountVectorizer\n",
    "from sklearn.naive_bayes import MultinomialNB\n",
    "from sklearn.model_selection import train_test_split"
   ]
  },
  {
   "cell_type": "code",
   "execution_count": 41,
   "metadata": {},
   "outputs": [],
   "source": [
    "Science_fiction = 0\n",
    "Horror = 1\n",
    "Adventure = 2\n",
    "Humor = 3\n",
    "Western = 4\n",
    "Mystery = 5\n",
    "Gothic = 6\n"
   ]
  },
  {
   "cell_type": "code",
   "execution_count": 4,
   "metadata": {},
   "outputs": [],
   "source": [
    "nltk_stop_words = nltk.corpus.stopwords.words('english')"
   ]
  },
  {
   "cell_type": "code",
   "execution_count": 19,
   "metadata": {},
   "outputs": [],
   "source": [
    "f = open(\"set0/western01.txt\", \"r\")\n",
    "western1 = f.read()"
   ]
  },
  {
   "cell_type": "code",
   "execution_count": 45,
   "metadata": {},
   "outputs": [],
   "source": [
    "f = open(\"set0/gothic00.txt\", \"r\")\n",
    "gothic1 = f.read()"
   ]
  },
  {
   "cell_type": "code",
   "execution_count": 102,
   "metadata": {},
   "outputs": [],
   "source": [
    "def remove_gutenberg_preamble(text):\n",
    "    try:\n",
    "        return text[text.index(\"***\", text.index(\"START OF THIS PROJECT GUTENBERG\"))+3:]\n",
    "    except:\n",
    "        return text[text.index(\"***\", text.index(\"START OF THE PROJECT GUTENBERG\"))+3:]"
   ]
  },
  {
   "cell_type": "code",
   "execution_count": 119,
   "metadata": {},
   "outputs": [],
   "source": [
    "def remove_gutenberg_postscript(text):\n",
    "    try:\n",
    "        return text[:text.index(\"***\", text.index(\"END OF THE PROJECT GUTENBERG\"))-3]\n",
    "    except:\n",
    "        return text[:text.index(\"***\", text.index(\"END OF THIS PROJECT GUTENBERG\"))-3]"
   ]
  },
  {
   "cell_type": "code",
   "execution_count": 22,
   "metadata": {},
   "outputs": [],
   "source": [
    "western1 = remove_gutenberge_preamble(western1)"
   ]
  },
  {
   "cell_type": "code",
   "execution_count": 23,
   "metadata": {},
   "outputs": [],
   "source": [
    "tokens = word_tokenize(western1)"
   ]
  },
  {
   "cell_type": "code",
   "execution_count": 29,
   "metadata": {},
   "outputs": [],
   "source": [
    "tokens = [t for t in tokens if t not in string.punctuation]"
   ]
  },
  {
   "cell_type": "code",
   "execution_count": 32,
   "metadata": {},
   "outputs": [],
   "source": [
    "tokens = [t for t in tokens if t not in nltk_stop_words]"
   ]
  },
  {
   "cell_type": "code",
   "execution_count": 33,
   "metadata": {},
   "outputs": [
    {
     "data": {
      "text/plain": [
       "83640"
      ]
     },
     "execution_count": 33,
     "metadata": {},
     "output_type": "execute_result"
    }
   ],
   "source": [
    "len(tokens)"
   ]
  },
  {
   "cell_type": "code",
   "execution_count": 178,
   "metadata": {},
   "outputs": [],
   "source": [
    "wordnet_lemmatizer = WordNetLemmatizer()\n",
    "# vectorizing function to able to call on list of tokens\n",
    "lemmatize_words = np.vectorize(wordnet_lemmatizer.lemmatize)\n",
    "lemmatized_text = ' '.join(lemmatize_words(tokens))"
   ]
  },
  {
   "cell_type": "code",
   "execution_count": 40,
   "metadata": {},
   "outputs": [],
   "source": [
    "text_clf = Pipeline([\n",
    "    ('vect', CountVectorizer()),\n",
    "    ('tfidf', TfidfTransformer()),\n",
    "    ('clf', MultinomialNB()),\n",
    "])"
   ]
  },
  {
   "cell_type": "code",
   "execution_count": 54,
   "metadata": {},
   "outputs": [],
   "source": [
    "text = [western1, remove_gutenberge_preamble(gothic1)]\n",
    "target = [Western, Gothic]"
   ]
  },
  {
   "cell_type": "code",
   "execution_count": 55,
   "metadata": {},
   "outputs": [
    {
     "data": {
      "text/plain": [
       "Pipeline(steps=[('vect', CountVectorizer()), ('tfidf', TfidfTransformer()),\n",
       "                ('clf', MultinomialNB())])"
      ]
     },
     "execution_count": 55,
     "metadata": {},
     "output_type": "execute_result"
    }
   ],
   "source": [
    "text_clf.fit(text, target)"
   ]
  },
  {
   "cell_type": "code",
   "execution_count": 69,
   "metadata": {},
   "outputs": [
    {
     "data": {
      "text/plain": [
       "array([[0.49969613, 0.50030387]])"
      ]
     },
     "execution_count": 69,
     "metadata": {},
     "output_type": "execute_result"
    }
   ],
   "source": [
    "text_clf.predict_proba([\"By de name Jim Crow Dat de white folk call If ever I see I 'tends maul Just\"])"
   ]
  },
  {
   "cell_type": "markdown",
   "metadata": {},
   "source": [
    "training by feeding in the entire book seems to be counter productive since the model cannot be decisive"
   ]
  },
  {
   "cell_type": "code",
   "execution_count": 82,
   "metadata": {},
   "outputs": [],
   "source": [
    "# lets try splitting by \\n\n",
    "f = open(\"set0/gothic00.txt\", \"r\")\n",
    "gothic1 = f.read()\n",
    "gothic1 = remove_gutenberge_preamble(gothic1)"
   ]
  },
  {
   "cell_type": "code",
   "execution_count": 83,
   "metadata": {},
   "outputs": [],
   "source": [
    "arr = gothic1.split('\\n\\n')\n"
   ]
  },
  {
   "cell_type": "code",
   "execution_count": 84,
   "metadata": {},
   "outputs": [],
   "source": [
    "arr = [a for a in arr if len(a) > 2]\n"
   ]
  },
  {
   "cell_type": "code",
   "execution_count": 85,
   "metadata": {},
   "outputs": [],
   "source": [
    "df = pd.DataFrame()\n",
    "df['text'] = arr"
   ]
  },
  {
   "cell_type": "code",
   "execution_count": 86,
   "metadata": {},
   "outputs": [],
   "source": [
    "df['label'] = Gothic"
   ]
  },
  {
   "cell_type": "code",
   "execution_count": 100,
   "metadata": {},
   "outputs": [
    {
     "data": {
      "text/html": [
       "<div>\n",
       "<style scoped>\n",
       "    .dataframe tbody tr th:only-of-type {\n",
       "        vertical-align: middle;\n",
       "    }\n",
       "\n",
       "    .dataframe tbody tr th {\n",
       "        vertical-align: top;\n",
       "    }\n",
       "\n",
       "    .dataframe thead th {\n",
       "        text-align: right;\n",
       "    }\n",
       "</style>\n",
       "<table border=\"1\" class=\"dataframe\">\n",
       "  <thead>\n",
       "    <tr style=\"text-align: right;\">\n",
       "      <th></th>\n",
       "      <th>text</th>\n",
       "      <th>label</th>\n",
       "    </tr>\n",
       "  </thead>\n",
       "  <tbody>\n",
       "    <tr>\n",
       "      <th>1525</th>\n",
       "      <td>\\n*** END OF THE PROJECT GUTENBERG EBOOK THE P...</td>\n",
       "      <td>6</td>\n",
       "    </tr>\n",
       "    <tr>\n",
       "      <th>1526</th>\n",
       "      <td>***** This file should be named 174-0.txt or 1...</td>\n",
       "      <td>6</td>\n",
       "    </tr>\n",
       "    <tr>\n",
       "      <th>1527</th>\n",
       "      <td>Updated editions will replace the previous one...</td>\n",
       "      <td>6</td>\n",
       "    </tr>\n",
       "    <tr>\n",
       "      <th>1528</th>\n",
       "      <td>Creating the works from print editions not pro...</td>\n",
       "      <td>6</td>\n",
       "    </tr>\n",
       "    <tr>\n",
       "      <th>1529</th>\n",
       "      <td>START: FULL LICENSE</td>\n",
       "      <td>6</td>\n",
       "    </tr>\n",
       "    <tr>\n",
       "      <th>1530</th>\n",
       "      <td>THE FULL PROJECT GUTENBERG LICENSE\\nPLEASE REA...</td>\n",
       "      <td>6</td>\n",
       "    </tr>\n",
       "    <tr>\n",
       "      <th>1531</th>\n",
       "      <td>To protect the Project Gutenberg-tm mission of...</td>\n",
       "      <td>6</td>\n",
       "    </tr>\n",
       "    <tr>\n",
       "      <th>1532</th>\n",
       "      <td>Section 1. General Terms of Use and Redistribu...</td>\n",
       "      <td>6</td>\n",
       "    </tr>\n",
       "    <tr>\n",
       "      <th>1533</th>\n",
       "      <td>1.A. By reading or using any part of this Proj...</td>\n",
       "      <td>6</td>\n",
       "    </tr>\n",
       "    <tr>\n",
       "      <th>1534</th>\n",
       "      <td>1.B. \"Project Gutenberg\" is a registered trade...</td>\n",
       "      <td>6</td>\n",
       "    </tr>\n",
       "    <tr>\n",
       "      <th>1535</th>\n",
       "      <td>1.C. The Project Gutenberg Literary Archive Fo...</td>\n",
       "      <td>6</td>\n",
       "    </tr>\n",
       "    <tr>\n",
       "      <th>1536</th>\n",
       "      <td>1.D. The copyright laws of the place where you...</td>\n",
       "      <td>6</td>\n",
       "    </tr>\n",
       "    <tr>\n",
       "      <th>1537</th>\n",
       "      <td>1.E. Unless you have removed all references to...</td>\n",
       "      <td>6</td>\n",
       "    </tr>\n",
       "    <tr>\n",
       "      <th>1538</th>\n",
       "      <td>1.E.1. The following sentence, with active lin...</td>\n",
       "      <td>6</td>\n",
       "    </tr>\n",
       "    <tr>\n",
       "      <th>1539</th>\n",
       "      <td>This eBook is for the use of anyone anywhere...</td>\n",
       "      <td>6</td>\n",
       "    </tr>\n",
       "    <tr>\n",
       "      <th>1540</th>\n",
       "      <td>1.E.2. If an individual Project Gutenberg-tm e...</td>\n",
       "      <td>6</td>\n",
       "    </tr>\n",
       "    <tr>\n",
       "      <th>1541</th>\n",
       "      <td>1.E.3. If an individual Project Gutenberg-tm e...</td>\n",
       "      <td>6</td>\n",
       "    </tr>\n",
       "    <tr>\n",
       "      <th>1542</th>\n",
       "      <td>1.E.4. Do not unlink or detach or remove the f...</td>\n",
       "      <td>6</td>\n",
       "    </tr>\n",
       "    <tr>\n",
       "      <th>1543</th>\n",
       "      <td>1.E.5. Do not copy, display, perform, distribu...</td>\n",
       "      <td>6</td>\n",
       "    </tr>\n",
       "    <tr>\n",
       "      <th>1544</th>\n",
       "      <td>1.E.6. You may convert to and distribute this ...</td>\n",
       "      <td>6</td>\n",
       "    </tr>\n",
       "    <tr>\n",
       "      <th>1545</th>\n",
       "      <td>1.E.7. Do not charge a fee for access to, view...</td>\n",
       "      <td>6</td>\n",
       "    </tr>\n",
       "    <tr>\n",
       "      <th>1546</th>\n",
       "      <td>1.E.8. You may charge a reasonable fee for cop...</td>\n",
       "      <td>6</td>\n",
       "    </tr>\n",
       "    <tr>\n",
       "      <th>1547</th>\n",
       "      <td>* You pay a royalty fee of 20% of the gross pr...</td>\n",
       "      <td>6</td>\n",
       "    </tr>\n",
       "    <tr>\n",
       "      <th>1548</th>\n",
       "      <td>* You provide a full refund of any money paid ...</td>\n",
       "      <td>6</td>\n",
       "    </tr>\n",
       "    <tr>\n",
       "      <th>1549</th>\n",
       "      <td>* You provide, in accordance with paragraph 1....</td>\n",
       "      <td>6</td>\n",
       "    </tr>\n",
       "    <tr>\n",
       "      <th>1550</th>\n",
       "      <td>* You comply with all other terms of this agre...</td>\n",
       "      <td>6</td>\n",
       "    </tr>\n",
       "    <tr>\n",
       "      <th>1551</th>\n",
       "      <td>1.E.9. If you wish to charge a fee or distribu...</td>\n",
       "      <td>6</td>\n",
       "    </tr>\n",
       "    <tr>\n",
       "      <th>1552</th>\n",
       "      <td>1.F.</td>\n",
       "      <td>6</td>\n",
       "    </tr>\n",
       "    <tr>\n",
       "      <th>1553</th>\n",
       "      <td>1.F.1. Project Gutenberg volunteers and employ...</td>\n",
       "      <td>6</td>\n",
       "    </tr>\n",
       "    <tr>\n",
       "      <th>1554</th>\n",
       "      <td>1.F.2. LIMITED WARRANTY, DISCLAIMER OF DAMAGES...</td>\n",
       "      <td>6</td>\n",
       "    </tr>\n",
       "    <tr>\n",
       "      <th>1555</th>\n",
       "      <td>1.F.3. LIMITED RIGHT OF REPLACEMENT OR REFUND ...</td>\n",
       "      <td>6</td>\n",
       "    </tr>\n",
       "    <tr>\n",
       "      <th>1556</th>\n",
       "      <td>1.F.4. Except for the limited right of replace...</td>\n",
       "      <td>6</td>\n",
       "    </tr>\n",
       "    <tr>\n",
       "      <th>1557</th>\n",
       "      <td>1.F.5. Some states do not allow disclaimers of...</td>\n",
       "      <td>6</td>\n",
       "    </tr>\n",
       "    <tr>\n",
       "      <th>1558</th>\n",
       "      <td>1.F.6. INDEMNITY - You agree to indemnify and ...</td>\n",
       "      <td>6</td>\n",
       "    </tr>\n",
       "    <tr>\n",
       "      <th>1559</th>\n",
       "      <td>Section 2. Information about the Mission of Pr...</td>\n",
       "      <td>6</td>\n",
       "    </tr>\n",
       "    <tr>\n",
       "      <th>1560</th>\n",
       "      <td>Project Gutenberg-tm is synonymous with the fr...</td>\n",
       "      <td>6</td>\n",
       "    </tr>\n",
       "    <tr>\n",
       "      <th>1561</th>\n",
       "      <td>Volunteers and financial support to provide vo...</td>\n",
       "      <td>6</td>\n",
       "    </tr>\n",
       "    <tr>\n",
       "      <th>1562</th>\n",
       "      <td>Section 3. Information about the Project Guten...</td>\n",
       "      <td>6</td>\n",
       "    </tr>\n",
       "    <tr>\n",
       "      <th>1563</th>\n",
       "      <td>The Project Gutenberg Literary Archive Foundat...</td>\n",
       "      <td>6</td>\n",
       "    </tr>\n",
       "    <tr>\n",
       "      <th>1564</th>\n",
       "      <td>The Foundation's business office is located at...</td>\n",
       "      <td>6</td>\n",
       "    </tr>\n",
       "    <tr>\n",
       "      <th>1565</th>\n",
       "      <td>Section 4. Information about Donations to the ...</td>\n",
       "      <td>6</td>\n",
       "    </tr>\n",
       "    <tr>\n",
       "      <th>1566</th>\n",
       "      <td>Project Gutenberg-tm depends upon and cannot s...</td>\n",
       "      <td>6</td>\n",
       "    </tr>\n",
       "    <tr>\n",
       "      <th>1567</th>\n",
       "      <td>The Foundation is committed to complying with ...</td>\n",
       "      <td>6</td>\n",
       "    </tr>\n",
       "    <tr>\n",
       "      <th>1568</th>\n",
       "      <td>While we cannot and do not solicit contributio...</td>\n",
       "      <td>6</td>\n",
       "    </tr>\n",
       "    <tr>\n",
       "      <th>1569</th>\n",
       "      <td>International donations are gratefully accepte...</td>\n",
       "      <td>6</td>\n",
       "    </tr>\n",
       "    <tr>\n",
       "      <th>1570</th>\n",
       "      <td>Please check the Project Gutenberg web pages f...</td>\n",
       "      <td>6</td>\n",
       "    </tr>\n",
       "    <tr>\n",
       "      <th>1571</th>\n",
       "      <td>Section 5. General Information About Project G...</td>\n",
       "      <td>6</td>\n",
       "    </tr>\n",
       "    <tr>\n",
       "      <th>1572</th>\n",
       "      <td>Professor Michael S. Hart was the originator o...</td>\n",
       "      <td>6</td>\n",
       "    </tr>\n",
       "    <tr>\n",
       "      <th>1573</th>\n",
       "      <td>Project Gutenberg-tm eBooks are often created ...</td>\n",
       "      <td>6</td>\n",
       "    </tr>\n",
       "    <tr>\n",
       "      <th>1574</th>\n",
       "      <td>Most people start at our website which has the...</td>\n",
       "      <td>6</td>\n",
       "    </tr>\n",
       "    <tr>\n",
       "      <th>1575</th>\n",
       "      <td>This website includes information about Projec...</td>\n",
       "      <td>6</td>\n",
       "    </tr>\n",
       "  </tbody>\n",
       "</table>\n",
       "</div>"
      ],
      "text/plain": [
       "                                                   text  label\n",
       "1525  \\n*** END OF THE PROJECT GUTENBERG EBOOK THE P...      6\n",
       "1526  ***** This file should be named 174-0.txt or 1...      6\n",
       "1527  Updated editions will replace the previous one...      6\n",
       "1528  Creating the works from print editions not pro...      6\n",
       "1529                                START: FULL LICENSE      6\n",
       "1530  THE FULL PROJECT GUTENBERG LICENSE\\nPLEASE REA...      6\n",
       "1531  To protect the Project Gutenberg-tm mission of...      6\n",
       "1532  Section 1. General Terms of Use and Redistribu...      6\n",
       "1533  1.A. By reading or using any part of this Proj...      6\n",
       "1534  1.B. \"Project Gutenberg\" is a registered trade...      6\n",
       "1535  1.C. The Project Gutenberg Literary Archive Fo...      6\n",
       "1536  1.D. The copyright laws of the place where you...      6\n",
       "1537  1.E. Unless you have removed all references to...      6\n",
       "1538  1.E.1. The following sentence, with active lin...      6\n",
       "1539    This eBook is for the use of anyone anywhere...      6\n",
       "1540  1.E.2. If an individual Project Gutenberg-tm e...      6\n",
       "1541  1.E.3. If an individual Project Gutenberg-tm e...      6\n",
       "1542  1.E.4. Do not unlink or detach or remove the f...      6\n",
       "1543  1.E.5. Do not copy, display, perform, distribu...      6\n",
       "1544  1.E.6. You may convert to and distribute this ...      6\n",
       "1545  1.E.7. Do not charge a fee for access to, view...      6\n",
       "1546  1.E.8. You may charge a reasonable fee for cop...      6\n",
       "1547  * You pay a royalty fee of 20% of the gross pr...      6\n",
       "1548  * You provide a full refund of any money paid ...      6\n",
       "1549  * You provide, in accordance with paragraph 1....      6\n",
       "1550  * You comply with all other terms of this agre...      6\n",
       "1551  1.E.9. If you wish to charge a fee or distribu...      6\n",
       "1552                                               1.F.      6\n",
       "1553  1.F.1. Project Gutenberg volunteers and employ...      6\n",
       "1554  1.F.2. LIMITED WARRANTY, DISCLAIMER OF DAMAGES...      6\n",
       "1555  1.F.3. LIMITED RIGHT OF REPLACEMENT OR REFUND ...      6\n",
       "1556  1.F.4. Except for the limited right of replace...      6\n",
       "1557  1.F.5. Some states do not allow disclaimers of...      6\n",
       "1558  1.F.6. INDEMNITY - You agree to indemnify and ...      6\n",
       "1559  Section 2. Information about the Mission of Pr...      6\n",
       "1560  Project Gutenberg-tm is synonymous with the fr...      6\n",
       "1561  Volunteers and financial support to provide vo...      6\n",
       "1562  Section 3. Information about the Project Guten...      6\n",
       "1563  The Project Gutenberg Literary Archive Foundat...      6\n",
       "1564  The Foundation's business office is located at...      6\n",
       "1565  Section 4. Information about Donations to the ...      6\n",
       "1566  Project Gutenberg-tm depends upon and cannot s...      6\n",
       "1567  The Foundation is committed to complying with ...      6\n",
       "1568  While we cannot and do not solicit contributio...      6\n",
       "1569  International donations are gratefully accepte...      6\n",
       "1570  Please check the Project Gutenberg web pages f...      6\n",
       "1571  Section 5. General Information About Project G...      6\n",
       "1572  Professor Michael S. Hart was the originator o...      6\n",
       "1573  Project Gutenberg-tm eBooks are often created ...      6\n",
       "1574  Most people start at our website which has the...      6\n",
       "1575  This website includes information about Projec...      6"
      ]
     },
     "execution_count": 100,
     "metadata": {},
     "output_type": "execute_result"
    }
   ],
   "source": [
    "df[len(df)-51:]"
   ]
  },
  {
   "cell_type": "code",
   "execution_count": 101,
   "metadata": {},
   "outputs": [],
   "source": [
    "def get_label(file_loc: str) -> int:\n",
    "    science_fiction = 0\n",
    "    horror = 1\n",
    "    adventure = 2\n",
    "    humor = 3\n",
    "    western = 4\n",
    "    mystery = 5\n",
    "    gothic = 6\n",
    "    if 'gothic' in file_loc:\n",
    "        return gothic\n",
    "    if 'western' in file_loc:\n",
    "        return western\n",
    "    if 'mystery' in file_loc:\n",
    "        return mystery\n",
    "    if 'humor' in file_loc:\n",
    "        return humor\n",
    "    if 'adventure' in file_loc:\n",
    "        return adventure\n",
    "    if 'horror' in file_loc:\n",
    "        return horror\n",
    "    if 'scifi' in file_loc:\n",
    "        return science_fiction"
   ]
  },
  {
   "cell_type": "code",
   "execution_count": 112,
   "metadata": {},
   "outputs": [],
   "source": [
    "def create_by_newline(file_loc: str, df):\n",
    "    new_df = pd.DataFrame()\n",
    "    f = open(file_loc, \"r\")\n",
    "    text = f.read()\n",
    "    text = remove_gutenberg_preamble(text)\n",
    "    text = remove_gutenberg_postscript(text)\n",
    "    arr = text.split('\\n\\n')\n",
    "    arr = [a for a in arr if len(a) > 2]\n",
    "    label = get_label(file_loc)\n",
    "    new_df['text'] = arr\n",
    "    new_df['label'] = label\n",
    "    df = df.append(new_df)\n",
    "    return df"
   ]
  },
  {
   "cell_type": "code",
   "execution_count": 113,
   "metadata": {},
   "outputs": [],
   "source": [
    "new_df = pd.DataFrame()"
   ]
  },
  {
   "cell_type": "code",
   "execution_count": 114,
   "metadata": {},
   "outputs": [],
   "source": [
    "new_df = create_by_newline('set0/gothic00.txt',new_df)"
   ]
  },
  {
   "cell_type": "code",
   "execution_count": 116,
   "metadata": {},
   "outputs": [],
   "source": [
    "new_df = create_by_newline('set0/gothic01.txt',new_df)"
   ]
  },
  {
   "cell_type": "code",
   "execution_count": 120,
   "metadata": {},
   "outputs": [],
   "source": [
    "new_df = create_by_newline('set0/western00.txt', new_df)"
   ]
  },
  {
   "cell_type": "code",
   "execution_count": 122,
   "metadata": {},
   "outputs": [
    {
     "data": {
      "text/plain": [
       "Pipeline(steps=[('vect', CountVectorizer()), ('tfidf', TfidfTransformer()),\n",
       "                ('clf', MultinomialNB())])"
      ]
     },
     "execution_count": 122,
     "metadata": {},
     "output_type": "execute_result"
    }
   ],
   "source": [
    "text_clf.fit(new_df.text, new_df.label)"
   ]
  },
  {
   "cell_type": "code",
   "execution_count": 130,
   "metadata": {},
   "outputs": [
    {
     "data": {
      "text/plain": [
       "array([4])"
      ]
     },
     "execution_count": 130,
     "metadata": {},
     "output_type": "execute_result"
    }
   ],
   "source": [
    "text_clf.predict([' brother he certainly was, in the eye of the law, and it is more than probable that he was his brother in reality. But thelaird thought otherwise; and, though he knew and acknowledged that hewas obliged to support and provide for him, he refused to acknowledge'])"
   ]
  },
  {
   "cell_type": "code",
   "execution_count": 131,
   "metadata": {},
   "outputs": [],
   "source": [
    "train_on = [\n",
    "    'set0/western00.txt',\n",
    "    'set0/western01.txt',\n",
    "    'set0/western02.txt',\n",
    "    'set0/western03.txt',\n",
    "    'set0/gothic00.txt',\n",
    "    'set0/gothic01.txt',\n",
    "    'set0/gothic02.txt',\n",
    "    'set0/gothic03.txt',\n",
    "    'set0/humor00.txt',\n",
    "    'set0/humor01.txt',\n",
    "    'set0/humor02.txt',\n",
    "    'set0/humor03.txt',\n",
    "    'set0/horror00.txt',\n",
    "    'set0/horror01.txt',\n",
    "    'set0/horror02.txt',\n",
    "    'set0/horror03.txt',\n",
    "]"
   ]
  },
  {
   "cell_type": "code",
   "execution_count": 133,
   "metadata": {},
   "outputs": [],
   "source": [
    "new_df = pd.DataFrame()\n",
    "for file in train_on:\n",
    "    new_df = create_by_newline(file, new_df)"
   ]
  },
  {
   "cell_type": "code",
   "execution_count": 135,
   "metadata": {},
   "outputs": [
    {
     "data": {
      "text/plain": [
       "Pipeline(steps=[('vect', CountVectorizer()), ('tfidf', TfidfTransformer()),\n",
       "                ('clf', MultinomialNB())])"
      ]
     },
     "execution_count": 135,
     "metadata": {},
     "output_type": "execute_result"
    }
   ],
   "source": [
    "text_clf.fit(new_df['text'], new_df['label'])"
   ]
  },
  {
   "cell_type": "code",
   "execution_count": 140,
   "metadata": {},
   "outputs": [
    {
     "data": {
      "text/plain": [
       "array([[0.16330431, 0.42661755, 0.22499629, 0.18508185]])"
      ]
     },
     "execution_count": 140,
     "metadata": {},
     "output_type": "execute_result"
    }
   ],
   "source": [
    "text_clf.predict_proba(['Immediately subsequent to this disaster, my father seemed nearly in'])"
   ]
  },
  {
   "cell_type": "code",
   "execution_count": 141,
   "metadata": {},
   "outputs": [
    {
     "data": {
      "text/html": [
       "<div>\n",
       "<style scoped>\n",
       "    .dataframe tbody tr th:only-of-type {\n",
       "        vertical-align: middle;\n",
       "    }\n",
       "\n",
       "    .dataframe tbody tr th {\n",
       "        vertical-align: top;\n",
       "    }\n",
       "\n",
       "    .dataframe thead th {\n",
       "        text-align: right;\n",
       "    }\n",
       "</style>\n",
       "<table border=\"1\" class=\"dataframe\">\n",
       "  <thead>\n",
       "    <tr style=\"text-align: right;\">\n",
       "      <th></th>\n",
       "      <th>text</th>\n",
       "      <th>label</th>\n",
       "    </tr>\n",
       "  </thead>\n",
       "  <tbody>\n",
       "    <tr>\n",
       "      <th>0</th>\n",
       "      <td>\\nProduced by Bill Brewer and Rick Fane</td>\n",
       "      <td>4</td>\n",
       "    </tr>\n",
       "    <tr>\n",
       "      <th>1</th>\n",
       "      <td>RIDERS OF THE PURPLE SAGE</td>\n",
       "      <td>4</td>\n",
       "    </tr>\n",
       "    <tr>\n",
       "      <th>2</th>\n",
       "      <td>By Zane Grey</td>\n",
       "      <td>4</td>\n",
       "    </tr>\n",
       "    <tr>\n",
       "      <th>3</th>\n",
       "      <td>\\nCHAPTER I. LASSITER</td>\n",
       "      <td>4</td>\n",
       "    </tr>\n",
       "    <tr>\n",
       "      <th>4</th>\n",
       "      <td>A sharp clip-crop of iron-shod hoofs deadened ...</td>\n",
       "      <td>4</td>\n",
       "    </tr>\n",
       "    <tr>\n",
       "      <th>...</th>\n",
       "      <td>...</td>\n",
       "      <td>...</td>\n",
       "    </tr>\n",
       "    <tr>\n",
       "      <th>2069</th>\n",
       "      <td>When we got home we got to talking of the old ...</td>\n",
       "      <td>1</td>\n",
       "    </tr>\n",
       "    <tr>\n",
       "      <th>2070</th>\n",
       "      <td>“We want no proofs; we ask none to believe us!...</td>\n",
       "      <td>1</td>\n",
       "    </tr>\n",
       "    <tr>\n",
       "      <th>2071</th>\n",
       "      <td>/Jonathan Harker./</td>\n",
       "      <td>1</td>\n",
       "    </tr>\n",
       "    <tr>\n",
       "      <th>2072</th>\n",
       "      <td>End of the Project Gutenberg EBook of Dracula,...</td>\n",
       "      <td>1</td>\n",
       "    </tr>\n",
       "    <tr>\n",
       "      <th>2073</th>\n",
       "      <td>*** END OF THIS PROJECT GUTENBERG EBOOK DRACU</td>\n",
       "      <td>1</td>\n",
       "    </tr>\n",
       "  </tbody>\n",
       "</table>\n",
       "<p>28464 rows × 2 columns</p>\n",
       "</div>"
      ],
      "text/plain": [
       "                                                   text  label\n",
       "0               \\nProduced by Bill Brewer and Rick Fane      4\n",
       "1                             RIDERS OF THE PURPLE SAGE      4\n",
       "2                                          By Zane Grey      4\n",
       "3                                 \\nCHAPTER I. LASSITER      4\n",
       "4     A sharp clip-crop of iron-shod hoofs deadened ...      4\n",
       "...                                                 ...    ...\n",
       "2069  When we got home we got to talking of the old ...      1\n",
       "2070  “We want no proofs; we ask none to believe us!...      1\n",
       "2071                                 /Jonathan Harker./      1\n",
       "2072  End of the Project Gutenberg EBook of Dracula,...      1\n",
       "2073      *** END OF THIS PROJECT GUTENBERG EBOOK DRACU      1\n",
       "\n",
       "[28464 rows x 2 columns]"
      ]
     },
     "execution_count": 141,
     "metadata": {},
     "output_type": "execute_result"
    }
   ],
   "source": []
  },
  {
   "cell_type": "code",
   "execution_count": 149,
   "metadata": {},
   "outputs": [],
   "source": [
    "X_train, X_test, y_train, y_test = train_test_split(new_df['text'], new_df['label'], \n",
    "                                                    random_state=42, stratify=new_df['label'])"
   ]
  },
  {
   "cell_type": "code",
   "execution_count": 157,
   "metadata": {},
   "outputs": [
    {
     "data": {
      "text/plain": [
       "Pipeline(steps=[('vect', CountVectorizer()), ('tfidf', TfidfTransformer()),\n",
       "                ('clf', MultinomialNB())])"
      ]
     },
     "execution_count": 157,
     "metadata": {},
     "output_type": "execute_result"
    }
   ],
   "source": [
    "text_clf.fit(X_train, y_train)"
   ]
  },
  {
   "cell_type": "code",
   "execution_count": 171,
   "metadata": {},
   "outputs": [
    {
     "data": {
      "text/plain": [
       "array([4, 1, 6, ..., 6, 4, 3])"
      ]
     },
     "execution_count": 171,
     "metadata": {},
     "output_type": "execute_result"
    }
   ],
   "source": [
    "arr = np.array(y_test)\n",
    "arr"
   ]
  },
  {
   "cell_type": "code",
   "execution_count": 176,
   "metadata": {},
   "outputs": [],
   "source": [
    "def check_accuracy(classifier, X_test, y_test):\n",
    "    y_test_arr = np.array(y_test)\n",
    "    correct = 0\n",
    "    for i, item in enumerate(X_test):\n",
    "        res = classifier.predict([item])\n",
    "        if(res == arr[i]):\n",
    "            correct += 1\n",
    "    print('Accuracy: ' + str(correct/X_test.shape[0] * 100))"
   ]
  },
  {
   "cell_type": "code",
   "execution_count": 177,
   "metadata": {},
   "outputs": [
    {
     "name": "stdout",
     "output_type": "stream",
     "text": [
      "Accuracy: 66.83530073074762\n"
     ]
    }
   ],
   "source": [
    "check_accuracy(text_clf, X_test, y_test)"
   ]
  },
  {
   "cell_type": "code",
   "execution_count": null,
   "metadata": {},
   "outputs": [],
   "source": []
  }
 ],
 "metadata": {
  "kernelspec": {
   "display_name": "Python 3",
   "language": "python",
   "name": "python3"
  },
  "language_info": {
   "codemirror_mode": {
    "name": "ipython",
    "version": 3
   },
   "file_extension": ".py",
   "mimetype": "text/x-python",
   "name": "python",
   "nbconvert_exporter": "python",
   "pygments_lexer": "ipython3",
   "version": "3.9.1"
  }
 },
 "nbformat": 4,
 "nbformat_minor": 4
}
