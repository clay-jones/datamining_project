{
 "cells": [
  {
   "cell_type": "markdown",
   "metadata": {},
   "source": [
    "Generally following:<br>\n",
    "https://medium.com/data-from-the-trenches/text-classification-the-first-step-toward-nlp-mastery-f5f95d525d73<br>\n",
    "https://scikit-learn.org/stable/tutorial/text_analytics/working_with_text_data.html"
   ]
  },
  {
   "cell_type": "code",
   "execution_count": 2,
   "metadata": {},
   "outputs": [],
   "source": [
    "import pprint\n",
    "import re\n",
    "import random\n",
    "import glob\n",
    "from sklearn.feature_extraction.text import CountVectorizer\n",
    "from sklearn.feature_extraction.text import TfidfVectorizer\n",
    "from sklearn.feature_extraction.text import TfidfTransformer\n",
    "from sklearn.feature_extraction import text\n",
    "from sklearn.linear_model import SGDClassifier\n",
    "import pandas as pd\n",
    "import numpy as np\n",
    "from sklearn.metrics import accuracy_score\n",
    "from sklearn.svm import LinearSVC\n",
    "from sklearn.metrics import confusion_matrix\n",
    "from sklearn.metrics import plot_confusion_matrix\n",
    "from sklearn.metrics import classification_report\n",
    "from sklearn.metrics import silhouette_score\n",
    "from sklearn.naive_bayes import MultinomialNB\n",
    "from sklearn.pipeline import Pipeline\n",
    "from sklearn.model_selection import GridSearchCV\n",
    "from sklearn.model_selection import train_test_split\n",
    "import matplotlib.pyplot as plt\n",
    "from sklearn.cluster import KMeans"
   ]
  },
  {
   "cell_type": "code",
   "execution_count": 3,
   "metadata": {},
   "outputs": [],
   "source": [
    "adventure_text_files = glob.glob('C:\\\\UT\\\\DataMining\\\\books\\\\books\\\\Adventure\\\\*.txt')\n",
    "adventure_csv_files = glob.glob('C:\\\\UT\\\\DataMining\\\\books\\\\books\\\\Adventure\\\\*.csv')\n",
    "\n",
    "gothic_text_files = glob.glob('C:\\\\UT\\\\DataMining\\\\books\\\\books\\\\Gothic Fiction\\\\*.txt')\n",
    "gothic_csv_files = glob.glob('C:\\\\UT\\\\DataMining\\\\books\\\\books\\\\Gothic Fiction\\\\*.csv')\n",
    "\n",
    "horror_text_files = glob.glob('C:\\\\UT\\\\DataMining\\\\books\\\\books\\\\Horror\\\\*.txt')\n",
    "horror_csv_files = glob.glob('C:\\\\UT\\\\DataMining\\\\books\\\\books\\\\Horror\\\\*.csv')\n",
    "\n",
    "humor_text_files = glob.glob('C:\\\\UT\\\\DataMining\\\\books\\\\books\\\\Humor\\\\*.txt')\n",
    "humor_csv_files = glob.glob('C:\\\\UT\\\\DataMining\\\\books\\\\books\\\\Humor\\\\*.csv')\n",
    "\n",
    "mystery_text_files = glob.glob('C:\\\\UT\\\\DataMining\\\\books\\\\books\\\\Mystery Fiction\\\\*.txt')\n",
    "mystery_csv_files = glob.glob('C:\\\\UT\\\\DataMining\\\\books\\\\books\\\\Mystery Fiction\\\\*.csv')\n",
    "\n",
    "scifi_text_files = glob.glob('C:\\\\UT\\\\DataMining\\\\books\\\\books\\\\Science Fiction\\\\*.txt')\n",
    "scifi_csv_files = glob.glob('C:\\\\UT\\\\DataMining\\\\books\\\\books\\\\Science Fiction\\\\*.csv')\n",
    "\n",
    "western_text_files = glob.glob('C:\\\\UT\\\\DataMining\\\\books\\\\books\\\\Western\\\\*.txt')\n",
    "western_csv_files = glob.glob('C:\\\\UT\\\\DataMining\\\\books\\\\books\\\\Western\\\\*.csv')"
   ]
  },
  {
   "cell_type": "code",
   "execution_count": 3,
   "metadata": {},
   "outputs": [
    {
     "name": "stdout",
     "output_type": "stream",
     "text": [
      "adventure:  64 63\n",
      "gothic:  23 22\n",
      "horror:  39 38\n",
      "humor:  139 138\n",
      "mystery:  12 11\n",
      "scifi:  917 916\n",
      "western:  79 78\n"
     ]
    }
   ],
   "source": [
    "print('adventure: ',len(adventure_text_files), len(adventure_csv_files))\n",
    "print('gothic: ',len(gothic_text_files), len(gothic_csv_files))\n",
    "print('horror: ',len(horror_text_files), len(horror_csv_files))\n",
    "print('humor: ',len(humor_text_files), len(humor_csv_files))\n",
    "print('mystery: ',len(mystery_text_files), len(mystery_csv_files))\n",
    "print('scifi: ',len(scifi_text_files), len(scifi_csv_files))\n",
    "print('western: ',len(western_text_files), len(western_csv_files))"
   ]
  },
  {
   "cell_type": "code",
   "execution_count": 4,
   "metadata": {},
   "outputs": [],
   "source": [
    "endText = '_Meta_Data.csv'\n",
    "\n",
    "for file in adventure_text_files:\n",
    "    testText = file[:-4] + endText\n",
    "    if testText not in adventure_csv_files:\n",
    "        adventure_text_files.remove(file)\n",
    "        \n",
    "for file in gothic_text_files:\n",
    "    testText = file[:-4] + endText\n",
    "    if testText not in gothic_csv_files:\n",
    "        gothic_text_files.remove(file)\n",
    "                \n",
    "for file in horror_text_files:\n",
    "    testText = file[:-4] + endText\n",
    "    if testText not in horror_csv_files:\n",
    "        horror_text_files.remove(file)        \n",
    "\n",
    "for file in humor_text_files:\n",
    "    testText = file[:-4] + endText\n",
    "    if testText not in humor_csv_files:\n",
    "        humor_text_files.remove(file)\n",
    "\n",
    "for file in mystery_text_files:\n",
    "    testText = file[:-4] + endText\n",
    "    if testText not in mystery_csv_files:\n",
    "        mystery_text_files.remove(file)\n",
    "        \n",
    "for file in scifi_text_files:\n",
    "    testText = file[:-4] + endText\n",
    "    if testText not in scifi_csv_files:\n",
    "        scifi_text_files.remove(file)\n",
    "        \n",
    "for file in western_text_files:\n",
    "    testText = file[:-4] + endText\n",
    "    if testText not in western_csv_files:\n",
    "        western_text_files.remove(file)"
   ]
  },
  {
   "cell_type": "code",
   "execution_count": 5,
   "metadata": {},
   "outputs": [],
   "source": [
    "random.seed(42)\n",
    "max_files = 80\n",
    "humor_text_files = random.sample(humor_text_files, max_files)\n",
    "scifi_text_files = random.sample(scifi_text_files, max_files)"
   ]
  },
  {
   "cell_type": "code",
   "execution_count": 6,
   "metadata": {},
   "outputs": [],
   "source": [
    "texts = []\n",
    "cats = []\n",
    "\n",
    "for file in adventure_text_files:\n",
    "    fileCat = 'adventure'\n",
    "    with open(file, 'r', encoding='utf-8') as f:\n",
    "        text = f.read()\n",
    "        texts.append(text)\n",
    "        cats.append(fileCat)\n",
    "\n",
    "for file in gothic_text_files:\n",
    "    fileCat = 'gothic'\n",
    "    with open(file, 'r', encoding='utf-8') as f:\n",
    "        text = f.read()\n",
    "        texts.append(text)\n",
    "        cats.append(fileCat)\n",
    "\n",
    "fileCat = 'horror'\n",
    "for file in horror_text_files:\n",
    "    with open(file, 'r', encoding='utf-8') as f:\n",
    "        text = f.read()\n",
    "        texts.append(text)\n",
    "        cats.append(fileCat)\n",
    "\n",
    "fileCat = 'humor'\n",
    "for file in humor_text_files:\n",
    "    with open(file, 'r', encoding='utf-8') as f:\n",
    "        text = f.read()\n",
    "        texts.append(text)\n",
    "        cats.append(fileCat)\n",
    "\n",
    "fileCat = 'mystery'\n",
    "for file in mystery_text_files:\n",
    "    with open(file, 'r', encoding='utf-8') as f:\n",
    "        text = f.read()\n",
    "        texts.append(text)\n",
    "        cats.append(fileCat)\n",
    "\n",
    "fileCat = 'scifi'\n",
    "for file in scifi_text_files:\n",
    "    with open(file, 'r', encoding='utf-8') as f:\n",
    "        text = f.read()\n",
    "        texts.append(text)\n",
    "        cats.append(fileCat)\n",
    "\n",
    "fileCat = 'western'\n",
    "for file in western_text_files:\n",
    "    with open(file, 'r', encoding='utf-8') as f:\n",
    "        text = f.read()\n",
    "        texts.append(text)\n",
    "        cats.append(fileCat)\n"
   ]
  },
  {
   "cell_type": "code",
   "execution_count": 6,
   "metadata": {
    "scrolled": true
   },
   "outputs": [
    {
     "name": "stdout",
     "output_type": "stream",
     "text": [
      "372 372\n"
     ]
    }
   ],
   "source": [
    "print(len(texts), len(cats))"
   ]
  },
  {
   "cell_type": "code",
   "execution_count": 7,
   "metadata": {},
   "outputs": [],
   "source": [
    "all_data = pd.DataFrame(np.array(texts))\n",
    "all_data['Category'] = cats\n",
    "all_data.columns = [\"text\", \"category\"]"
   ]
  },
  {
   "cell_type": "code",
   "execution_count": 9,
   "metadata": {},
   "outputs": [
    {
     "data": {
      "text/html": [
       "<div>\n",
       "<style scoped>\n",
       "    .dataframe tbody tr th:only-of-type {\n",
       "        vertical-align: middle;\n",
       "    }\n",
       "\n",
       "    .dataframe tbody tr th {\n",
       "        vertical-align: top;\n",
       "    }\n",
       "\n",
       "    .dataframe thead th {\n",
       "        text-align: right;\n",
       "    }\n",
       "</style>\n",
       "<table border=\"1\" class=\"dataframe\">\n",
       "  <thead>\n",
       "    <tr style=\"text-align: right;\">\n",
       "      <th></th>\n",
       "      <th>text</th>\n",
       "      <th>category</th>\n",
       "    </tr>\n",
       "  </thead>\n",
       "  <tbody>\n",
       "    <tr>\n",
       "      <th>0</th>\n",
       "      <td>﻿The Project Gutenberg EBook of Affair in Arab...</td>\n",
       "      <td>adventure</td>\n",
       "    </tr>\n",
       "    <tr>\n",
       "      <th>1</th>\n",
       "      <td>ï»¿The Project Gutenberg EBook of Allan and th...</td>\n",
       "      <td>adventure</td>\n",
       "    </tr>\n",
       "    <tr>\n",
       "      <th>2</th>\n",
       "      <td>ï»¿The Project Gutenberg eBook of Allan Quater...</td>\n",
       "      <td>adventure</td>\n",
       "    </tr>\n",
       "    <tr>\n",
       "      <th>3</th>\n",
       "      <td>ï»¿The Project Gutenberg EBook of Allanâs Wi...</td>\n",
       "      <td>adventure</td>\n",
       "    </tr>\n",
       "    <tr>\n",
       "      <th>4</th>\n",
       "      <td>﻿The Project Gutenberg EBook of Around the Wor...</td>\n",
       "      <td>adventure</td>\n",
       "    </tr>\n",
       "  </tbody>\n",
       "</table>\n",
       "</div>"
      ],
      "text/plain": [
       "                                                text   category\n",
       "0  ﻿The Project Gutenberg EBook of Affair in Arab...  adventure\n",
       "1  ï»¿The Project Gutenberg EBook of Allan and th...  adventure\n",
       "2  ï»¿The Project Gutenberg eBook of Allan Quater...  adventure\n",
       "3  ï»¿The Project Gutenberg EBook of Allanâs Wi...  adventure\n",
       "4  ﻿The Project Gutenberg EBook of Around the Wor...  adventure"
      ]
     },
     "execution_count": 9,
     "metadata": {},
     "output_type": "execute_result"
    }
   ],
   "source": [
    "all_data.head()"
   ]
  },
  {
   "cell_type": "code",
   "execution_count": 10,
   "metadata": {},
   "outputs": [
    {
     "data": {
      "text/html": [
       "<div>\n",
       "<style scoped>\n",
       "    .dataframe tbody tr th:only-of-type {\n",
       "        vertical-align: middle;\n",
       "    }\n",
       "\n",
       "    .dataframe tbody tr th {\n",
       "        vertical-align: top;\n",
       "    }\n",
       "\n",
       "    .dataframe thead th {\n",
       "        text-align: right;\n",
       "    }\n",
       "</style>\n",
       "<table border=\"1\" class=\"dataframe\">\n",
       "  <thead>\n",
       "    <tr style=\"text-align: right;\">\n",
       "      <th></th>\n",
       "      <th>text</th>\n",
       "      <th>category</th>\n",
       "    </tr>\n",
       "  </thead>\n",
       "  <tbody>\n",
       "    <tr>\n",
       "      <th>count</th>\n",
       "      <td>372</td>\n",
       "      <td>372</td>\n",
       "    </tr>\n",
       "    <tr>\n",
       "      <th>unique</th>\n",
       "      <td>357</td>\n",
       "      <td>7</td>\n",
       "    </tr>\n",
       "    <tr>\n",
       "      <th>top</th>\n",
       "      <td>ï»¿The Project Gutenberg EBook of The Works of...</td>\n",
       "      <td>scifi</td>\n",
       "    </tr>\n",
       "    <tr>\n",
       "      <th>freq</th>\n",
       "      <td>3</td>\n",
       "      <td>80</td>\n",
       "    </tr>\n",
       "  </tbody>\n",
       "</table>\n",
       "</div>"
      ],
      "text/plain": [
       "                                                     text category\n",
       "count                                                 372      372\n",
       "unique                                                357        7\n",
       "top     ï»¿The Project Gutenberg EBook of The Works of...    scifi\n",
       "freq                                                    3       80"
      ]
     },
     "execution_count": 10,
     "metadata": {},
     "output_type": "execute_result"
    }
   ],
   "source": [
    "all_data.describe()"
   ]
  },
  {
   "cell_type": "code",
   "execution_count": 8,
   "metadata": {},
   "outputs": [],
   "source": [
    "train_data, test_data = train_test_split(all_data, test_size = 0.20, random_state=42)"
   ]
  },
  {
   "cell_type": "code",
   "execution_count": 9,
   "metadata": {},
   "outputs": [
    {
     "data": {
      "text/plain": [
       "((297, 2), (75, 2))"
      ]
     },
     "execution_count": 9,
     "metadata": {},
     "output_type": "execute_result"
    }
   ],
   "source": [
    "train_data.shape, test_data.shape"
   ]
  },
  {
   "cell_type": "code",
   "execution_count": 10,
   "metadata": {},
   "outputs": [
    {
     "data": {
      "text/html": [
       "<div>\n",
       "<style scoped>\n",
       "    .dataframe tbody tr th:only-of-type {\n",
       "        vertical-align: middle;\n",
       "    }\n",
       "\n",
       "    .dataframe tbody tr th {\n",
       "        vertical-align: top;\n",
       "    }\n",
       "\n",
       "    .dataframe thead th {\n",
       "        text-align: right;\n",
       "    }\n",
       "</style>\n",
       "<table border=\"1\" class=\"dataframe\">\n",
       "  <thead>\n",
       "    <tr style=\"text-align: right;\">\n",
       "      <th></th>\n",
       "      <th>text</th>\n",
       "      <th>category</th>\n",
       "    </tr>\n",
       "  </thead>\n",
       "  <tbody>\n",
       "    <tr>\n",
       "      <th>count</th>\n",
       "      <td>297</td>\n",
       "      <td>297</td>\n",
       "    </tr>\n",
       "    <tr>\n",
       "      <th>unique</th>\n",
       "      <td>288</td>\n",
       "      <td>7</td>\n",
       "    </tr>\n",
       "    <tr>\n",
       "      <th>top</th>\n",
       "      <td>ï»¿The Project Gutenberg EBook of The Works of...</td>\n",
       "      <td>humor</td>\n",
       "    </tr>\n",
       "    <tr>\n",
       "      <th>freq</th>\n",
       "      <td>2</td>\n",
       "      <td>67</td>\n",
       "    </tr>\n",
       "  </tbody>\n",
       "</table>\n",
       "</div>"
      ],
      "text/plain": [
       "                                                     text category\n",
       "count                                                 297      297\n",
       "unique                                                288        7\n",
       "top     ï»¿The Project Gutenberg EBook of The Works of...    humor\n",
       "freq                                                    2       67"
      ]
     },
     "execution_count": 10,
     "metadata": {},
     "output_type": "execute_result"
    }
   ],
   "source": [
    "train_data.describe()"
   ]
  },
  {
   "cell_type": "code",
   "execution_count": 11,
   "metadata": {},
   "outputs": [
    {
     "data": {
      "text/html": [
       "<div>\n",
       "<style scoped>\n",
       "    .dataframe tbody tr th:only-of-type {\n",
       "        vertical-align: middle;\n",
       "    }\n",
       "\n",
       "    .dataframe tbody tr th {\n",
       "        vertical-align: top;\n",
       "    }\n",
       "\n",
       "    .dataframe thead th {\n",
       "        text-align: right;\n",
       "    }\n",
       "</style>\n",
       "<table border=\"1\" class=\"dataframe\">\n",
       "  <thead>\n",
       "    <tr style=\"text-align: right;\">\n",
       "      <th></th>\n",
       "      <th>text</th>\n",
       "      <th>category</th>\n",
       "    </tr>\n",
       "  </thead>\n",
       "  <tbody>\n",
       "    <tr>\n",
       "      <th>count</th>\n",
       "      <td>75</td>\n",
       "      <td>75</td>\n",
       "    </tr>\n",
       "    <tr>\n",
       "      <th>unique</th>\n",
       "      <td>75</td>\n",
       "      <td>7</td>\n",
       "    </tr>\n",
       "    <tr>\n",
       "      <th>top</th>\n",
       "      <td>ï»¿The Project Gutenberg eBook of Ayesha, by H...</td>\n",
       "      <td>adventure</td>\n",
       "    </tr>\n",
       "    <tr>\n",
       "      <th>freq</th>\n",
       "      <td>1</td>\n",
       "      <td>16</td>\n",
       "    </tr>\n",
       "  </tbody>\n",
       "</table>\n",
       "</div>"
      ],
      "text/plain": [
       "                                                     text   category\n",
       "count                                                  75         75\n",
       "unique                                                 75          7\n",
       "top     ï»¿The Project Gutenberg eBook of Ayesha, by H...  adventure\n",
       "freq                                                    1         16"
      ]
     },
     "execution_count": 11,
     "metadata": {},
     "output_type": "execute_result"
    }
   ],
   "source": [
    "test_data.describe()"
   ]
  },
  {
   "cell_type": "code",
   "execution_count": 15,
   "metadata": {},
   "outputs": [
    {
     "data": {
      "text/plain": [
       "<AxesSubplot:>"
      ]
     },
     "execution_count": 15,
     "metadata": {},
     "output_type": "execute_result"
    },
    {
     "data": {
      "image/png": "[encoded data removed]",
      "text/plain": [
       "<Figure size 432x288 with 1 Axes>"
      ]
     },
     "metadata": {
      "needs_background": "light"
     },
     "output_type": "display_data"
    }
   ],
   "source": [
    "train_data['category'].value_counts().plot(kind='bar')"
   ]
  },
  {
   "cell_type": "code",
   "execution_count": 16,
   "metadata": {},
   "outputs": [
    {
     "data": {
      "text/plain": [
       "<AxesSubplot:>"
      ]
     },
     "execution_count": 16,
     "metadata": {},
     "output_type": "execute_result"
    },
    {
     "data": {
      "image/png": "[encoded data removed]",
      "text/plain": [
       "<Figure size 432x288 with 1 Axes>"
      ]
     },
     "metadata": {
      "needs_background": "light"
     },
     "output_type": "display_data"
    }
   ],
   "source": [
    "test_data['category'].value_counts().plot(kind='bar')"
   ]
  },
  {
   "cell_type": "code",
   "execution_count": 10,
   "metadata": {},
   "outputs": [],
   "source": [
    "def line_is_marker(text):\n",
    "    foundStars = '***' in text\n",
    "    foundGutenberg = 'gutenberg' in text.lower()\n",
    "    return (foundStars and foundGutenberg)"
   ]
  },
  {
   "cell_type": "code",
   "execution_count": 11,
   "metadata": {},
   "outputs": [],
   "source": [
    "def remove_gutenberg_stuff(text):\n",
    "    lines = text.splitlines()\n",
    "    preamble_tag_found = False\n",
    "    postscript_tag_found = False\n",
    "    specialOverride = False # delete 10 lines after preamble\n",
    "    c = 0\n",
    "    for ndx, line in enumerate(lines):\n",
    "        if (specialOverride):\n",
    "            del lines[ndx]\n",
    "            c += 1\n",
    "            if (c == 10):\n",
    "                specialOverride = False\n",
    "        elif (line_is_marker(line)):\n",
    "            del lines[ndx] # never need to retain a marker line\n",
    "            if (not preamble_tag_found):\n",
    "                preamble_tag_found = True\n",
    "                specialOverride = True\n",
    "            elif (not postscript_tag_found):\n",
    "                postscript_tag_found = True\n",
    "        elif (not preamble_tag_found):\n",
    "            # haven't gotten through the preamble yet\n",
    "            del lines[ndx]\n",
    "        elif (postscript_tag_found):\n",
    "            # we're in the postscript\n",
    "            del lines[ndx]\n",
    "    if (preamble_tag_found):\n",
    "        # Only over-write text if we found the preamble line\n",
    "        text = '\\n'.join(lines)\n",
    "    return text"
   ]
  },
  {
   "cell_type": "code",
   "execution_count": 12,
   "metadata": {},
   "outputs": [],
   "source": [
    "def clean_text(text):\n",
    "    \"\"\"\n",
    "    Applies some pre-processing on the given text.\n",
    "\n",
    "    Steps :\n",
    "    - Remove preamble and postscript\n",
    "    - Remove url text\n",
    "    - Remove numbers\n",
    "    - Removing punctuation\n",
    "    - Lowering text\n",
    "    - Remove non-ascii\n",
    "    \"\"\"\n",
    "    # remove the characters [\\], ['] and [\"]\n",
    "    text = re.sub(r\"\\\\\", \"\", text)\n",
    "    \n",
    "    # remove preamble and postscript\n",
    "    text = remove_gutenberg_stuff(text)\n",
    "    text = re.sub(r\"(distributed proofreading)\", \"\", text)\n",
    "    text = re.sub(r\"(proofreading team)\", \"\", text)\n",
    "    text = re.sub(r\"(proofreading)\", \"\", text)\n",
    "    text = re.sub(r\"(proofread)\", \"\", text)\n",
    "    text = re.sub(r\"(etext)\", \"\", text)\n",
    "    text = re.sub(r\"(team pgdpnet)\", \"\", text)\n",
    "    text = re.sub(r\"(pgdpnet)\", \"\", text)\n",
    "    text = re.sub(r\"(transcribers note)\", \"\", text)\n",
    "    text = re.sub(r\"(transcribers)\", \"\", text)\n",
    "    text = re.sub(r\"(transcribe)\", \"\", text)\n",
    "    \n",
    "    # remove the characters [\\], ['] and [\"]\n",
    "    text = re.sub(r\"\\\\\", \"\", text)    \n",
    "    text = re.sub(r\"\\'\", \"\", text)    \n",
    "    text = re.sub(r\"\\\"\", \"\", text)\n",
    "    \n",
    "    # remove numbers including unsigned / signed integers and floats\n",
    "    text = re.sub(r\"[0-9]+\", \"\", text)\n",
    "    text = re.sub(r\"[-0-9]+\", \"\", text)\n",
    "    text = re.sub(r\"[+.0-9]+\", \"\", text)\n",
    "    \n",
    "    # convert text to lowercase\n",
    "    text = text.strip().lower()\n",
    "    \n",
    "    # replace punctuation characters with spaces\n",
    "    filters='!\"\\'#$%&()*+,-./:;<=>?@[\\\\]^_`{|}~\\t\\n'\n",
    "    translate_dict = dict((c, \" \") for c in filters)\n",
    "    translate_map = str.maketrans(translate_dict)\n",
    "    text = text.translate(translate_map)\n",
    "    \n",
    "    # remove url text\n",
    "    text = re.sub(r\"(http)*\", \"\", text)\n",
    "    text = re.sub(r\"(www)*\", \"\", text)\n",
    "    \n",
    "    # remove non-ascii characters\n",
    "    text = re.sub(r'[^\\x00-\\x7F]+','', text)\n",
    "\n",
    "    return text"
   ]
  },
  {
   "cell_type": "markdown",
   "metadata": {},
   "source": [
    "***"
   ]
  },
  {
   "cell_type": "markdown",
   "metadata": {},
   "source": [
    "### First attempt:\n",
    "Using CountVectorizer and LinearSVC"
   ]
  },
  {
   "cell_type": "code",
   "execution_count": 22,
   "metadata": {},
   "outputs": [],
   "source": [
    "# Transform each text into a vector of word counts\n",
    "# CountVectorizer calls preprocessor, filters stopwords, and tokenizes to sparse matrix\n",
    "# \"Count\" is a crude metric since longer books will naturally have more words\n",
    "vectorizer = CountVectorizer(stop_words=\"english\",\n",
    "                             preprocessor=clean_text,\n",
    "                             strip_accents=\"ascii\",\n",
    "                             max_df = 0.9, min_df = 0.2)"
   ]
  },
  {
   "cell_type": "code",
   "execution_count": 23,
   "metadata": {},
   "outputs": [],
   "source": [
    "train_features = vectorizer.fit_transform(train_data[\"text\"])    \n",
    "test_features = vectorizer.transform(test_data[\"text\"])"
   ]
  },
  {
   "cell_type": "code",
   "execution_count": 24,
   "metadata": {},
   "outputs": [
    {
     "name": "stderr",
     "output_type": "stream",
     "text": [
      "C:\\Users\\clayj\\anaconda3\\lib\\site-packages\\sklearn\\svm\\_base.py:976: ConvergenceWarning: Liblinear failed to converge, increase the number of iterations.\n",
      "  warnings.warn(\"Liblinear failed to converge, increase \"\n"
     ]
    }
   ],
   "source": [
    "# Training\n",
    "model = LinearSVC()\n",
    "model.fit(train_features, train_data[\"category\"])\n",
    "y_pred_0 = model.predict(test_features)"
   ]
  },
  {
   "cell_type": "code",
   "execution_count": 25,
   "metadata": {},
   "outputs": [
    {
     "name": "stdout",
     "output_type": "stream",
     "text": [
      "Accuracy: 76.00\n"
     ]
    }
   ],
   "source": [
    "# Evaluation\n",
    "acc = accuracy_score(test_data[\"category\"], y_pred_0)\n",
    "print(\"Accuracy: {:.2f}\".format(acc*100))"
   ]
  },
  {
   "cell_type": "code",
   "execution_count": 26,
   "metadata": {},
   "outputs": [
    {
     "name": "stdout",
     "output_type": "stream",
     "text": [
      "6447\n"
     ]
    }
   ],
   "source": [
    "#dictionary of feature indices, it's length is the number of features (words) in the data set\n",
    "print(len(vectorizer.get_feature_names()))"
   ]
  },
  {
   "cell_type": "markdown",
   "metadata": {},
   "source": [
    "***"
   ]
  },
  {
   "cell_type": "markdown",
   "metadata": {},
   "source": [
    "### Second attempt:\n",
    "Using TF_IDF with 2-word ngram and LinearSVC"
   ]
  },
  {
   "cell_type": "code",
   "execution_count": 27,
   "metadata": {
    "scrolled": true
   },
   "outputs": [
    {
     "name": "stdout",
     "output_type": "stream",
     "text": [
      "Accuracy with ngram: 73.33\n"
     ]
    }
   ],
   "source": [
    "# Transform each text into a vector of word counts\n",
    "# TF (Term Frequency) times IDF (Inverse Document Frequency) is better than a count vectorizer\n",
    "# TF measures words by frequency to normalize for book length\n",
    "# IDF reduces the weight of words that appear in many documents\n",
    "vectorizer = TfidfVectorizer(stop_words=\"english\",\n",
    "                             preprocessor=clean_text,\n",
    "                             ngram_range=(1, 2))\n",
    "\n",
    "train_features = vectorizer.fit_transform(train_data[\"text\"])\n",
    "test_features = vectorizer.transform(test_data[\"text\"])\n",
    "\n",
    "# Training\n",
    "model = LinearSVC()\n",
    "model.fit(train_features, train_data[\"category\"])\n",
    "y_pred_1 = model.predict(test_features)\n",
    "\n",
    "# Evaluation\n",
    "acc = accuracy_score(test_data[\"category\"], y_pred_1)\n",
    "\n",
    "print(\"Accuracy with ngram: {:.2f}\".format(acc*100))"
   ]
  },
  {
   "cell_type": "code",
   "execution_count": 16,
   "metadata": {},
   "outputs": [],
   "source": [
    "def print_top10(vectorizer, clf, class_labels):\n",
    "    \"\"\"Prints features with the highest coefficient values, per class\"\"\"\n",
    "    feature_names = vectorizer.get_feature_names()\n",
    "    for i, class_label in enumerate(class_labels):\n",
    "        top10 = np.argsort(clf.coef_[i])[-10:]\n",
    "        print(\"%s: %s\" % (class_label,\n",
    "              \", \".join(feature_names[j] for j in top10)))"
   ]
  },
  {
   "cell_type": "code",
   "execution_count": 17,
   "metadata": {},
   "outputs": [],
   "source": [
    "def print_topn(vectorizer, clf, class_labels, n):\n",
    "    \"\"\"Prints features with the highest coefficient values, per class\"\"\"\n",
    "    feature_names = vectorizer.get_feature_names()\n",
    "    for i, class_label in enumerate(class_labels):\n",
    "        topn = np.argsort(clf.coef_[i])[-n:]\n",
    "        print(\"%s: %s\" % (class_label,\n",
    "              \", \".join(feature_names[j] for j in topn)))\n",
    "        print()"
   ]
  },
  {
   "cell_type": "code",
   "execution_count": 30,
   "metadata": {},
   "outputs": [
    {
     "name": "stdout",
     "output_type": "stream",
     "text": [
      "(297, 4229451)\n",
      "<class 'scipy.sparse.csr.csr_matrix'>\n"
     ]
    }
   ],
   "source": [
    "print(train_features.shape)\n",
    "print(type(train_features))"
   ]
  },
  {
   "cell_type": "code",
   "execution_count": 31,
   "metadata": {},
   "outputs": [
    {
     "data": {
      "text/plain": [
       "array(['adventure'], dtype=object)"
      ]
     },
     "execution_count": 31,
     "metadata": {},
     "output_type": "execute_result"
    }
   ],
   "source": [
    "little_text = \"\"\"white fang\"\"\"\n",
    "little_test = vectorizer.transform([little_text])\n",
    "model.predict(little_test)"
   ]
  },
  {
   "cell_type": "markdown",
   "metadata": {},
   "source": [
    "### Repeat second attempt:\n",
    "Using TF_IDF with 2-word ngram and LinearSVC this time with min_df to eliminate very rare words<br>\n",
    "(specifically character names) and max_df for very common words"
   ]
  },
  {
   "cell_type": "code",
   "execution_count": 32,
   "metadata": {
    "scrolled": true
   },
   "outputs": [
    {
     "name": "stdout",
     "output_type": "stream",
     "text": [
      "Accuracy with ngram: 77.33\n"
     ]
    }
   ],
   "source": [
    "# Transform each text into a vector of word counts\n",
    "# TF (Term Frequency) times IDF (Inverse Document Frequency) is better than a count vectorizer\n",
    "# TF measures words by frequency to normalize for book length\n",
    "# IDF reduces the weight of words that appear in many documents\n",
    "vectorizer = TfidfVectorizer(stop_words=\"english\",\n",
    "                             preprocessor=clean_text,\n",
    "                             ngram_range=(1, 2),\n",
    "                             min_df=0.2,\n",
    "                             max_df=0.9)\n",
    "\n",
    "train_features = vectorizer.fit_transform(train_data[\"text\"])\n",
    "test_features = vectorizer.transform(test_data[\"text\"])\n",
    "\n",
    "# Training\n",
    "model = LinearSVC()\n",
    "model.fit(train_features, train_data[\"category\"])\n",
    "y_pred_1 = model.predict(test_features)\n",
    "\n",
    "# Evaluation\n",
    "acc = accuracy_score(test_data[\"category\"], y_pred_1)\n",
    "\n",
    "print(\"Accuracy with ngram: {:.2f}\".format(acc*100))"
   ]
  },
  {
   "cell_type": "code",
   "execution_count": 33,
   "metadata": {},
   "outputs": [
    {
     "name": "stdout",
     "output_type": "stream",
     "text": [
      "(297, 8374)\n",
      "<class 'scipy.sparse.csr.csr_matrix'>\n"
     ]
    }
   ],
   "source": [
    "print(train_features.shape)\n",
    "print(type(train_features))"
   ]
  },
  {
   "cell_type": "code",
   "execution_count": 34,
   "metadata": {},
   "outputs": [
    {
     "data": {
      "text/plain": [
       "array(['adventure'], dtype=object)"
      ]
     },
     "execution_count": 34,
     "metadata": {},
     "output_type": "execute_result"
    }
   ],
   "source": [
    "little_text = \"\"\"white fang\"\"\"\n",
    "little_test = vectorizer.transform([little_text])\n",
    "model.predict(little_test)"
   ]
  },
  {
   "cell_type": "markdown",
   "metadata": {},
   "source": [
    "***"
   ]
  },
  {
   "cell_type": "markdown",
   "metadata": {},
   "source": [
    "### Second attempt - part 3\n",
    "Grid search for hyperparameters"
   ]
  },
  {
   "cell_type": "code",
   "execution_count": null,
   "metadata": {},
   "outputs": [],
   "source": [
    "# for mindf in [0, 0.1, 0.2]:\n",
    "#     for maxdf in [.3]:\n",
    "#         vectorizer = TfidfVectorizer(stop_words=\"english\",\n",
    "#                              preprocessor=clean_text,\n",
    "#                              ngram_range=(1, 2),\n",
    "#                              min_df=mindf,\n",
    "#                              max_df=maxdf)\n",
    "\n",
    "#         train_features = vectorizer.fit_transform(train_data[\"text\"])\n",
    "#         test_features = vectorizer.transform(test_data[\"text\"])\n",
    "\n",
    "#         # Training\n",
    "#         model = LinearSVC()\n",
    "#         model.fit(train_features, train_data[\"category\"])\n",
    "#         yhat_train = model.predict(train_features)\n",
    "#         yhat_test = model.predict(test_features)\n",
    "\n",
    "#         # Evaluation\n",
    "#         acc_train = accuracy_score(train_data[\"category\"], yhat_train)\n",
    "#         acc_test = accuracy_score(test_data[\"category\"], yhat_test)\n",
    "\n",
    "#         print(mindf, maxdf, acc_train, acc_test)"
   ]
  },
  {
   "cell_type": "markdown",
   "metadata": {},
   "source": [
    "Very good values for hyperparameters:<br>\n",
    "ngram_range=(1,2)<br>\n",
    "min_df=0.2<br>\n",
    "max_df=0.3<br>"
   ]
  },
  {
   "cell_type": "code",
   "execution_count": null,
   "metadata": {
    "scrolled": true
   },
   "outputs": [],
   "source": [
    "train_features.shape"
   ]
  },
  {
   "cell_type": "markdown",
   "metadata": {},
   "source": [
    "***"
   ]
  },
  {
   "cell_type": "markdown",
   "metadata": {},
   "source": [
    "### Best SVC\n",
    "Best hyperparameters, improved stop words"
   ]
  },
  {
   "cell_type": "code",
   "execution_count": 13,
   "metadata": {
    "scrolled": true
   },
   "outputs": [
    {
     "name": "stdout",
     "output_type": "stream",
     "text": [
      "Train accuracy:  0.9663299663299664\n",
      "Train accuracy:  0.8133333333333334\n"
     ]
    }
   ],
   "source": [
    "vectorizer = TfidfVectorizer(stop_words=\"english\",\n",
    "                     preprocessor=clean_text,\n",
    "                     ngram_range=(1, 2),\n",
    "                     min_df=0.2,\n",
    "                     max_df=0.3)\n",
    "\n",
    "train_features = vectorizer.fit_transform(train_data[\"text\"])\n",
    "test_features = vectorizer.transform(test_data[\"text\"])\n",
    "\n",
    "# Training\n",
    "model = LinearSVC()\n",
    "model.fit(train_features, train_data[\"category\"])\n",
    "yhat_train = model.predict(train_features)\n",
    "yhat_test = model.predict(test_features)\n",
    "\n",
    "# Evaluation\n",
    "acc_train = accuracy_score(train_data[\"category\"], yhat_train)\n",
    "acc_test = accuracy_score(test_data[\"category\"], yhat_test)\n",
    "\n",
    "print(\"Train accuracy: \", acc_train)\n",
    "print(\"Train accuracy: \", acc_test)"
   ]
  },
  {
   "cell_type": "code",
   "execution_count": 14,
   "metadata": {
    "scrolled": true
   },
   "outputs": [
    {
     "data": {
      "image/png": "[encoded data removed]",
      "text/plain": [
       "<Figure size 576x576 with 2 Axes>"
      ]
     },
     "metadata": {
      "needs_background": "light"
     },
     "output_type": "display_data"
    }
   ],
   "source": [
    "fig, ax = plt.subplots(figsize=(8,8))\n",
    "plot_confusion_matrix(model, train_features, train_data[\"category\"],\n",
    "                          cmap = plt.cm.Blues,\n",
    "                          normalize=None, ax=ax)\n",
    "plt.title(\"Train data\")\n",
    "plt.show()"
   ]
  },
  {
   "cell_type": "code",
   "execution_count": 37,
   "metadata": {
    "scrolled": true
   },
   "outputs": [
    {
     "data": {
      "image/png": "[encoded data removed]",
      "text/plain": [
       "<Figure size 576x576 with 2 Axes>"
      ]
     },
     "metadata": {
      "needs_background": "light"
     },
     "output_type": "display_data"
    }
   ],
   "source": [
    "fig, ax = plt.subplots(figsize=(8,8))\n",
    "plot_confusion_matrix(model, test_features, test_data[\"category\"],\n",
    "                          cmap = plt.cm.Blues,\n",
    "                          normalize=None, ax=ax)\n",
    "plt.title(\"Test data\")\n",
    "plt.show()"
   ]
  },
  {
   "cell_type": "code",
   "execution_count": 38,
   "metadata": {},
   "outputs": [
    {
     "data": {
      "text/plain": [
       "array(['western'], dtype=object)"
      ]
     },
     "execution_count": 38,
     "metadata": {},
     "output_type": "execute_result"
    }
   ],
   "source": [
    "little_text = \"\"\"shoot the dang ol rabbit before the colonel drinks some whisky\n",
    "                 and brings his revolver back from the creek\"\"\"\n",
    "little_test = vectorizer.transform([little_text])\n",
    "model.predict(little_test)"
   ]
  },
  {
   "cell_type": "code",
   "execution_count": 39,
   "metadata": {
    "scrolled": true
   },
   "outputs": [
    {
     "data": {
      "text/plain": [
       "((297, 3015), (75, 3015))"
      ]
     },
     "execution_count": 39,
     "metadata": {},
     "output_type": "execute_result"
    }
   ],
   "source": [
    "train_features.shape, test_features.shape"
   ]
  },
  {
   "cell_type": "code",
   "execution_count": 40,
   "metadata": {
    "scrolled": true
   },
   "outputs": [
    {
     "data": {
      "text/plain": [
       "['abide copies',\n",
       " 'able make',\n",
       " 'aboard',\n",
       " 'abode',\n",
       " 'abreast',\n",
       " 'abuse',\n",
       " 'abyss',\n",
       " 'accent',\n",
       " 'accents',\n",
       " 'acceptance',\n",
       " 'accidental',\n",
       " 'accidentally',\n",
       " 'accidents',\n",
       " 'accompanying',\n",
       " 'accounted',\n",
       " 'accuracy',\n",
       " 'accurately',\n",
       " 'accursed',\n",
       " 'accuse',\n",
       " 'ache',\n",
       " 'ached',\n",
       " 'achieved',\n",
       " 'acknowledged',\n",
       " 'acquaintances',\n",
       " 'acres',\n",
       " 'acute',\n",
       " 'ad',\n",
       " 'adjoining',\n",
       " 'admirable',\n",
       " 'admirably',\n",
       " 'admission',\n",
       " 'admitting',\n",
       " 'adopt',\n",
       " 'adorned',\n",
       " 'afar',\n",
       " 'affectionate',\n",
       " 'affections',\n",
       " 'afflicted',\n",
       " 'afforded',\n",
       " 'afoot',\n",
       " 'africa',\n",
       " 'aged',\n",
       " 'agents',\n",
       " 'aghast',\n",
       " 'agin',\n",
       " 'agree trademark',\n",
       " 'agreement works',\n",
       " 'ah said',\n",
       " 'aided',\n",
       " 'aint got',\n",
       " 'alarming',\n",
       " 'alien',\n",
       " 'alight',\n",
       " 'allusion',\n",
       " 'almighty',\n",
       " 'aloft',\n",
       " 'aloof',\n",
       " 'altar',\n",
       " 'alternately',\n",
       " 'amateur',\n",
       " 'ambitious',\n",
       " 'amidst',\n",
       " 'ammunition',\n",
       " 'amounted',\n",
       " 'amuse',\n",
       " 'ancestors',\n",
       " 'anchor',\n",
       " 'angels',\n",
       " 'angles',\n",
       " 'animated',\n",
       " 'ankle',\n",
       " 'ankles',\n",
       " 'announce',\n",
       " 'announcement',\n",
       " 'announcing',\n",
       " 'annoyance',\n",
       " 'annoying',\n",
       " 'anothers',\n",
       " 'answer question',\n",
       " 'anticipation',\n",
       " 'appalled',\n",
       " 'apparition',\n",
       " 'appealing',\n",
       " 'appearances',\n",
       " 'applause',\n",
       " 'apple',\n",
       " 'application',\n",
       " 'appointment',\n",
       " 'appreciated',\n",
       " 'appropriate',\n",
       " 'approve',\n",
       " 'apron',\n",
       " 'arch',\n",
       " 'archive educational',\n",
       " 'armchair',\n",
       " 'arranging',\n",
       " 'arrives',\n",
       " 'arrow',\n",
       " 'artificial',\n",
       " 'artistic',\n",
       " 'artists',\n",
       " 'arts',\n",
       " 'ascended',\n",
       " 'ascent',\n",
       " 'ascertain',\n",
       " 'ascertained',\n",
       " 'ascii license',\n",
       " 'ashore',\n",
       " 'asked question',\n",
       " 'asked questions',\n",
       " 'asked said',\n",
       " 'ass',\n",
       " 'assailed',\n",
       " 'assault',\n",
       " 'assembly',\n",
       " 'assent',\n",
       " 'assert',\n",
       " 'assertion',\n",
       " 'assigned',\n",
       " 'assistant',\n",
       " 'assisted',\n",
       " 'association',\n",
       " 'assuming',\n",
       " 'assuredly',\n",
       " 'astounded',\n",
       " 'attacking',\n",
       " 'attacks',\n",
       " 'attain',\n",
       " 'attained',\n",
       " 'attendance',\n",
       " 'attendant',\n",
       " 'attendants',\n",
       " 'attentive',\n",
       " 'attentively',\n",
       " 'attraction',\n",
       " 'attribute',\n",
       " 'attributed',\n",
       " 'authorities',\n",
       " 'authors',\n",
       " 'automatic',\n",
       " 'automatically',\n",
       " 'avail',\n",
       " 'averted',\n",
       " 'await',\n",
       " 'awakening',\n",
       " 'away like',\n",
       " 'away said',\n",
       " 'away time',\n",
       " 'awayyou subject',\n",
       " 'awed',\n",
       " 'awkwardly',\n",
       " 'axe',\n",
       " 'ay',\n",
       " 'aye',\n",
       " 'babies',\n",
       " 'backwards',\n",
       " 'bacon',\n",
       " 'baggage',\n",
       " 'bags',\n",
       " 'bah',\n",
       " 'balanced',\n",
       " 'bald',\n",
       " 'balls',\n",
       " 'bands',\n",
       " 'bang',\n",
       " 'banged',\n",
       " 'barked',\n",
       " 'barking',\n",
       " 'barn',\n",
       " 'barrels',\n",
       " 'basin',\n",
       " 'basis',\n",
       " 'basket',\n",
       " 'bat',\n",
       " 'battered',\n",
       " 'beach',\n",
       " 'beads',\n",
       " 'beam',\n",
       " 'beamed',\n",
       " 'beaming',\n",
       " 'beams',\n",
       " 'beans',\n",
       " 'bearings',\n",
       " 'bears',\n",
       " 'beastly',\n",
       " 'beats',\n",
       " 'beauties',\n",
       " 'bedside',\n",
       " 'beef',\n",
       " 'beer',\n",
       " 'bees',\n",
       " 'began feel',\n",
       " 'began talk',\n",
       " 'began think',\n",
       " 'begging',\n",
       " 'behave',\n",
       " 'behaved',\n",
       " 'bein',\n",
       " 'believe said',\n",
       " 'believes',\n",
       " 'bellowed',\n",
       " 'belly',\n",
       " 'belongings',\n",
       " 'best thing',\n",
       " 'best way',\n",
       " 'bestowed',\n",
       " 'betraying',\n",
       " 'better let',\n",
       " 'better said',\n",
       " 'bewilderment',\n",
       " 'bible',\n",
       " 'big man',\n",
       " 'bind',\n",
       " 'birthday',\n",
       " 'biting',\n",
       " 'bitten',\n",
       " 'black eyes',\n",
       " 'black hair',\n",
       " 'blackened',\n",
       " 'blamed',\n",
       " 'blankly',\n",
       " 'bleak',\n",
       " 'blended',\n",
       " 'blinded',\n",
       " 'blinding',\n",
       " 'blinking',\n",
       " 'blocked',\n",
       " 'blocks',\n",
       " 'bloom',\n",
       " 'blot',\n",
       " 'blue sky',\n",
       " 'bluff',\n",
       " 'blunt',\n",
       " 'blurred',\n",
       " 'blush',\n",
       " 'blushing',\n",
       " 'boast',\n",
       " 'boasted',\n",
       " 'boats',\n",
       " 'boiled',\n",
       " 'boiling',\n",
       " 'bond',\n",
       " 'bonds',\n",
       " 'booming',\n",
       " 'bordered',\n",
       " 'borders',\n",
       " 'boss',\n",
       " 'bothered',\n",
       " 'bound entity',\n",
       " 'bowed head',\n",
       " 'bows',\n",
       " 'boy said',\n",
       " 'boyhood',\n",
       " 'boyish',\n",
       " 'brace',\n",
       " 'braced',\n",
       " 'brandy',\n",
       " 'bravely',\n",
       " 'breathlessly',\n",
       " 'bred',\n",
       " 'breed',\n",
       " 'brick',\n",
       " 'bridle',\n",
       " 'brightness',\n",
       " 'brim',\n",
       " 'brisk',\n",
       " 'briskly',\n",
       " 'bronze',\n",
       " 'brooded',\n",
       " 'brought home',\n",
       " 'bruised',\n",
       " 'brushing',\n",
       " 'brutes',\n",
       " 'bucket',\n",
       " 'bump',\n",
       " 'bumped',\n",
       " 'bunk',\n",
       " 'burns',\n",
       " 'busied',\n",
       " 'busily',\n",
       " 'bust',\n",
       " 'bustle',\n",
       " 'butter',\n",
       " 'button',\n",
       " 'buttons',\n",
       " 'buying',\n",
       " 'cabinet',\n",
       " 'cage',\n",
       " 'cake',\n",
       " 'calamity',\n",
       " 'calf',\n",
       " 'calmness',\n",
       " 'came door',\n",
       " 'came forward',\n",
       " 'came home',\n",
       " 'came little',\n",
       " 'came near',\n",
       " 'came running',\n",
       " 'came said',\n",
       " 'came sight',\n",
       " 'came sound',\n",
       " 'came way',\n",
       " 'came went',\n",
       " 'campaign',\n",
       " 'camped',\n",
       " 'candles',\n",
       " 'cane',\n",
       " 'cannon',\n",
       " 'captains',\n",
       " 'captive',\n",
       " 'capture',\n",
       " 'carelessness',\n",
       " 'carried away',\n",
       " 'carries',\n",
       " 'cars',\n",
       " 'cart',\n",
       " 'casting',\n",
       " 'catastrophe',\n",
       " 'cause electronic',\n",
       " 'cave',\n",
       " 'cell',\n",
       " 'cellar',\n",
       " 'cents',\n",
       " 'certainly did',\n",
       " 'chains',\n",
       " 'chambers',\n",
       " 'chanced',\n",
       " 'changed mind',\n",
       " 'channel',\n",
       " 'chaos',\n",
       " 'chaps',\n",
       " 'chapter ii',\n",
       " 'chapter iii',\n",
       " 'chapter iv',\n",
       " 'chapter ix',\n",
       " 'chapter vi',\n",
       " 'chapter vii',\n",
       " 'chapter viii',\n",
       " 'chapter xi',\n",
       " 'chapter xii',\n",
       " 'chapter xiii',\n",
       " 'chapter xiv',\n",
       " 'chapter xv',\n",
       " 'chapter xvi',\n",
       " 'charms',\n",
       " 'chased',\n",
       " 'chasing',\n",
       " 'chat',\n",
       " 'chatter',\n",
       " 'chattering',\n",
       " 'check downloading',\n",
       " 'checking',\n",
       " 'cheered',\n",
       " 'cheerfulness',\n",
       " 'cheering',\n",
       " 'cheery',\n",
       " 'cheese',\n",
       " 'cherished',\n",
       " 'chewing',\n",
       " 'chicken',\n",
       " 'chickens',\n",
       " 'chilly',\n",
       " 'chimney',\n",
       " 'china',\n",
       " 'chinese',\n",
       " 'choke',\n",
       " 'choosing',\n",
       " 'christmas',\n",
       " 'chuckle',\n",
       " 'cigars',\n",
       " 'circled',\n",
       " 'circling',\n",
       " 'circuit',\n",
       " 'circular',\n",
       " 'citizens',\n",
       " 'civilized',\n",
       " 'clad',\n",
       " 'clasp',\n",
       " 'classes',\n",
       " 'cleaned',\n",
       " 'cleaning',\n",
       " 'clearer',\n",
       " 'click',\n",
       " 'cliffs',\n",
       " 'climate',\n",
       " 'climax',\n",
       " 'cling',\n",
       " 'close hand',\n",
       " 'closet',\n",
       " 'clouded',\n",
       " 'clump',\n",
       " 'clumsy',\n",
       " 'clutching',\n",
       " 'coach',\n",
       " 'coal',\n",
       " 'coals',\n",
       " 'coats',\n",
       " 'cocked',\n",
       " 'code',\n",
       " 'coffin',\n",
       " 'coiled',\n",
       " 'coincidence',\n",
       " 'coldness',\n",
       " 'collapse',\n",
       " 'collapsed',\n",
       " 'collecting',\n",
       " 'colonel',\n",
       " 'colored',\n",
       " 'colors',\n",
       " 'colours',\n",
       " 'columns',\n",
       " 'combat',\n",
       " 'come know',\n",
       " 'come look',\n",
       " 'come near',\n",
       " 'come right',\n",
       " 'come tell',\n",
       " 'come think',\n",
       " 'come way',\n",
       " 'comforted',\n",
       " 'comforting',\n",
       " 'comic',\n",
       " 'comin',\n",
       " 'commands',\n",
       " 'commented',\n",
       " 'comments',\n",
       " 'commercial read',\n",
       " 'common sense',\n",
       " 'commonplace',\n",
       " 'commotion',\n",
       " 'communicate',\n",
       " 'communicated',\n",
       " 'community',\n",
       " 'compact',\n",
       " 'companionship',\n",
       " 'comparative',\n",
       " 'compare',\n",
       " 'compass',\n",
       " 'compassion',\n",
       " 'competition',\n",
       " 'complacently',\n",
       " 'complex',\n",
       " 'complicated',\n",
       " 'compliments',\n",
       " 'composition',\n",
       " 'composure',\n",
       " 'comprehend',\n",
       " 'comprehension',\n",
       " 'computers efforts',\n",
       " 'comrade',\n",
       " 'comrades',\n",
       " 'concealing',\n",
       " 'concealment',\n",
       " 'conceive',\n",
       " 'conception',\n",
       " 'concerning states',\n",
       " 'concerns',\n",
       " 'conclusions',\n",
       " 'condemned',\n",
       " 'confession',\n",
       " 'confide',\n",
       " 'confided',\n",
       " 'confidential',\n",
       " 'confidently',\n",
       " 'conflict',\n",
       " 'confound',\n",
       " 'confounded',\n",
       " 'congratulate',\n",
       " 'conjecture',\n",
       " 'conquer',\n",
       " 'conquered',\n",
       " 'considerable public',\n",
       " 'consisting',\n",
       " 'consolation',\n",
       " 'conspicuous',\n",
       " 'consternation',\n",
       " 'constituted',\n",
       " 'constitution',\n",
       " 'constructed',\n",
       " 'construction',\n",
       " 'consultation',\n",
       " 'consulted',\n",
       " 'consulting',\n",
       " 'contact additional',\n",
       " 'contact page',\n",
       " 'contain corrupt',\n",
       " 'contemplated',\n",
       " 'contemplation',\n",
       " 'contemptuous',\n",
       " 'contemptuously',\n",
       " 'contest',\n",
       " 'continent',\n",
       " 'continual',\n",
       " 'continuing',\n",
       " 'continuous',\n",
       " 'contracted',\n",
       " 'contributed',\n",
       " 'controlled',\n",
       " 'conventional',\n",
       " 'converse',\n",
       " 'converted',\n",
       " 'convincing',\n",
       " 'convulsively',\n",
       " 'coolness',\n",
       " 'copied charges',\n",
       " 'copies money',\n",
       " 'copper',\n",
       " 'copy opportunities',\n",
       " 'cord',\n",
       " 'cordial',\n",
       " 'corner room',\n",
       " 'correctly',\n",
       " 'correspondence',\n",
       " 'corresponding',\n",
       " 'cottage',\n",
       " 'cotton',\n",
       " 'cough',\n",
       " 'coughed',\n",
       " 'council',\n",
       " 'counsel',\n",
       " 'counter',\n",
       " 'countless',\n",
       " 'course know',\n",
       " 'course said',\n",
       " 'courteous',\n",
       " 'courts',\n",
       " 'courtyard',\n",
       " 'covers',\n",
       " 'cracking',\n",
       " 'crackling',\n",
       " 'craft',\n",
       " 'cramped',\n",
       " 'crashed',\n",
       " 'crashing',\n",
       " 'crawling',\n",
       " 'creaking',\n",
       " 'cream',\n",
       " 'create',\n",
       " 'creek',\n",
       " 'crest',\n",
       " 'crimes',\n",
       " 'crippled',\n",
       " 'crisp',\n",
       " 'criticism',\n",
       " 'crop',\n",
       " 'crouching',\n",
       " 'crowding',\n",
       " 'crowds',\n",
       " 'crowned',\n",
       " 'crude',\n",
       " 'cruelty',\n",
       " 'crumpled',\n",
       " 'crush',\n",
       " 'crushing',\n",
       " 'crystal',\n",
       " 'cue',\n",
       " 'cultivated',\n",
       " 'culture',\n",
       " 'cupboard',\n",
       " 'cups',\n",
       " 'curling',\n",
       " 'curses',\n",
       " 'curved',\n",
       " 'curves',\n",
       " 'cushions',\n",
       " 'customers',\n",
       " 'customs',\n",
       " 'cut short',\n",
       " 'cuts',\n",
       " 'dad',\n",
       " 'dainty',\n",
       " 'damages law',\n",
       " 'dances',\n",
       " 'dangers',\n",
       " 'dangling',\n",
       " 'dark eyes',\n",
       " 'darker',\n",
       " 'darkly',\n",
       " 'darned',\n",
       " 'dashing',\n",
       " 'date returns',\n",
       " 'david',\n",
       " 'dawned',\n",
       " 'day long',\n",
       " 'day said',\n",
       " 'daybreak',\n",
       " 'days ago',\n",
       " 'days later',\n",
       " 'days nights',\n",
       " 'days work',\n",
       " 'dazzling',\n",
       " 'dead man',\n",
       " 'dear old',\n",
       " 'dear said',\n",
       " 'dear sir',\n",
       " 'dearly',\n",
       " 'deaths',\n",
       " 'debt',\n",
       " 'december',\n",
       " 'declaration',\n",
       " 'decline',\n",
       " 'decorated',\n",
       " 'deemed',\n",
       " 'deep breath',\n",
       " 'deepened',\n",
       " 'deepest',\n",
       " 'deer',\n",
       " 'defeated',\n",
       " 'defence',\n",
       " 'defended',\n",
       " 'deference',\n",
       " 'defined',\n",
       " 'definitely',\n",
       " 'defy',\n",
       " 'deliberation',\n",
       " 'delicacy',\n",
       " 'delicately',\n",
       " 'delirium',\n",
       " 'demanding',\n",
       " 'demonstration',\n",
       " 'den',\n",
       " 'departing',\n",
       " 'department',\n",
       " 'deposit',\n",
       " 'depressed',\n",
       " 'deprived',\n",
       " 'derivative removed',\n",
       " 'derived posted',\n",
       " 'describing',\n",
       " 'designs',\n",
       " 'desires',\n",
       " 'desolation',\n",
       " 'despairing',\n",
       " 'desperation',\n",
       " 'despise',\n",
       " 'despised',\n",
       " 'destined',\n",
       " 'destiny',\n",
       " 'detached',\n",
       " 'detailed',\n",
       " 'detain',\n",
       " 'detained',\n",
       " 'detect',\n",
       " 'deuce',\n",
       " 'develop',\n",
       " 'device',\n",
       " 'devilish',\n",
       " 'devote',\n",
       " 'devotion',\n",
       " 'devoured',\n",
       " 'dew',\n",
       " 'diamonds',\n",
       " 'did answer',\n",
       " 'did ask',\n",
       " 'did believe',\n",
       " 'did best',\n",
       " 'did dare',\n",
       " 'did good',\n",
       " 'did happen',\n",
       " 'did leave',\n",
       " 'did little',\n",
       " 'did long',\n",
       " 'did need',\n",
       " 'did notice',\n",
       " 'did quite',\n",
       " 'did stop',\n",
       " 'did wish',\n",
       " 'didnt care',\n",
       " 'didnt come',\n",
       " 'didnt like',\n",
       " 'didnt mean',\n",
       " 'didnt tell',\n",
       " 'dies',\n",
       " 'differently',\n",
       " 'dim light',\n",
       " 'diminished',\n",
       " 'din',\n",
       " 'dine',\n",
       " 'dined',\n",
       " 'dining',\n",
       " 'dipped',\n",
       " 'disappearance',\n",
       " 'disapproval',\n",
       " 'discarded',\n",
       " 'discharge',\n",
       " 'discharged',\n",
       " 'discipline',\n",
       " 'disclosed',\n",
       " 'discomfort',\n",
       " 'disconcerted',\n",
       " 'discouraged',\n",
       " 'discretion',\n",
       " 'discussed',\n",
       " 'discussing',\n",
       " 'disgrace',\n",
       " 'disguised',\n",
       " 'dish',\n",
       " 'disliked',\n",
       " 'dismiss',\n",
       " 'dismounted',\n",
       " 'disorder',\n",
       " 'dispute',\n",
       " 'distances',\n",
       " 'distorted',\n",
       " 'distracted',\n",
       " 'distressed',\n",
       " 'distributing gutenbergtm',\n",
       " 'distribution terms',\n",
       " 'distrust',\n",
       " 'disturbing',\n",
       " 'ditch',\n",
       " 'dived',\n",
       " 'divide',\n",
       " 'division',\n",
       " 'document',\n",
       " 'dodge',\n",
       " 'does know',\n",
       " 'does make',\n",
       " 'doesnt know',\n",
       " 'dogged',\n",
       " 'doin',\n",
       " 'doings',\n",
       " 'donate solicit',\n",
       " 'donate works',\n",
       " 'donations writing',\n",
       " 'dont ask',\n",
       " 'dont come',\n",
       " 'dont forget',\n",
       " 'dont look',\n",
       " 'dont need',\n",
       " 'dont remember',\n",
       " 'dont suppose',\n",
       " 'dont talk',\n",
       " 'dont tell',\n",
       " 'dont worry',\n",
       " 'doom',\n",
       " 'door closed',\n",
       " 'door locked',\n",
       " 'door shut',\n",
       " 'dose',\n",
       " 'dotted',\n",
       " 'doubly',\n",
       " 'doubtfully',\n",
       " 'doubting',\n",
       " 'dozen times',\n",
       " 'drained',\n",
       " 'drama',\n",
       " 'dramatic',\n",
       " 'draught',\n",
       " 'drawer',\n",
       " 'drawers',\n",
       " 'drawingroom',\n",
       " 'draws',\n",
       " 'dreadfully',\n",
       " 'dreamy',\n",
       " 'dresses',\n",
       " 'drew near',\n",
       " 'drew nearer',\n",
       " 'drinks',\n",
       " 'dripping',\n",
       " 'drives',\n",
       " 'drooped',\n",
       " 'drooping',\n",
       " 'drown',\n",
       " 'drowning',\n",
       " 'drowsy',\n",
       " 'drug',\n",
       " 'drum',\n",
       " 'dryly',\n",
       " 'duck',\n",
       " 'ducked',\n",
       " 'duke',\n",
       " 'dully',\n",
       " 'duly',\n",
       " 'dusky',\n",
       " 'dutch',\n",
       " 'dwell',\n",
       " 'eagle',\n",
       " 'earliest',\n",
       " 'earnestness',\n",
       " 'eased',\n",
       " 'eastward',\n",
       " 'eats',\n",
       " 'echoes',\n",
       " 'ecstasy',\n",
       " 'edged',\n",
       " 'editions renamed',\n",
       " 'editor',\n",
       " 'effected',\n",
       " 'effective',\n",
       " 'effectually',\n",
       " 'efficient',\n",
       " 'egg',\n",
       " 'ejaculated',\n",
       " 'elapsed',\n",
       " 'elderly',\n",
       " 'eldest',\n",
       " 'elegant',\n",
       " 'elephant',\n",
       " 'eloquence',\n",
       " 'embraced',\n",
       " 'emerge',\n",
       " 'emergency',\n",
       " 'emerging',\n",
       " 'emphatically',\n",
       " 'empire',\n",
       " 'employer',\n",
       " 'employment',\n",
       " 'en',\n",
       " 'enclosed',\n",
       " 'encourage',\n",
       " 'encouragement',\n",
       " 'encouraging',\n",
       " 'end room',\n",
       " 'endurance',\n",
       " 'engage',\n",
       " 'engineer',\n",
       " 'english produced',\n",
       " 'englishman',\n",
       " 'entered room',\n",
       " 'entertained',\n",
       " 'entertaining',\n",
       " 'entertainment',\n",
       " 'entity receive',\n",
       " 'entry',\n",
       " 'envelope',\n",
       " 'enveloped',\n",
       " 'episode',\n",
       " 'equipped',\n",
       " 'er',\n",
       " 'erected',\n",
       " 'escaping',\n",
       " 'escort',\n",
       " 'essence',\n",
       " 'essential',\n",
       " 'establish',\n",
       " 'establishment',\n",
       " 'esteem',\n",
       " 'eternity',\n",
       " 'eve',\n",
       " 'exactly like',\n",
       " 'exaggerated',\n",
       " 'exalted',\n",
       " 'excepting',\n",
       " 'excite',\n",
       " 'excitedly',\n",
       " 'excused',\n",
       " 'excuses',\n",
       " 'executed',\n",
       " 'execution',\n",
       " 'exempt charities',\n",
       " 'exercised',\n",
       " 'exhaustion',\n",
       " 'exhibit',\n",
       " 'exhibited',\n",
       " 'exhibition',\n",
       " 'expanse',\n",
       " 'expedient',\n",
       " 'expensive',\n",
       " 'explains',\n",
       " 'exploded',\n",
       " 'explore',\n",
       " 'expressing',\n",
       " 'expression face',\n",
       " 'expressions',\n",
       " 'extend',\n",
       " 'extending',\n",
       " 'extract',\n",
       " 'extracted',\n",
       " 'extravagant',\n",
       " 'exultation',\n",
       " 'eyeing',\n",
       " 'eyelids',\n",
       " 'eyes closed',\n",
       " 'eyes did',\n",
       " 'eyes face',\n",
       " 'eyes like',\n",
       " 'eyes met',\n",
       " 'eyes open',\n",
       " 'eyes opened',\n",
       " 'eyes said',\n",
       " 'eyes saw',\n",
       " 'eyes turned',\n",
       " 'face did',\n",
       " 'face eyes',\n",
       " 'face hands',\n",
       " 'face like',\n",
       " 'face looked',\n",
       " 'face turned',\n",
       " 'face white',\n",
       " 'faculty',\n",
       " 'fade',\n",
       " 'fading',\n",
       " 'fails',\n",
       " 'fainted',\n",
       " 'faintest',\n",
       " 'fainting',\n",
       " 'fairy',\n",
       " 'faithfully',\n",
       " 'faltered',\n",
       " 'familiarity',\n",
       " 'fan',\n",
       " 'fancies',\n",
       " 'far concerned',\n",
       " 'farmer',\n",
       " 'faroff',\n",
       " 'farthest',\n",
       " 'fascinating',\n",
       " 'fascination',\n",
       " 'fashionable',\n",
       " 'fashioned',\n",
       " 'fasten',\n",
       " 'father mother',\n",
       " 'father said',\n",
       " 'fatigue',\n",
       " 'faults',\n",
       " 'favored',\n",
       " 'favour',\n",
       " 'favourite',\n",
       " 'fearfully',\n",
       " 'fearless',\n",
       " 'feat',\n",
       " 'february',\n",
       " 'fee agreed',\n",
       " 'feebly',\n",
       " 'fees cause',\n",
       " 'feet high',\n",
       " 'fell asleep',\n",
       " 'feller',\n",
       " 'felt sure',\n",
       " 'ferocity',\n",
       " 'fetched',\n",
       " 'feverish',\n",
       " 'fewer',\n",
       " 'fiend',\n",
       " 'fights',\n",
       " 'film',\n",
       " 'fireplace',\n",
       " 'firmness',\n",
       " 'fishing',\n",
       " 'fits',\n",
       " 'fixedly',\n",
       " 'fixing',\n",
       " 'flag',\n",
       " 'flaming',\n",
       " 'flank',\n",
       " 'flannel',\n",
       " 'flapping',\n",
       " 'flared',\n",
       " 'flashes',\n",
       " 'flattened',\n",
       " 'flattered',\n",
       " 'fleet',\n",
       " 'fleeting',\n",
       " 'flicker',\n",
       " 'flickered',\n",
       " 'flickering',\n",
       " 'fling',\n",
       " 'flitted',\n",
       " 'float',\n",
       " 'flock',\n",
       " 'flooded',\n",
       " 'floors',\n",
       " 'flown',\n",
       " 'flutter',\n",
       " 'fluttered',\n",
       " 'fluttering',\n",
       " 'foam',\n",
       " 'foe',\n",
       " 'fold',\n",
       " 'folding',\n",
       " 'folds',\n",
       " 'foliage',\n",
       " 'folk',\n",
       " 'followers',\n",
       " 'following day',\n",
       " 'foolishness',\n",
       " 'footing',\n",
       " 'forbid',\n",
       " 'forbidding',\n",
       " 'forcibly',\n",
       " 'forefinger',\n",
       " 'foremost',\n",
       " 'foreseen',\n",
       " 'forests',\n",
       " 'forgiven',\n",
       " 'fork',\n",
       " 'forlorn',\n",
       " 'formats distributed',\n",
       " 'formats gutenbergorg',\n",
       " 'formidable',\n",
       " 'fort',\n",
       " 'forthwith',\n",
       " 'fortnight',\n",
       " 'fortunes',\n",
       " 'fortyfive',\n",
       " 'foundation agreement',\n",
       " 'foundation gutenbergtm',\n",
       " 'fox',\n",
       " 'fraction',\n",
       " ...]"
      ]
     },
     "execution_count": 40,
     "metadata": {},
     "output_type": "execute_result"
    }
   ],
   "source": [
    "vectorizer.get_feature_names()"
   ]
  },
  {
   "cell_type": "code",
   "execution_count": 41,
   "metadata": {
    "scrolled": true
   },
   "outputs": [
    {
     "name": "stdout",
     "output_type": "stream",
     "text": [
      "adventure: whilst, david, majesty, lions, identical, snarled, ashore, diamonds, boats, colonel, axe, ay, regiment, corresponding, slaves, englishman, prisoners, duke, africa, december, folk, white man, priests, india, rome, elephant, hut, nay, dear old, la\n",
      "\n",
      "gothic: passions, fancies, saint, readers, consolation, guilt, sensations, favourite, old lady, youthful, said mrs, terrace, gallery, hearth, mankind, thank god, greek, affections, nay, housekeeper, wifes, pleasures, lawyer, physician, van, princess, cabinet, cottage, heights, madam\n",
      "\n",
      "horror: cord, abode, neighbours, recognised, council, episode, brick, gardens, coffin, lamps, lesser, luminous, theories, student, cellar, personality, inn, cupboard, candles, neighbourhood, fireplace, ghosts, grove, lawyer, occurrence, italian, tent, whilst, unto, tomb\n",
      "\n",
      "humor: major, farmer, fiend, er, president, lookin, egg, cents, shoe, fox, vote, william, jove, visit gutenbergorg, hull, governor, wan, yer, said mrs, apple, porter, christmas, beastly, sam, punch, agin, bein, fairy, poet, ass\n",
      "\n",
      "mystery: cabinet, old gentleman, skies, intellect, islands, sailor, termed, highway, madam, plump, waistcoat, reckoned, disappearance, unaccountable, vessel, maiden, contemplation, drawer, old lady, angels, ha ha, sittingroom, roses, indians, journal, guardian, nephew, peter, birthday, van\n",
      "\n",
      "scifi: headquarters, crashing, machinery, voice came, demonstration, scout, lieutenant, jewels, tunnel, kids, craft, automatically, silvery, labour, warriors, switch, tube, button, needle, tom, beam, alien, chambers, online distributed, crystal, automatic, formats distributed, transcribers, transcribers note, planet\n",
      "\n",
      "western: balls, hoofs, jim, colonel, nothin, pines, lone, spurs, rabbit, bridle, hunter, burns, boss, git, revolver, big man, bluff, gale, whisky, queried, pat, coach, san, bunk, creek, harry, outfit, dad, indians, riders\n",
      "\n"
     ]
    }
   ],
   "source": [
    "class_labels = model.classes_\n",
    "print_topn(vectorizer, model, class_labels, 30)"
   ]
  },
  {
   "cell_type": "code",
   "execution_count": 21,
   "metadata": {
    "scrolled": false
   },
   "outputs": [
    {
     "name": "stdout",
     "output_type": "stream",
     "text": [
      "adventure: elephant, hut, nay, dear old, la\n",
      "\n",
      "gothic: princess, cabinet, cottage, heights, madam\n",
      "\n",
      "horror: italian, tent, whilst, unto, tomb\n",
      "\n",
      "humor: agin, bein, fairy, poet, ass\n",
      "\n",
      "mystery: guardian, nephew, peter, birthday, van\n",
      "\n",
      "scifi: automatic, formats distributed, transcribers, transcribers note, planet\n",
      "\n",
      "western: harry, outfit, dad, indians, riders\n",
      "\n"
     ]
    }
   ],
   "source": [
    "class_labels = model.classes_\n",
    "print_topn(vectorizer, model, class_labels, 5)"
   ]
  },
  {
   "cell_type": "code",
   "execution_count": 53,
   "metadata": {},
   "outputs": [],
   "source": [
    "# ourStopWords = ['distributed',\n",
    "#                 'proofreading',\n",
    "#                 'proofread',\n",
    "#                 'etext',\n",
    "#                 'pgdpnet',\n",
    "#                 'transcribers',\n",
    "#                 'transcribe',\n",
    "#                 'gutenberg',\n",
    "#                 'chapter',\n",
    "#                 'gutenbergorg',\n",
    "#                 'online'\n",
    "#                ]"
   ]
  },
  {
   "cell_type": "code",
   "execution_count": 54,
   "metadata": {},
   "outputs": [],
   "source": [
    "# stop_words = text.ENGLISH_STOP_WORDS.union(ourStopWords)"
   ]
  },
  {
   "cell_type": "code",
   "execution_count": 43,
   "metadata": {},
   "outputs": [],
   "source": [
    "#vectorizer.get_stop_words()"
   ]
  },
  {
   "cell_type": "markdown",
   "metadata": {},
   "source": [
    "***"
   ]
  },
  {
   "cell_type": "markdown",
   "metadata": {},
   "source": [
    "Also tried MultinomialNB and SGDClassifier but not as good as LinearSVC "
   ]
  },
  {
   "cell_type": "markdown",
   "metadata": {},
   "source": [
    "***"
   ]
  },
  {
   "cell_type": "markdown",
   "metadata": {},
   "source": [
    "### KMeans clustering\n",
    "See if there is inherent structure in the 372 examples as they exist in 3015-dimentional feature space."
   ]
  },
  {
   "cell_type": "code",
   "execution_count": 18,
   "metadata": {
    "scrolled": true
   },
   "outputs": [
    {
     "data": {
      "text/plain": [
       "(372, 3015)"
      ]
     },
     "execution_count": 18,
     "metadata": {},
     "output_type": "execute_result"
    }
   ],
   "source": [
    "all_features = vectorizer.transform(all_data[\"text\"])\n",
    "all_features.shape"
   ]
  },
  {
   "cell_type": "code",
   "execution_count": 19,
   "metadata": {},
   "outputs": [
    {
     "data": {
      "text/plain": [
       "3015"
      ]
     },
     "execution_count": 19,
     "metadata": {},
     "output_type": "execute_result"
    }
   ],
   "source": [
    "feature_names = vectorizer.get_feature_names()\n",
    "len(feature_names)"
   ]
  },
  {
   "cell_type": "code",
   "execution_count": 46,
   "metadata": {},
   "outputs": [
    {
     "data": {
      "text/plain": [
       "-331.38998016822626"
      ]
     },
     "execution_count": 46,
     "metadata": {},
     "output_type": "execute_result"
    }
   ],
   "source": [
    "kmeans = KMeans(n_clusters=2, random_state=0)\n",
    "kmeans.fit(all_features)\n",
    "kmeans.score(all_features)"
   ]
  },
  {
   "cell_type": "code",
   "execution_count": 47,
   "metadata": {},
   "outputs": [
    {
     "data": {
      "text/plain": [
       "array([  1,   2,   3,   4,   5,   6,   7,   8,   9,  10,  35,  60,  85,\n",
       "       110, 135, 160, 185, 210, 235, 260, 285, 310, 335])"
      ]
     },
     "execution_count": 47,
     "metadata": {},
     "output_type": "execute_result"
    }
   ],
   "source": [
    "n = np.concatenate((np.arange(1, 10, 1),\n",
    "                    np.arange(10, 350, 25)))\n",
    "n"
   ]
  },
  {
   "cell_type": "code",
   "execution_count": 48,
   "metadata": {},
   "outputs": [],
   "source": [
    "scores = []\n",
    "for nc in n:\n",
    "    kmeans=KMeans(n_clusters=nc, random_state=42)\n",
    "    kmeans.fit(all_features)\n",
    "    thisscore = kmeans.score(all_features)\n",
    "    scores.append(-thisscore)"
   ]
  },
  {
   "cell_type": "code",
   "execution_count": 49,
   "metadata": {},
   "outputs": [
    {
     "data": {
      "image/png": "[encoded data removed]",
      "text/plain": [
       "<Figure size 432x288 with 1 Axes>"
      ]
     },
     "metadata": {
      "needs_background": "light"
     },
     "output_type": "display_data"
    }
   ],
   "source": [
    "plt.plot(n, scores)\n",
    "plt.title(\"KMeans Score\")\n",
    "plt.xlabel(\"Number of Clusters\")\n",
    "plt.show()"
   ]
  },
  {
   "cell_type": "markdown",
   "metadata": {},
   "source": [
    "Not really clear what to learn from that<br>\n",
    "Was hoping to see an inflection where score suddently stepped down."
   ]
  },
  {
   "cell_type": "markdown",
   "metadata": {},
   "source": [
    "***"
   ]
  },
  {
   "cell_type": "markdown",
   "metadata": {},
   "source": [
    "### Silhouette Coefficient\n",
    "Silhouette Coefficient measures distance between clusters, i.e. \"cluster cohesion\""
   ]
  },
  {
   "cell_type": "code",
   "execution_count": 50,
   "metadata": {},
   "outputs": [
    {
     "data": {
      "text/plain": [
       "array([  2,   3,   4,   5,   6,   7,   8,   9,  10,  35,  60,  85, 110,\n",
       "       135, 160, 185, 210, 235, 260, 285, 310, 335])"
      ]
     },
     "execution_count": 50,
     "metadata": {},
     "output_type": "execute_result"
    }
   ],
   "source": [
    "n = np.concatenate((np.arange(2, 10, 1),\n",
    "                    np.arange(10, 350, 25)))\n",
    "n"
   ]
  },
  {
   "cell_type": "code",
   "execution_count": 51,
   "metadata": {},
   "outputs": [],
   "source": [
    "sil_scores = []\n",
    "for nc in n:\n",
    "    kmeans=KMeans(n_clusters=nc, random_state=42)\n",
    "    kmeans.fit(all_features)\n",
    "    thisscore = silhouette_score(all_features, kmeans.labels_)\n",
    "    sil_scores.append(thisscore)"
   ]
  },
  {
   "cell_type": "code",
   "execution_count": 52,
   "metadata": {},
   "outputs": [
    {
     "data": {
      "image/png": "[encoded data removed]",
      "text/plain": [
       "<Figure size 432x288 with 1 Axes>"
      ]
     },
     "metadata": {
      "needs_background": "light"
     },
     "output_type": "display_data"
    }
   ],
   "source": [
    "plt.plot(n, sil_scores)\n",
    "plt.title(\"Silhouette Coefficient\")\n",
    "plt.xlabel(\"Number of Clusters\")\n",
    "plt.show()"
   ]
  },
  {
   "cell_type": "markdown",
   "metadata": {},
   "source": [
    "Range of Silhouette Coefficient is (-1, 1) with higher numbers meaning better clusters.<br>\n",
    "Based on cluster cohesion, the amount of clustering is relatively small."
   ]
  },
  {
   "cell_type": "markdown",
   "metadata": {},
   "source": [
    "***"
   ]
  },
  {
   "cell_type": "markdown",
   "metadata": {},
   "source": [
    "### Fixed cluster size\n",
    "We have 7 genres, compute 7 clusters based on feature space and assess whether or not<br>\n",
    "the clusters predict genre, i.e. do like genres naturally cluster together?"
   ]
  },
  {
   "cell_type": "code",
   "execution_count": 20,
   "metadata": {},
   "outputs": [],
   "source": [
    "def biggest_cluster_for_genre(cluster_lists, genre):\n",
    "    col_norm_cluster_lists = cluster_lists.copy()\n",
    "    for i in range(len(col_norm_cluster_lists[0])):\n",
    "        col_sum = col_norm_cluster_lists[:, i].sum()\n",
    "        if col_sum != 0:\n",
    "            col_norm_cluster_lists[:, i] = col_norm_cluster_lists[:, i] / col_sum\n",
    "        else:\n",
    "            pass\n",
    "    col_ndx = np.argwhere(catlab == genre)\n",
    "    max_index_row = np.argmax(col_norm_cluster_lists[:,col_ndx])\n",
    "    return max_index_row"
   ]
  },
  {
   "cell_type": "code",
   "execution_count": 21,
   "metadata": {},
   "outputs": [],
   "source": [
    "def biggest_genre_for_cluster(cluster_lists, cluster):\n",
    "    row_norm_cluster_lists = cluster_lists / cluster_lists.sum(axis=1, keepdims=1)\n",
    "    max_genre_ndx = np.argmax(row_norm_cluster_lists[cluster])\n",
    "    return catlab[max_genre_ndx]"
   ]
  },
  {
   "cell_type": "code",
   "execution_count": 22,
   "metadata": {},
   "outputs": [],
   "source": [
    "def conv_score(cluster_lists, cluster):\n",
    "    '''returns scalar score that is the dot product\n",
    "    i.e. \"convolution\" of makeup and distribution\n",
    "    A high score means most of the cluster is in\n",
    "    genres where it is the primary cluster for that genre(s)'''\n",
    "    m = makeup(cluster_lists, cluster)\n",
    "    d = distr(cluster_lists, cluster)\n",
    "    return np.dot(m, d)"
   ]
  },
  {
   "cell_type": "code",
   "execution_count": 23,
   "metadata": {},
   "outputs": [],
   "source": [
    "def makeup(cluster_lists, cluster):\n",
    "    '''returns array of dimension [genres].\n",
    "    array contains the fraction of each genre made up by\n",
    "    books in the designated cluster.\n",
    "    In other words, the designated cluster makes up what\n",
    "    fraction of each genre'''\n",
    "    \n",
    "    col_norm_cluster_lists = cluster_lists.copy()\n",
    "    for i in range(len(col_norm_cluster_lists[0])):\n",
    "        col_sum = col_norm_cluster_lists[:, i].sum()\n",
    "        if col_sum != 0:\n",
    "            col_norm_cluster_lists[:, i] = col_norm_cluster_lists[:, i] / col_sum\n",
    "        else:\n",
    "            pass\n",
    "    return col_norm_cluster_lists[cluster]"
   ]
  },
  {
   "cell_type": "code",
   "execution_count": 24,
   "metadata": {},
   "outputs": [],
   "source": [
    "def distr(cluster_lists, cluster):\n",
    "    '''returns array of dimension [genres].\n",
    "    array contains the fraction of the designated cluster\n",
    "    that is in each genre.\n",
    "    In other words, how much of the designated cluster is\n",
    "    in each genre'''\n",
    "    \n",
    "    row_norm_cluster_lists = cluster_lists / cluster_lists.sum(axis=1, keepdims=1)\n",
    "    return row_norm_cluster_lists[cluster]"
   ]
  },
  {
   "cell_type": "code",
   "execution_count": 25,
   "metadata": {},
   "outputs": [],
   "source": [
    "def conv_scores(cluster_lists):    \n",
    "    cs = []\n",
    "    for c in range(len(cluster_lists)):\n",
    "#    for c in range(len(cluster_lists[0])):\n",
    "        cs.append(conv_score(cluster_lists, c))\n",
    "    return cs"
   ]
  },
  {
   "cell_type": "code",
   "execution_count": 26,
   "metadata": {},
   "outputs": [],
   "source": [
    "def countStrong(cs):\n",
    "    cutoff = 0.3\n",
    "    count = 0\n",
    "    for c in cs:\n",
    "        if (c >= cutoff):\n",
    "            count += 1\n",
    "    return count"
   ]
  },
  {
   "cell_type": "code",
   "execution_count": 27,
   "metadata": {},
   "outputs": [],
   "source": [
    "def StrongClusterCount(n_clusters):\n",
    "    ''' Runs KMeans with specified number of clusters\n",
    "    Compares clusters to book genres using the Conv Score metric\n",
    "    Returns the number of clusters that are \"strong\" relative to genres'''\n",
    "    \n",
    "    # Find clusters\n",
    "    kmeans = KMeans(n_clusters=n_clusters, random_state=42)\n",
    "    kmeans.fit(all_features)\n",
    "    clusters = kmeans.predict(all_features)\n",
    "    \n",
    "    # Count books of each cluster that appear in each genre\n",
    "    cl = np.zeros((n_clusters, len(catlab)))\n",
    "    \n",
    "    for r in range(len(clusters)):\n",
    "        for s in range(n_clusters):\n",
    "            if (clusters[r] == s):\n",
    "                cl[s, np.argwhere(catlab == all_data[\"category\"][r])] += 1\n",
    "    \n",
    "    return countStrong(conv_scores(cl))"
   ]
  },
  {
   "cell_type": "code",
   "execution_count": 28,
   "metadata": {},
   "outputs": [],
   "source": [
    "kmeans = KMeans(n_clusters=7, random_state=42)\n",
    "kmeans.fit(all_features)\n",
    "clusters = kmeans.predict(all_features)"
   ]
  },
  {
   "cell_type": "code",
   "execution_count": null,
   "metadata": {},
   "outputs": [],
   "source": [
    "# plt.hist(clusters)\n",
    "# plt.show()"
   ]
  },
  {
   "cell_type": "code",
   "execution_count": null,
   "metadata": {},
   "outputs": [],
   "source": [
    "# plt.hist(all_data[\"category\"])\n",
    "# plt.show()"
   ]
  },
  {
   "cell_type": "code",
   "execution_count": 29,
   "metadata": {},
   "outputs": [],
   "source": [
    "catlab = np.unique(all_data[\"category\"])\n",
    "cluster_0 = np.zeros_like(catlab)\n",
    "cluster_1 = np.zeros_like(catlab)\n",
    "cluster_2 = np.zeros_like(catlab)\n",
    "cluster_3 = np.zeros_like(catlab)\n",
    "cluster_4 = np.zeros_like(catlab)\n",
    "cluster_5 = np.zeros_like(catlab)\n",
    "cluster_6 = np.zeros_like(catlab)\n",
    "\n",
    "for r in range(len(clusters)):\n",
    "    if (clusters[r] == 0):\n",
    "        cluster_0[np.argwhere(catlab == all_data[\"category\"][r])] += 1\n",
    "    elif (clusters[r] == 1):\n",
    "        cluster_1[np.argwhere(catlab == all_data[\"category\"][r])] += 1\n",
    "    elif (clusters[r] == 2):\n",
    "        cluster_2[np.argwhere(catlab == all_data[\"category\"][r])] += 1\n",
    "    elif (clusters[r] == 3):\n",
    "        cluster_3[np.argwhere(catlab == all_data[\"category\"][r])] += 1\n",
    "    elif (clusters[r] == 4):\n",
    "        cluster_4[np.argwhere(catlab == all_data[\"category\"][r])] += 1\n",
    "    elif (clusters[r] == 5):\n",
    "        cluster_5[np.argwhere(catlab == all_data[\"category\"][r])] += 1\n",
    "    elif (clusters[r] == 6):\n",
    "        cluster_6[np.argwhere(catlab == all_data[\"category\"][r])] += 1"
   ]
  },
  {
   "cell_type": "code",
   "execution_count": 30,
   "metadata": {},
   "outputs": [],
   "source": [
    "cluster_lists = np.array([cluster_0, cluster_1, cluster_2, cluster_3, \n",
    "                          cluster_4, cluster_5, cluster_6])"
   ]
  },
  {
   "cell_type": "code",
   "execution_count": null,
   "metadata": {},
   "outputs": [],
   "source": [
    "# labels, counts = np.unique(cluster_humor, return_counts=True)\n",
    "# plt.bar(labels, counts, align='center')\n",
    "# plt.title(\"Clusters for Humor\")\n",
    "# #plt.xlim(0,6)\n",
    "# plt.show()"
   ]
  },
  {
   "cell_type": "code",
   "execution_count": 72,
   "metadata": {},
   "outputs": [
    {
     "data": {
      "image/png": "[encoded data removed]",
      "text/plain": [
       "<Figure size 432x288 with 1 Axes>"
      ]
     },
     "metadata": {
      "needs_background": "light"
     },
     "output_type": "display_data"
    }
   ],
   "source": [
    "ind = np.arange(7)\n",
    "width = 0.35\n",
    "fig, ax = plt.subplots()\n",
    "\n",
    "p1 = ax.bar(ind, cluster_0, width, label='0', color=['black'])\n",
    "p2 = ax.bar(ind, cluster_1, width, label='1', color=['gray'], bottom=cluster_0)\n",
    "p3 = ax.bar(ind, cluster_2, width, label='2', color=['pink'], bottom=cluster_0+cluster_1)\n",
    "p4 = ax.bar(ind, cluster_3, width, label='3', color=['orange'], bottom=cluster_0+cluster_1+cluster_2)\n",
    "p5 = ax.bar(ind, cluster_4, width, label='4', color=['lightgreen'], bottom=cluster_0+cluster_1+cluster_2+cluster_3)\n",
    "p6 = ax.bar(ind, cluster_5, width, label='5', color=['cornflowerblue'], bottom=cluster_0+cluster_1+cluster_2+cluster_3+cluster_4)\n",
    "p7 = ax.bar(ind, cluster_6, width, label='6', color=['darkturquoise'], bottom=cluster_0+cluster_1+cluster_2+cluster_3+cluster_4+cluster_5)\n",
    "\n",
    "ax.set_ylabel('Book count')\n",
    "ax.set_title('Clusters vs Book Genres')\n",
    "ax.set_xticks(ind)\n",
    "ax.set_xticklabels(catlab)\n",
    "ax.legend(loc='center left', bbox_to_anchor=(1, 0.5))\n",
    "\n",
    "plt.show()"
   ]
  },
  {
   "cell_type": "code",
   "execution_count": 31,
   "metadata": {},
   "outputs": [
    {
     "name": "stdout",
     "output_type": "stream",
     "text": [
      "[0.23843417119279187, 0.238462911597079, 0.08052112029384756, 0.07323012722448811, 0.5873890532544378, 0.5554151442508699, 0.5818208326760959]\n"
     ]
    }
   ],
   "source": [
    "cs7 = conv_scores(cluster_lists)\n",
    "print(cs7)"
   ]
  },
  {
   "cell_type": "markdown",
   "metadata": {},
   "source": [
    "Looking at that chart, it almost seems like we really have 4 categories:<br>\n",
    "Cluster 0 and 1 == adventure<br>\n",
    "Cluster 5 = gothic, horror, humor, and mystery<br>\n",
    "Cluster 6 = scifi<br>\n",
    "Cluster 4 = western<br>\n",
    "(Clusters 2 and 3 don't include many books)"
   ]
  },
  {
   "cell_type": "markdown",
   "metadata": {},
   "source": [
    "***"
   ]
  },
  {
   "cell_type": "markdown",
   "metadata": {},
   "source": [
    "### Cluster analysis based on 4 clusters"
   ]
  },
  {
   "cell_type": "code",
   "execution_count": 86,
   "metadata": {},
   "outputs": [],
   "source": [
    "kmeans = KMeans(n_clusters=4, random_state=42)\n",
    "kmeans.fit(all_features)\n",
    "clusters = kmeans.predict(all_features)"
   ]
  },
  {
   "cell_type": "code",
   "execution_count": 74,
   "metadata": {},
   "outputs": [],
   "source": [
    "catlab = np.unique(all_data[\"category\"])\n",
    "cluster_0 = np.zeros_like(catlab)\n",
    "cluster_1 = np.zeros_like(catlab)\n",
    "cluster_2 = np.zeros_like(catlab)\n",
    "cluster_3 = np.zeros_like(catlab)\n",
    "\n",
    "for r in range(len(clusters)):\n",
    "    if (clusters[r] == 0):\n",
    "        cluster_0[np.argwhere(catlab == all_data[\"category\"][r])] += 1\n",
    "    elif (clusters[r] == 1):\n",
    "        cluster_1[np.argwhere(catlab == all_data[\"category\"][r])] += 1\n",
    "    elif (clusters[r] == 2):\n",
    "        cluster_2[np.argwhere(catlab == all_data[\"category\"][r])] += 1\n",
    "    elif (clusters[r] == 3):\n",
    "        cluster_3[np.argwhere(catlab == all_data[\"category\"][r])] += 1"
   ]
  },
  {
   "cell_type": "code",
   "execution_count": 75,
   "metadata": {},
   "outputs": [],
   "source": [
    "cluster_lists = np.array([cluster_0, cluster_1, cluster_2, cluster_3])"
   ]
  },
  {
   "cell_type": "code",
   "execution_count": null,
   "metadata": {},
   "outputs": [],
   "source": [
    "# for i in catlab:\n",
    "#     print(biggest_cluster_for_genre(cluster_lists, i))"
   ]
  },
  {
   "cell_type": "code",
   "execution_count": null,
   "metadata": {},
   "outputs": [],
   "source": [
    "# for i in range(4):\n",
    "#     print(biggest_genre_for_cluster(cluster_lists, i))"
   ]
  },
  {
   "cell_type": "code",
   "execution_count": 77,
   "metadata": {
    "scrolled": true
   },
   "outputs": [
    {
     "data": {
      "image/png": "[encoded data removed]",
      "text/plain": [
       "<Figure size 432x288 with 1 Axes>"
      ]
     },
     "metadata": {
      "needs_background": "light"
     },
     "output_type": "display_data"
    }
   ],
   "source": [
    "ind = np.arange(7)\n",
    "width = 0.35\n",
    "fig, ax = plt.subplots()\n",
    "\n",
    "p1 = ax.bar(ind, cluster_0, width, label='0', color=['black'])\n",
    "p2 = ax.bar(ind, cluster_1, width, label='1', color=['gray'], bottom=cluster_0)\n",
    "p3 = ax.bar(ind, cluster_2, width, label='2', color=['pink'], bottom=cluster_0+cluster_1)\n",
    "p4 = ax.bar(ind, cluster_3, width, label='3', color=['indigo'], bottom=cluster_0+cluster_1+cluster_2)\n",
    "\n",
    "ax.set_ylabel('Book count')\n",
    "ax.set_title('Clusters vs Book Genres')\n",
    "ax.set_xticks(ind)\n",
    "ax.set_xticklabels(catlab)\n",
    "ax.legend(loc='center left', bbox_to_anchor=(1, 0.5))\n",
    "\n",
    "plt.show()"
   ]
  },
  {
   "cell_type": "code",
   "execution_count": 76,
   "metadata": {},
   "outputs": [
    {
     "name": "stdout",
     "output_type": "stream",
     "text": [
      "[0.6838530170645181, 0.6937163456683411, 0.08052112029384756, 0.7540654895709197]\n"
     ]
    }
   ],
   "source": [
    "cs4 = conv_scores(cluster_lists)\n",
    "print(cs4)"
   ]
  },
  {
   "cell_type": "markdown",
   "metadata": {},
   "source": [
    "Now it looks like there is just three clusters:<br>\n",
    "I: Adventure, Gothic, Horror, Humor, Mystery<br>\n",
    "II: SciFi<br>\n",
    "III: Western"
   ]
  },
  {
   "cell_type": "markdown",
   "metadata": {},
   "source": [
    "***"
   ]
  },
  {
   "cell_type": "code",
   "execution_count": 135,
   "metadata": {},
   "outputs": [],
   "source": [
    "numClusters = []\n",
    "numStrongClusters = []\n",
    "\n",
    "for i in range(2, 50):\n",
    "    numClusters.append(i)\n",
    "    numStrongClusters.append(StrongClusterCount(i))"
   ]
  },
  {
   "cell_type": "code",
   "execution_count": 139,
   "metadata": {
    "scrolled": true
   },
   "outputs": [
    {
     "data": {
      "image/png": "[encoded data removed]",
      "text/plain": [
       "<Figure size 432x288 with 1 Axes>"
      ]
     },
     "metadata": {
      "needs_background": "light"
     },
     "output_type": "display_data"
    }
   ],
   "source": [
    "plt.scatter(numClusters, numStrongClusters)\n",
    "plt.plot([1, 49], [len(catlab), len(catlab)], color='orange')\n",
    "plt.xlim(0,50)\n",
    "plt.ylim(0,8)\n",
    "plt.text(19, 7.2,\"Number of Genres\", color='orange')\n",
    "#plt.text(1, 1, \"Not enough\")\n",
    "#plt.text(1.5, 0.5, \"clusters\")\n",
    "plt.text(35, 2.5, \"Small dispersed\")\n",
    "plt.text(37.5, 2, \"clusters\")\n",
    "plt.xlabel(\"Number of Clusters\")\n",
    "plt.ylabel(\"Number of Strong Clusters\")\n",
    "plt.show()"
   ]
  },
  {
   "cell_type": "markdown",
   "metadata": {},
   "source": [
    "***"
   ]
  },
  {
   "cell_type": "markdown",
   "metadata": {},
   "source": [
    "### Conclusion of Cluster Analysis:\n",
    "#### #1:\n",
    "By inspection of KMeans score, there is not a natural obvious number of inherent clusters in the feature space of our TFIDF vector transform.\n",
    "#### #2:\n",
    "The book genres as assigned by Gutenberg.org are related to KMeans clusters based on TFIDF, but clusters do not neatly correspond to genres.  In other words there is not a strong 1:1 mapping of clusters to genres.<br>"
   ]
  }
 ],
 "metadata": {
  "kernelspec": {
   "display_name": "Python 3",
   "language": "python",
   "name": "python3"
  },
  "language_info": {
   "codemirror_mode": {
    "name": "ipython",
    "version": 3
   },
   "file_extension": ".py",
   "mimetype": "text/x-python",
   "name": "python",
   "nbconvert_exporter": "python",
   "pygments_lexer": "ipython3",
   "version": "3.8.5"
  }
 },
 "nbformat": 4,
 "nbformat_minor": 4
}
