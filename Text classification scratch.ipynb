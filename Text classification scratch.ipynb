{
 "cells": [
  {
   "cell_type": "markdown",
   "metadata": {},
   "source": [
    "Generally following:<br>\n",
    "https://medium.com/data-from-the-trenches/text-classification-the-first-step-toward-nlp-mastery-f5f95d525d73"
   ]
  },
  {
   "cell_type": "code",
   "execution_count": 1,
   "metadata": {},
   "outputs": [],
   "source": [
    "import pprint\n",
    "import re\n",
    "from sklearn.feature_extraction.text import CountVectorizer\n",
    "from sklearn.feature_extraction.text import TfidfVectorizer\n",
    "import pandas as pd\n",
    "import numpy as np\n",
    "from sklearn.metrics import accuracy_score\n",
    "from sklearn.svm import LinearSVC"
   ]
  },
  {
   "cell_type": "code",
   "execution_count": 2,
   "metadata": {},
   "outputs": [],
   "source": [
    "file00 = 'C:\\\\UT\\\\DataMining\\\\books\\\\set0\\\\horror00.txt'\n",
    "file01 = 'C:\\\\UT\\\\DataMining\\\\books\\\\set0\\\\horror01.txt'\n",
    "file02 = 'C:\\\\UT\\\\DataMining\\\\books\\\\set0\\\\horror02.txt'\n",
    "file03 = 'C:\\\\UT\\\\DataMining\\\\books\\\\set0\\\\horror03.txt'\n",
    "file04 = 'C:\\\\UT\\\\DataMining\\\\books\\\\set0\\\\horror04.txt'\n",
    "file05 = 'C:\\\\UT\\\\DataMining\\\\books\\\\set0\\\\horror05.txt'\n",
    "file06 = 'C:\\\\UT\\\\DataMining\\\\books\\\\set0\\\\horror06.txt'\n",
    "file07 = 'C:\\\\UT\\\\DataMining\\\\books\\\\set0\\\\horror07.txt'\n",
    "file08 = 'C:\\\\UT\\\\DataMining\\\\books\\\\set0\\\\horror08.txt'\n",
    "file09 = 'C:\\\\UT\\\\DataMining\\\\books\\\\set0\\\\horror09.txt'\n",
    "file10 = 'C:\\\\UT\\\\DataMining\\\\books\\\\set0\\\\humor00.txt'\n",
    "file11 = 'C:\\\\UT\\\\DataMining\\\\books\\\\set0\\\\humor01.txt'\n",
    "file12 = 'C:\\\\UT\\\\DataMining\\\\books\\\\set0\\\\humor02.txt'\n",
    "file13 = 'C:\\\\UT\\\\DataMining\\\\books\\\\set0\\\\humor03.txt'\n",
    "file14 = 'C:\\\\UT\\\\DataMining\\\\books\\\\set0\\\\humor04.txt'\n",
    "file15 = 'C:\\\\UT\\\\DataMining\\\\books\\\\set0\\\\humor05.txt'\n",
    "file16 = 'C:\\\\UT\\\\DataMining\\\\books\\\\set0\\\\humor06.txt'\n",
    "file17 = 'C:\\\\UT\\\\DataMining\\\\books\\\\set0\\\\humor07.txt'\n",
    "file18 = 'C:\\\\UT\\\\DataMining\\\\books\\\\set0\\\\humor08.txt'\n",
    "file19 = 'C:\\\\UT\\\\DataMining\\\\books\\\\set0\\\\humor09.txt'\n",
    "train_files = [file00, file01, file02, file03, file04, \n",
    "               file05, file06, file07, file08, file09,\n",
    "               file10, file11, file12, file13, file14,\n",
    "               file15, file16, file17, file18, file19]"
   ]
  },
  {
   "cell_type": "code",
   "execution_count": 3,
   "metadata": {},
   "outputs": [],
   "source": [
    "file00 = 'C:\\\\UT\\\\DataMining\\\\books\\\\set0\\\\horror10.txt'\n",
    "file01 = 'C:\\\\UT\\\\DataMining\\\\books\\\\set0\\\\horror11.txt'\n",
    "file02 = 'C:\\\\UT\\\\DataMining\\\\books\\\\set0\\\\horror12.txt'\n",
    "file03 = 'C:\\\\UT\\\\DataMining\\\\books\\\\set0\\\\horror13.txt'\n",
    "file04 = 'C:\\\\UT\\\\DataMining\\\\books\\\\set0\\\\horror14.txt'\n",
    "file05 = 'C:\\\\UT\\\\DataMining\\\\books\\\\set0\\\\horror15.txt'\n",
    "file06 = 'C:\\\\UT\\\\DataMining\\\\books\\\\set0\\\\horror16.txt'\n",
    "file07 = 'C:\\\\UT\\\\DataMining\\\\books\\\\set0\\\\horror17.txt'\n",
    "file08 = 'C:\\\\UT\\\\DataMining\\\\books\\\\set0\\\\horror18.txt'\n",
    "file09 = 'C:\\\\UT\\\\DataMining\\\\books\\\\set0\\\\horror19.txt'\n",
    "file10 = 'C:\\\\UT\\\\DataMining\\\\books\\\\set0\\\\humor10.txt'\n",
    "file11 = 'C:\\\\UT\\\\DataMining\\\\books\\\\set0\\\\humor11.txt'\n",
    "file12 = 'C:\\\\UT\\\\DataMining\\\\books\\\\set0\\\\humor12.txt'\n",
    "file13 = 'C:\\\\UT\\\\DataMining\\\\books\\\\set0\\\\humor13.txt'\n",
    "file14 = 'C:\\\\UT\\\\DataMining\\\\books\\\\set0\\\\humor14.txt'\n",
    "file15 = 'C:\\\\UT\\\\DataMining\\\\books\\\\set0\\\\humor15.txt'\n",
    "file16 = 'C:\\\\UT\\\\DataMining\\\\books\\\\set0\\\\humor16.txt'\n",
    "file17 = 'C:\\\\UT\\\\DataMining\\\\books\\\\set0\\\\humor17.txt'\n",
    "file18 = 'C:\\\\UT\\\\DataMining\\\\books\\\\set0\\\\humor18.txt'\n",
    "file19 = 'C:\\\\UT\\\\DataMining\\\\books\\\\set0\\\\humor19.txt'\n",
    "test_files = [file00, file01, file02, file03, file04, \n",
    "              file05, file06, file07, file08, file09,\n",
    "              file10, file11, file12, file13, file14,\n",
    "              file15, file16, file17, file18, file19\n",
    "             ]"
   ]
  },
  {
   "cell_type": "code",
   "execution_count": 4,
   "metadata": {},
   "outputs": [],
   "source": [
    "train_texts = []\n",
    "for file in train_files:\n",
    "    with open(file, 'r', encoding='utf-8') as f:\n",
    "        text = f.read()\n",
    "        train_texts.append(text)"
   ]
  },
  {
   "cell_type": "code",
   "execution_count": 5,
   "metadata": {},
   "outputs": [],
   "source": [
    "# Category 0 == Horror\n",
    "# Category 1 == Humor\n",
    "category = [0, 0, 0, 0, 0,\n",
    "            0, 0, 0, 0, 0,\n",
    "            1, 1, 1, 1, 1,\n",
    "            1, 1, 1, 1, 1,]"
   ]
  },
  {
   "cell_type": "code",
   "execution_count": 6,
   "metadata": {},
   "outputs": [],
   "source": [
    "df_train = pd.DataFrame(np.array(train_texts))\n",
    "df_train['Category'] = category\n",
    "df_train.columns = [\"text\", \"category\"]"
   ]
  },
  {
   "cell_type": "code",
   "execution_count": 7,
   "metadata": {},
   "outputs": [
    {
     "data": {
      "text/html": [
       "<div>\n",
       "<style scoped>\n",
       "    .dataframe tbody tr th:only-of-type {\n",
       "        vertical-align: middle;\n",
       "    }\n",
       "\n",
       "    .dataframe tbody tr th {\n",
       "        vertical-align: top;\n",
       "    }\n",
       "\n",
       "    .dataframe thead th {\n",
       "        text-align: right;\n",
       "    }\n",
       "</style>\n",
       "<table border=\"1\" class=\"dataframe\">\n",
       "  <thead>\n",
       "    <tr style=\"text-align: right;\">\n",
       "      <th></th>\n",
       "      <th>text</th>\n",
       "      <th>category</th>\n",
       "    </tr>\n",
       "  </thead>\n",
       "  <tbody>\n",
       "    <tr>\n",
       "      <th>0</th>\n",
       "      <td>﻿The Project Gutenberg EBook of The Damned Thi...</td>\n",
       "      <td>0</td>\n",
       "    </tr>\n",
       "    <tr>\n",
       "      <th>1</th>\n",
       "      <td>﻿Project Gutenberg's The Fall of the House of ...</td>\n",
       "      <td>0</td>\n",
       "    </tr>\n",
       "    <tr>\n",
       "      <th>2</th>\n",
       "      <td>﻿The Project Gutenberg eBook of The Beetle, by...</td>\n",
       "      <td>0</td>\n",
       "    </tr>\n",
       "    <tr>\n",
       "      <th>3</th>\n",
       "      <td>﻿The Project Gutenberg EBook of Dracula, by Br...</td>\n",
       "      <td>0</td>\n",
       "    </tr>\n",
       "    <tr>\n",
       "      <th>4</th>\n",
       "      <td>﻿The Project Gutenberg eBook of Frankenstein, ...</td>\n",
       "      <td>0</td>\n",
       "    </tr>\n",
       "  </tbody>\n",
       "</table>\n",
       "</div>"
      ],
      "text/plain": [
       "                                                text  category\n",
       "0  ﻿The Project Gutenberg EBook of The Damned Thi...         0\n",
       "1  ﻿Project Gutenberg's The Fall of the House of ...         0\n",
       "2  ﻿The Project Gutenberg eBook of The Beetle, by...         0\n",
       "3  ﻿The Project Gutenberg EBook of Dracula, by Br...         0\n",
       "4  ﻿The Project Gutenberg eBook of Frankenstein, ...         0"
      ]
     },
     "execution_count": 7,
     "metadata": {},
     "output_type": "execute_result"
    }
   ],
   "source": [
    "df_train.head()"
   ]
  },
  {
   "cell_type": "code",
   "execution_count": 8,
   "metadata": {},
   "outputs": [],
   "source": [
    "test_texts = []\n",
    "for file in test_files:\n",
    "    with open(file, 'r', encoding='utf-8') as f:\n",
    "        text = f.read()\n",
    "        test_texts.append(text)"
   ]
  },
  {
   "cell_type": "code",
   "execution_count": 9,
   "metadata": {},
   "outputs": [],
   "source": [
    "df_test = pd.DataFrame(np.array(test_texts))\n",
    "df_test['Category'] = category\n",
    "df_test.columns = [\"text\", \"category\"]"
   ]
  },
  {
   "cell_type": "code",
   "execution_count": 10,
   "metadata": {},
   "outputs": [
    {
     "data": {
      "text/html": [
       "<div>\n",
       "<style scoped>\n",
       "    .dataframe tbody tr th:only-of-type {\n",
       "        vertical-align: middle;\n",
       "    }\n",
       "\n",
       "    .dataframe tbody tr th {\n",
       "        vertical-align: top;\n",
       "    }\n",
       "\n",
       "    .dataframe thead th {\n",
       "        text-align: right;\n",
       "    }\n",
       "</style>\n",
       "<table border=\"1\" class=\"dataframe\">\n",
       "  <thead>\n",
       "    <tr style=\"text-align: right;\">\n",
       "      <th></th>\n",
       "      <th>text</th>\n",
       "      <th>category</th>\n",
       "    </tr>\n",
       "  </thead>\n",
       "  <tbody>\n",
       "    <tr>\n",
       "      <th>0</th>\n",
       "      <td>﻿The Project Gutenberg EBook of The Wendigo, b...</td>\n",
       "      <td>0</td>\n",
       "    </tr>\n",
       "    <tr>\n",
       "      <th>1</th>\n",
       "      <td>﻿The Project Gutenberg EBook of The Dunwich Ho...</td>\n",
       "      <td>0</td>\n",
       "    </tr>\n",
       "    <tr>\n",
       "      <th>2</th>\n",
       "      <td>﻿The Project Gutenberg EBook of The Great God ...</td>\n",
       "      <td>0</td>\n",
       "    </tr>\n",
       "    <tr>\n",
       "      <th>3</th>\n",
       "      <td>﻿The Project Gutenberg eBook of The Monk: a ro...</td>\n",
       "      <td>0</td>\n",
       "    </tr>\n",
       "    <tr>\n",
       "      <th>4</th>\n",
       "      <td>﻿The Project Gutenberg eBook of Flowering Evil...</td>\n",
       "      <td>0</td>\n",
       "    </tr>\n",
       "  </tbody>\n",
       "</table>\n",
       "</div>"
      ],
      "text/plain": [
       "                                                text  category\n",
       "0  ﻿The Project Gutenberg EBook of The Wendigo, b...         0\n",
       "1  ﻿The Project Gutenberg EBook of The Dunwich Ho...         0\n",
       "2  ﻿The Project Gutenberg EBook of The Great God ...         0\n",
       "3  ﻿The Project Gutenberg eBook of The Monk: a ro...         0\n",
       "4  ﻿The Project Gutenberg eBook of Flowering Evil...         0"
      ]
     },
     "execution_count": 10,
     "metadata": {},
     "output_type": "execute_result"
    }
   ],
   "source": [
    "df_test.head()"
   ]
  },
  {
   "cell_type": "code",
   "execution_count": 11,
   "metadata": {},
   "outputs": [],
   "source": [
    "def clean_text(text):\n",
    "    \"\"\"\n",
    "    Applies some pre-processing on the given text.\n",
    "\n",
    "    Steps :\n",
    "    - Removing HTML tags\n",
    "    - Removing punctuation\n",
    "    - Lowering text\n",
    "    \"\"\"\n",
    "    \n",
    "    # remove HTML tags\n",
    "    text = re.sub(r'<.*?>', '', text)\n",
    "    \n",
    "    # remove the characters [\\], ['] and [\"]\n",
    "    text = re.sub(r\"\\\\\", \"\", text)    \n",
    "    text = re.sub(r\"\\'\", \"\", text)    \n",
    "    text = re.sub(r\"\\\"\", \"\", text)\n",
    "    \n",
    "    # remove numbers including unsigned / signed integers and floats\n",
    "    text = re.sub(r\"[0-9]+\", \"\", text)\n",
    "    text = re.sub(r\"[-0-9]+\", \"\", text)\n",
    "    text = re.sub(r\"[+.0-9]+\", \"\", text)\n",
    "    \n",
    "    # convert text to lowercase\n",
    "    text = text.strip().lower()\n",
    "    \n",
    "    # replace punctuation characters with spaces\n",
    "    filters='!\"\\'#$%&()*+,-./:;<=>?@[\\\\]^_`{|}~\\t\\n'\n",
    "    translate_dict = dict((c, \" \") for c in filters)\n",
    "    translate_map = str.maketrans(translate_dict)\n",
    "    text = text.translate(translate_map)\n",
    "    \n",
    "    # remove non-ascii characters\n",
    "    text = re.sub(r'[^\\x00-\\x7F]+','', text)\n",
    "\n",
    "    return text"
   ]
  },
  {
   "cell_type": "code",
   "execution_count": null,
   "metadata": {},
   "outputs": [],
   "source": [
    "#returns a list of words after cleaning\n",
    "#data0 = clean_text(data).split()"
   ]
  },
  {
   "cell_type": "code",
   "execution_count": null,
   "metadata": {},
   "outputs": [],
   "source": [
    "#len(data0)"
   ]
  },
  {
   "cell_type": "code",
   "execution_count": null,
   "metadata": {},
   "outputs": [],
   "source": [
    "# training_texts = [\n",
    "#     \"This is a good cat\",\n",
    "#     \"This is a bad day\"\n",
    "# ]\n",
    "\n",
    "# test_texts = [\n",
    "#     \"This day is a good day\"\n",
    "# ]\n",
    "\n",
    "# # this vectorizer will skip stop words\n",
    "# vectorizer = CountVectorizer(\n",
    "#     stop_words=\"english\",\n",
    "#     preprocessor=clean_text\n",
    "# )\n",
    "\n",
    "# # fit the vectorizer on the training text\n",
    "# vectorizer.fit(training_texts)\n",
    "\n",
    "# # get the vectorizer's vocabulary\n",
    "# inv_vocab = {v: k for k, v in vectorizer.vocabulary_.items()}\n",
    "# vocabulary = [inv_vocab[i] for i in range(len(inv_vocab))]\n",
    "\n",
    "# # vectorization example\n",
    "# pd.DataFrame(\n",
    "#     data=vectorizer.transform(test_texts).toarray(),\n",
    "#     index=[\"test sentence\"],\n",
    "#     columns=vocabulary\n",
    "# )"
   ]
  },
  {
   "cell_type": "code",
   "execution_count": null,
   "metadata": {},
   "outputs": [],
   "source": [
    "# # this vectorizer will skip stop words\n",
    "# vectorizer = CountVectorizer(\n",
    "#     stop_words=\"english\",\n",
    "#     preprocessor=clean_text,\n",
    "#     strip_accents=\"ascii\"\n",
    "# )\n",
    "\n",
    "# # fit the vectorizer on the training text\n",
    "# vectorizer.fit(training_texts)\n",
    "\n",
    "# # get the vectorizer's vocabulary\n",
    "# inv_vocab = {v: k for k, v in vectorizer.vocabulary_.items()}\n",
    "# vocabulary = [inv_vocab[i] for i in range(len(inv_vocab))]\n"
   ]
  },
  {
   "cell_type": "code",
   "execution_count": null,
   "metadata": {},
   "outputs": [],
   "source": [
    "# # this vectorizer will skip stop words\n",
    "# vectorizer = CountVectorizer(\n",
    "#     stop_words=\"english\",\n",
    "#     preprocessor=clean_text,\n",
    "#     strip_accents=\"ascii\"\n",
    "# )\n",
    "\n",
    "# # fit the vectorizer on the training text\n",
    "# X = vectorizer.fit_transform(training_texts)\n",
    "\n",
    "# # get the vectorizer's vocabulary\n",
    "# #print(vectorizer.get_feature_names())\n"
   ]
  },
  {
   "cell_type": "code",
   "execution_count": null,
   "metadata": {},
   "outputs": [],
   "source": [
    "#print(X.toarray())"
   ]
  },
  {
   "cell_type": "code",
   "execution_count": null,
   "metadata": {},
   "outputs": [],
   "source": [
    "#len(vocabulary)"
   ]
  },
  {
   "cell_type": "code",
   "execution_count": 12,
   "metadata": {},
   "outputs": [
    {
     "name": "stdout",
     "output_type": "stream",
     "text": [
      "Accuracy on the IMDB dataset: 80.00\n"
     ]
    }
   ],
   "source": [
    "# Transform each text into a vector of word counts\n",
    "vectorizer = CountVectorizer(stop_words=\"english\",\n",
    "                             preprocessor=clean_text,\n",
    "                             strip_accents=\"ascii\")\n",
    "\n",
    "train_features = vectorizer.fit_transform(df_train[\"text\"])    \n",
    "test_features = vectorizer.transform(df_test[\"text\"])\n",
    "\n",
    "# Training\n",
    "model = LinearSVC()\n",
    "model.fit(train_features, df_train[\"category\"])\n",
    "y_pred = model.predict(test_features)\n",
    "\n",
    "# Evaluation\n",
    "acc = accuracy_score(df_test[\"category\"], y_pred)\n",
    "\n",
    "print(\"Accuracy on the IMDB dataset: {:.2f}\".format(acc*100))"
   ]
  },
  {
   "cell_type": "code",
   "execution_count": 14,
   "metadata": {},
   "outputs": [
    {
     "name": "stdout",
     "output_type": "stream",
     "text": [
      "Accuracy on the IMDB dataset: 80.00\n"
     ]
    }
   ],
   "source": [
    "# Transform each text into a vector of word counts\n",
    "vectorizer = TfidfVectorizer(stop_words=\"english\",\n",
    "                             preprocessor=clean_text,\n",
    "                             ngram_range=(1, 2))\n",
    "\n",
    "train_features = vectorizer.fit_transform(df_train[\"text\"])\n",
    "test_features = vectorizer.transform(df_test[\"text\"])\n",
    "\n",
    "# Training\n",
    "model = LinearSVC()\n",
    "model.fit(train_features, df_train[\"category\"])\n",
    "y_pred = model.predict(test_features)\n",
    "\n",
    "# Evaluation\n",
    "acc = accuracy_score(df_test[\"category\"], y_pred)\n",
    "\n",
    "print(\"Accuracy on the IMDB dataset: {:.2f}\".format(acc*100))"
   ]
  },
  {
   "cell_type": "code",
   "execution_count": null,
   "metadata": {},
   "outputs": [],
   "source": []
  }
 ],
 "metadata": {
  "kernelspec": {
   "display_name": "Python 3",
   "language": "python",
   "name": "python3"
  },
  "language_info": {
   "codemirror_mode": {
    "name": "ipython",
    "version": 3
   },
   "file_extension": ".py",
   "mimetype": "text/x-python",
   "name": "python",
   "nbconvert_exporter": "python",
   "pygments_lexer": "ipython3",
   "version": "3.8.5"
  }
 },
 "nbformat": 4,
 "nbformat_minor": 4
}
