{
 "cells": [
  {
   "cell_type": "markdown",
   "metadata": {},
   "source": [
    "### Goal: create a model to predict how many downloads a particular book title might get based on training data."
   ]
  },
  {
   "cell_type": "code",
   "execution_count": 5,
   "metadata": {},
   "outputs": [],
   "source": [
    "import pprint\n",
    "import re\n",
    "import random\n",
    "import glob\n",
    "from sklearn.feature_extraction.text import CountVectorizer\n",
    "from sklearn.feature_extraction.text import TfidfVectorizer\n",
    "from sklearn.feature_extraction.text import TfidfTransformer\n",
    "from sklearn.feature_extraction import text\n",
    "from sklearn.linear_model import SGDClassifier\n",
    "from sklearn.metrics import mean_squared_error\n",
    "import pandas as pd\n",
    "from sklearn import svm\n",
    "from nltk.corpus import stopwords\n",
    "import nltk\n",
    "#nltk.download('stopwords')\n",
    "import ssl\n",
    "import numpy as np\n",
    "from sklearn.ensemble import RandomForestClassifier\n",
    "from sklearn.ensemble import GradientBoostingRegressor\n",
    "from sklearn.model_selection import RandomizedSearchCV\n",
    "from sklearn.model_selection import learning_curve, GridSearchCV\n",
    "from sklearn.metrics import accuracy_score\n",
    "from sklearn.svm import SVR\n",
    "from sklearn.svm import LinearSVC, SVC\n",
    "from sklearn.metrics import confusion_matrix\n",
    "from sklearn.metrics import plot_confusion_matrix\n",
    "from sklearn.metrics import classification_report\n",
    "from sklearn.metrics import silhouette_score\n",
    "from sklearn.naive_bayes import MultinomialNB\n",
    "from sklearn.pipeline import Pipeline\n",
    "from sklearn.model_selection import GridSearchCV\n",
    "from sklearn.model_selection import train_test_split\n",
    "from sklearn.linear_model import LogisticRegression\n",
    "from sklearn.linear_model import LinearRegression\n",
    "import matplotlib.pyplot as plt\n",
    "from sklearn.cluster import KMeans"
   ]
  },
  {
   "cell_type": "code",
   "execution_count": 6,
   "metadata": {},
   "outputs": [
    {
     "data": {
      "text/plain": [
       "'\\ntry:\\n    _create_unverified_https_context = ssl._create_unverified_context\\nexcept AttributeError:\\n    pass\\nelse:\\n    ssl._create_default_https_context = _create_unverified_https_context\\n\\n#nltk.download()\\n'"
      ]
     },
     "execution_count": 6,
     "metadata": {},
     "output_type": "execute_result"
    }
   ],
   "source": [
    "'''\n",
    "try:\n",
    "    _create_unverified_https_context = ssl._create_unverified_context\n",
    "except AttributeError:\n",
    "    pass\n",
    "else:\n",
    "    ssl._create_default_https_context = _create_unverified_https_context\n",
    "\n",
    "#nltk.download()\n",
    "'''"
   ]
  },
  {
   "cell_type": "code",
   "execution_count": 7,
   "metadata": {},
   "outputs": [],
   "source": [
    "adventure_text_files = glob.glob('books/Adventure/*.txt')\n",
    "adventure_csv_files = glob.glob('books/Adventure/*.csv')\n",
    "\n",
    "gothic_text_files = glob.glob('books/Gothic Fiction/*.txt')\n",
    "gothic_csv_files = glob.glob('books/Gothic Fiction/*.csv')\n",
    "\n",
    "horror_text_files = glob.glob('books/Horror/*.txt')\n",
    "horror_csv_files = glob.glob('books/Horror/*.csv')\n",
    "\n",
    "humor_text_files = glob.glob('books/Humor/*.txt')\n",
    "humor_csv_files = glob.glob('books/Humor/*.csv')\n",
    "\n",
    "mystery_text_files = glob.glob('books/Mystery Fiction/*.txt')\n",
    "mystery_csv_files = glob.glob('books/Mystery Fiction/*.csv')\n",
    "\n",
    "scifi_text_files = glob.glob('books/Science Fiction/*.txt')\n",
    "scifi_csv_files = glob.glob('books/Science Fiction/*.csv')\n",
    "\n",
    "western_text_files = glob.glob('books/Western/*.txt')\n",
    "western_csv_files = glob.glob('books/Western/*.csv')"
   ]
  },
  {
   "cell_type": "code",
   "execution_count": 8,
   "metadata": {
    "scrolled": true
   },
   "outputs": [
    {
     "name": "stdout",
     "output_type": "stream",
     "text": [
      "adventure:  75 74\n",
      "gothic:  26 25\n",
      "horror:  42 41\n",
      "humor:  163 162\n",
      "mystery:  14 13\n",
      "scifi:  950 949\n",
      "western:  92 91\n"
     ]
    }
   ],
   "source": [
    "print('adventure: ',len(adventure_text_files), len(adventure_csv_files))\n",
    "print('gothic: ',len(gothic_text_files), len(gothic_csv_files))\n",
    "print('horror: ',len(horror_text_files), len(horror_csv_files))\n",
    "print('humor: ',len(humor_text_files), len(humor_csv_files))\n",
    "print('mystery: ',len(mystery_text_files), len(mystery_csv_files))\n",
    "print('scifi: ',len(scifi_text_files), len(scifi_csv_files))\n",
    "print('western: ',len(western_text_files), len(western_csv_files))"
   ]
  },
  {
   "cell_type": "markdown",
   "metadata": {},
   "source": [
    "### Use Scifi since we need a lot of titles for a good model"
   ]
  },
  {
   "cell_type": "code",
   "execution_count": 9,
   "metadata": {},
   "outputs": [],
   "source": [
    "stop_words_list = stopwords.words('English')"
   ]
  },
  {
   "cell_type": "code",
   "execution_count": 10,
   "metadata": {},
   "outputs": [],
   "source": [
    "def removeStopWords(text, stop_words_list):\n",
    "    split_string = text.split(' ')\n",
    "    result = ''\n",
    "    for word in split_string:\n",
    "        if word in stop_words_list:\n",
    "            continue\n",
    "        else:\n",
    "            result += word + ' '\n",
    "    return result.strip()"
   ]
  },
  {
   "cell_type": "code",
   "execution_count": 11,
   "metadata": {},
   "outputs": [
    {
     "data": {
      "text/plain": [
       "'Think Yourself Death'"
      ]
     },
     "execution_count": 11,
     "metadata": {},
     "output_type": "execute_result"
    }
   ],
   "source": [
    "removeStopWords(\"Think Yourself to Death\", stop_words_list)"
   ]
  },
  {
   "cell_type": "code",
   "execution_count": 12,
   "metadata": {},
   "outputs": [],
   "source": [
    "def clean_text(input_text):\n",
    "    # remove text after return character\n",
    "    text = input_text.split('\\r')[0]\n",
    "    \n",
    "    # remove the characters [\\], ['] and [\"]\n",
    "    text = re.sub(r\"\\\\\", \"\", text)\n",
    "    \n",
    "    # remove the characters [\\], ['] and [\"]\n",
    "    text = re.sub(r\"\\\\\", \"\", text)    \n",
    "    text = re.sub(r\"\\'\", \"\", text)    \n",
    "    text = re.sub(r\"\\\"\", \"\", text)\n",
    "    \n",
    "    # remove numbers including unsigned / signed integers and floats\n",
    "    text = re.sub(r\"[0-9]+\", \"\", text)\n",
    "    text = re.sub(r\"[-0-9]+\", \"\", text)\n",
    "    text = re.sub(r\"[+.0-9]+\", \"\", text)\n",
    "    \n",
    "    # convert text to lowercase\n",
    "    text = text.strip().lower()\n",
    "    \n",
    "    # replace punctuation characters with spaces\n",
    "    filters='!\"\\'#$%&()*+,-./:;<=>?@[\\\\]^_`{|}~\\t\\n'\n",
    "    translate_dict = dict((c, \" \") for c in filters)\n",
    "    translate_map = str.maketrans(translate_dict)\n",
    "    text = text.translate(translate_map)\n",
    "    \n",
    "    # remove url text\n",
    "    text = re.sub(r\"(http)*\", \"\", text)\n",
    "    text = re.sub(r\"(www)*\", \"\", text)\n",
    "    \n",
    "    # remove non-ascii characters\n",
    "    text = re.sub(r'[^\\x00-\\x7F]+','', text)\n",
    "    \n",
    "    # remove stopwords\n",
    "    text = removeStopWords(text, stop_words_list)\n",
    "\n",
    "    return text"
   ]
  },
  {
   "cell_type": "code",
   "execution_count": 13,
   "metadata": {},
   "outputs": [
    {
     "data": {
      "text/plain": [
       "'goddess atvatabar'"
      ]
     },
     "execution_count": 13,
     "metadata": {},
     "output_type": "execute_result"
    }
   ],
   "source": [
    "clean_text('The Goddess of Atvatabar\\rBeing the history of the discovery of the interior world and conquest of Atvatabar')"
   ]
  },
  {
   "cell_type": "code",
   "execution_count": 14,
   "metadata": {},
   "outputs": [
    {
     "data": {
      "text/plain": [
       "'think death'"
      ]
     },
     "execution_count": 14,
     "metadata": {},
     "output_type": "execute_result"
    }
   ],
   "source": [
    "clean_text(\"Think Yourself to Death\")"
   ]
  },
  {
   "cell_type": "code",
   "execution_count": 15,
   "metadata": {},
   "outputs": [],
   "source": [
    "def getTitleAndDownloadsFromMetaData(meta_data, clean_data):\n",
    "    title_and_downloads = pd.DataFrame(columns=['Title', 'Downloads'])\n",
    "    title = ''\n",
    "    downloads = 0\n",
    "    for index, row in meta_data.iterrows():\n",
    "        if row[0].lower() == 'title':\n",
    "            title = row[1].strip()\n",
    "            if clean_data:\n",
    "                title = clean_text(title)\n",
    "        if row[0].lower() == 'downloads':\n",
    "            number_of_downloads = re.search(r'\\d+', row[1]).group().strip()\n",
    "            downloads = int (number_of_downloads)\n",
    "    title_and_downloads = title_and_downloads.append({'Title': title, 'Downloads': downloads}, ignore_index=True)\n",
    "    return title_and_downloads"
   ]
  },
  {
   "cell_type": "code",
   "execution_count": 16,
   "metadata": {},
   "outputs": [
    {
     "data": {
      "text/html": [
       "<div>\n",
       "<style scoped>\n",
       "    .dataframe tbody tr th:only-of-type {\n",
       "        vertical-align: middle;\n",
       "    }\n",
       "\n",
       "    .dataframe tbody tr th {\n",
       "        vertical-align: top;\n",
       "    }\n",
       "\n",
       "    .dataframe thead th {\n",
       "        text-align: right;\n",
       "    }\n",
       "</style>\n",
       "<table border=\"1\" class=\"dataframe\">\n",
       "  <thead>\n",
       "    <tr style=\"text-align: right;\">\n",
       "      <th></th>\n",
       "      <th>Title</th>\n",
       "      <th>Downloads</th>\n",
       "    </tr>\n",
       "  </thead>\n",
       "  <tbody>\n",
       "    <tr>\n",
       "      <th>0</th>\n",
       "      <td>wolfbane</td>\n",
       "      <td>174</td>\n",
       "    </tr>\n",
       "    <tr>\n",
       "      <th>1</th>\n",
       "      <td>trace memory</td>\n",
       "      <td>111</td>\n",
       "    </tr>\n",
       "    <tr>\n",
       "      <th>2</th>\n",
       "      <td>fair planet</td>\n",
       "      <td>44</td>\n",
       "    </tr>\n",
       "    <tr>\n",
       "      <th>3</th>\n",
       "      <td>new lamps</td>\n",
       "      <td>78</td>\n",
       "    </tr>\n",
       "    <tr>\n",
       "      <th>4</th>\n",
       "      <td>think death</td>\n",
       "      <td>74</td>\n",
       "    </tr>\n",
       "  </tbody>\n",
       "</table>\n",
       "</div>"
      ],
      "text/plain": [
       "          Title  Downloads\n",
       "0      wolfbane        174\n",
       "1  trace memory        111\n",
       "2   fair planet         44\n",
       "3     new lamps         78\n",
       "4   think death         74"
      ]
     },
     "execution_count": 16,
     "metadata": {},
     "output_type": "execute_result"
    }
   ],
   "source": [
    "scifi_books_title_downloads = pd.DataFrame(columns=['Title', 'Downloads'])\n",
    "for book_meta_data in scifi_csv_files:\n",
    "    meta_data = pd.read_csv(book_meta_data, header=0)\n",
    "    parsed_meta_data = getTitleAndDownloadsFromMetaData(meta_data, True)\n",
    "    scifi_books_title_downloads = scifi_books_title_downloads.append(parsed_meta_data, ignore_index=True)\n",
    "\n",
    "scifi_books_title_downloads.Downloads = pd.to_numeric(scifi_books_title_downloads.Downloads)\n",
    "scifi_books_title_downloads.head()"
   ]
  },
  {
   "cell_type": "code",
   "execution_count": 22,
   "metadata": {},
   "outputs": [
    {
     "data": {
      "text/plain": [
       "(949, 2)"
      ]
     },
     "execution_count": 22,
     "metadata": {},
     "output_type": "execute_result"
    }
   ],
   "source": [
    "scifi_books_title_downloads.shape"
   ]
  },
  {
   "cell_type": "code",
   "execution_count": 23,
   "metadata": {},
   "outputs": [
    {
     "name": "stdout",
     "output_type": "stream",
     "text": [
      "(950, 2)\n"
     ]
    },
    {
     "data": {
      "text/html": [
       "<div>\n",
       "<style scoped>\n",
       "    .dataframe tbody tr th:only-of-type {\n",
       "        vertical-align: middle;\n",
       "    }\n",
       "\n",
       "    .dataframe tbody tr th {\n",
       "        vertical-align: top;\n",
       "    }\n",
       "\n",
       "    .dataframe thead th {\n",
       "        text-align: right;\n",
       "    }\n",
       "</style>\n",
       "<table border=\"1\" class=\"dataframe\">\n",
       "  <thead>\n",
       "    <tr style=\"text-align: right;\">\n",
       "      <th></th>\n",
       "      <th>Title</th>\n",
       "      <th>Downloads</th>\n",
       "    </tr>\n",
       "  </thead>\n",
       "  <tbody>\n",
       "    <tr>\n",
       "      <th>0</th>\n",
       "      <td>wolfbane</td>\n",
       "      <td>174.0</td>\n",
       "    </tr>\n",
       "    <tr>\n",
       "      <th>1</th>\n",
       "      <td>trace memory</td>\n",
       "      <td>111.0</td>\n",
       "    </tr>\n",
       "    <tr>\n",
       "      <th>2</th>\n",
       "      <td>fair planet</td>\n",
       "      <td>44.0</td>\n",
       "    </tr>\n",
       "    <tr>\n",
       "      <th>3</th>\n",
       "      <td>new lamps</td>\n",
       "      <td>78.0</td>\n",
       "    </tr>\n",
       "    <tr>\n",
       "      <th>4</th>\n",
       "      <td>think death</td>\n",
       "      <td>74.0</td>\n",
       "    </tr>\n",
       "  </tbody>\n",
       "</table>\n",
       "</div>"
      ],
      "text/plain": [
       "          Title  Downloads\n",
       "0      wolfbane      174.0\n",
       "1  trace memory      111.0\n",
       "2   fair planet       44.0\n",
       "3     new lamps       78.0\n",
       "4   think death       74.0"
      ]
     },
     "execution_count": 23,
     "metadata": {},
     "output_type": "execute_result"
    }
   ],
   "source": [
    "scifi_books_title_downloads_uncleaned = pd.DataFrame(columns=['Title', 'Downloads'])\n",
    "for book_meta_data in scifi_csv_files:\n",
    "    meta_data = pd.read_csv(book_meta_data, header=0)\n",
    "    parsed_meta_data = getTitleAndDownloadsFromMetaData(meta_data, False)\n",
    "    scifi_books_title_downloads_uncleaned = scifi_books_title_downloads.append(parsed_meta_data, ignore_index=True)\n",
    "\n",
    "scifi_books_title_downloads_uncleaned.Downloads = pd.to_numeric(scifi_books_title_downloads.Downloads)\n",
    "print(scifi_books_title_downloads_uncleaned.shape)\n",
    "scifi_books_title_downloads_uncleaned.head()"
   ]
  },
  {
   "cell_type": "code",
   "execution_count": 24,
   "metadata": {},
   "outputs": [
    {
     "data": {
      "text/html": [
       "<div>\n",
       "<style scoped>\n",
       "    .dataframe tbody tr th:only-of-type {\n",
       "        vertical-align: middle;\n",
       "    }\n",
       "\n",
       "    .dataframe tbody tr th {\n",
       "        vertical-align: top;\n",
       "    }\n",
       "\n",
       "    .dataframe thead th {\n",
       "        text-align: right;\n",
       "    }\n",
       "</style>\n",
       "<table border=\"1\" class=\"dataframe\">\n",
       "  <thead>\n",
       "    <tr style=\"text-align: right;\">\n",
       "      <th></th>\n",
       "      <th>Title</th>\n",
       "      <th>Downloads</th>\n",
       "    </tr>\n",
       "  </thead>\n",
       "  <tbody>\n",
       "    <tr>\n",
       "      <th>0</th>\n",
       "      <td>False</td>\n",
       "      <td>False</td>\n",
       "    </tr>\n",
       "    <tr>\n",
       "      <th>1</th>\n",
       "      <td>False</td>\n",
       "      <td>False</td>\n",
       "    </tr>\n",
       "    <tr>\n",
       "      <th>2</th>\n",
       "      <td>False</td>\n",
       "      <td>False</td>\n",
       "    </tr>\n",
       "    <tr>\n",
       "      <th>3</th>\n",
       "      <td>False</td>\n",
       "      <td>False</td>\n",
       "    </tr>\n",
       "    <tr>\n",
       "      <th>4</th>\n",
       "      <td>False</td>\n",
       "      <td>False</td>\n",
       "    </tr>\n",
       "    <tr>\n",
       "      <th>...</th>\n",
       "      <td>...</td>\n",
       "      <td>...</td>\n",
       "    </tr>\n",
       "    <tr>\n",
       "      <th>944</th>\n",
       "      <td>False</td>\n",
       "      <td>False</td>\n",
       "    </tr>\n",
       "    <tr>\n",
       "      <th>945</th>\n",
       "      <td>False</td>\n",
       "      <td>False</td>\n",
       "    </tr>\n",
       "    <tr>\n",
       "      <th>946</th>\n",
       "      <td>False</td>\n",
       "      <td>False</td>\n",
       "    </tr>\n",
       "    <tr>\n",
       "      <th>947</th>\n",
       "      <td>False</td>\n",
       "      <td>False</td>\n",
       "    </tr>\n",
       "    <tr>\n",
       "      <th>948</th>\n",
       "      <td>False</td>\n",
       "      <td>False</td>\n",
       "    </tr>\n",
       "  </tbody>\n",
       "</table>\n",
       "<p>949 rows × 2 columns</p>\n",
       "</div>"
      ],
      "text/plain": [
       "     Title  Downloads\n",
       "0    False      False\n",
       "1    False      False\n",
       "2    False      False\n",
       "3    False      False\n",
       "4    False      False\n",
       "..     ...        ...\n",
       "944  False      False\n",
       "945  False      False\n",
       "946  False      False\n",
       "947  False      False\n",
       "948  False      False\n",
       "\n",
       "[949 rows x 2 columns]"
      ]
     },
     "execution_count": 24,
     "metadata": {},
     "output_type": "execute_result"
    }
   ],
   "source": [
    "#scifi_books_title_downloads_uncleaned_filtered = scifi_books_title_downloads_uncleaned[\n",
    "#    scifi_books_title_downloads_uncleaned.isna()\n",
    "#]\n",
    "scifi_books_title_downloads_uncleaned = scifi_books_title_downloads_uncleaned.dropna()\n",
    "#scifi_books_title_downloads_uncleaned_filtered.shape\n",
    "scifi_books_title_downloads_uncleaned.isnull()"
   ]
  },
  {
   "cell_type": "code",
   "execution_count": 25,
   "metadata": {},
   "outputs": [
    {
     "data": {
      "text/plain": [
       "(949, 2)"
      ]
     },
     "execution_count": 25,
     "metadata": {},
     "output_type": "execute_result"
    }
   ],
   "source": [
    "scifi_books_title_downloads.shape"
   ]
  },
  {
   "cell_type": "markdown",
   "metadata": {},
   "source": [
    "### Plot downloads to see if there are any clusters"
   ]
  },
  {
   "cell_type": "code",
   "execution_count": 26,
   "metadata": {},
   "outputs": [
    {
     "data": {
      "image/png": "[encoded data removed]",
      "text/plain": [
       "<Figure size 864x576 with 1 Axes>"
      ]
     },
     "metadata": {
      "needs_background": "light"
     },
     "output_type": "display_data"
    }
   ],
   "source": [
    "plt.figure(figsize=(12,8))\n",
    "plt.scatter(scifi_books_title_downloads.index, scifi_books_title_downloads.Downloads)\n",
    "plt.title('Book Downloads')\n",
    "plt.xlabel('Index')\n",
    "plt.ylabel('# Downloads')\n",
    "plt.show()"
   ]
  },
  {
   "cell_type": "markdown",
   "metadata": {},
   "source": [
    "### looks like we have some outlier points. Remove rows that are 3 sigma away"
   ]
  },
  {
   "cell_type": "code",
   "execution_count": 27,
   "metadata": {},
   "outputs": [],
   "source": [
    "def removeOutliers(df, columnsToIgnore):\n",
    "    result = pd.DataFrame(df)\n",
    "    for column in df.columns:\n",
    "        if column in columnsToIgnore:\n",
    "            print(\"ignoring column: {0}\".format(column))\n",
    "            continue\n",
    "        # remove points that are greater than 3 sigma\n",
    "        result = result[~(np.abs(df[column] - result[column].mean()) > (3 * result[column].std()))]\n",
    "    \n",
    "    return result"
   ]
  },
  {
   "cell_type": "code",
   "execution_count": 28,
   "metadata": {},
   "outputs": [
    {
     "name": "stdout",
     "output_type": "stream",
     "text": [
      "ignoring column: Title\n"
     ]
    }
   ],
   "source": [
    "scifi_books_title_downloads_without_outliers = removeOutliers(scifi_books_title_downloads, 'Title')"
   ]
  },
  {
   "cell_type": "code",
   "execution_count": 29,
   "metadata": {},
   "outputs": [
    {
     "data": {
      "image/png": "[encoded data removed]",
      "text/plain": [
       "<Figure size 864x576 with 1 Axes>"
      ]
     },
     "metadata": {
      "needs_background": "light"
     },
     "output_type": "display_data"
    }
   ],
   "source": [
    "plt.figure(figsize=(12,8))\n",
    "plt.scatter(scifi_books_title_downloads_without_outliers.index, scifi_books_title_downloads_without_outliers.Downloads)\n",
    "plt.title('Book Downloads')\n",
    "plt.xlabel('Index')\n",
    "plt.ylabel('# Downloads')\n",
    "plt.show()"
   ]
  },
  {
   "cell_type": "code",
   "execution_count": 30,
   "metadata": {},
   "outputs": [
    {
     "data": {
      "text/plain": [
       "(1598, 27)"
      ]
     },
     "execution_count": 30,
     "metadata": {},
     "output_type": "execute_result"
    }
   ],
   "source": [
    "scifi_books_title_downloads_without_outliers.Downloads.max(), scifi_books_title_downloads_without_outliers.Downloads.min()"
   ]
  },
  {
   "cell_type": "code",
   "execution_count": 31,
   "metadata": {},
   "outputs": [
    {
     "data": {
      "text/plain": [
       "(946, 2)"
      ]
     },
     "execution_count": 31,
     "metadata": {},
     "output_type": "execute_result"
    }
   ],
   "source": [
    "scifi_books_title_downloads_without_outliers.shape"
   ]
  },
  {
   "cell_type": "code",
   "execution_count": 33,
   "metadata": {},
   "outputs": [
    {
     "data": {
      "text/plain": [
       "(946, 941)"
      ]
     },
     "execution_count": 33,
     "metadata": {},
     "output_type": "execute_result"
    }
   ],
   "source": [
    "len(scifi_books_title_downloads_without_outliers.Title), len(scifi_books_title_downloads_without_outliers.Title.unique())"
   ]
  },
  {
   "cell_type": "markdown",
   "metadata": {},
   "source": [
    "### looks like there are no repititions, lets look at a histogram of top common words"
   ]
  },
  {
   "cell_type": "code",
   "execution_count": 34,
   "metadata": {},
   "outputs": [],
   "source": [
    "def getCommonWords(df):\n",
    "    common_words = {}\n",
    "    for index, row in df.iterrows():\n",
    "        title = row[0].strip()\n",
    "        split_title = title.split(' ')\n",
    "        for word in split_title:\n",
    "            word = word.strip()\n",
    "            if word == '':\n",
    "                continue\n",
    "            elif word in common_words.keys():\n",
    "                common_words[word] += 1\n",
    "            else:\n",
    "                common_words[word] = 1\n",
    "    return pd.DataFrame.from_dict({'Word': common_words.keys(), 'Count': common_words.values()})"
   ]
  },
  {
   "cell_type": "code",
   "execution_count": 35,
   "metadata": {},
   "outputs": [
    {
     "data": {
      "text/html": [
       "<div>\n",
       "<style scoped>\n",
       "    .dataframe tbody tr th:only-of-type {\n",
       "        vertical-align: middle;\n",
       "    }\n",
       "\n",
       "    .dataframe tbody tr th {\n",
       "        vertical-align: top;\n",
       "    }\n",
       "\n",
       "    .dataframe thead th {\n",
       "        text-align: right;\n",
       "    }\n",
       "</style>\n",
       "<table border=\"1\" class=\"dataframe\">\n",
       "  <thead>\n",
       "    <tr style=\"text-align: right;\">\n",
       "      <th></th>\n",
       "      <th>Word</th>\n",
       "      <th>Count</th>\n",
       "    </tr>\n",
       "  </thead>\n",
       "  <tbody>\n",
       "    <tr>\n",
       "      <th>0</th>\n",
       "      <td>wolfbane</td>\n",
       "      <td>1</td>\n",
       "    </tr>\n",
       "    <tr>\n",
       "      <th>1</th>\n",
       "      <td>trace</td>\n",
       "      <td>1</td>\n",
       "    </tr>\n",
       "    <tr>\n",
       "      <th>2</th>\n",
       "      <td>memory</td>\n",
       "      <td>3</td>\n",
       "    </tr>\n",
       "    <tr>\n",
       "      <th>3</th>\n",
       "      <td>fair</td>\n",
       "      <td>1</td>\n",
       "    </tr>\n",
       "    <tr>\n",
       "      <th>4</th>\n",
       "      <td>planet</td>\n",
       "      <td>26</td>\n",
       "    </tr>\n",
       "  </tbody>\n",
       "</table>\n",
       "</div>"
      ],
      "text/plain": [
       "       Word  Count\n",
       "0  wolfbane      1\n",
       "1     trace      1\n",
       "2    memory      3\n",
       "3      fair      1\n",
       "4    planet     26"
      ]
     },
     "execution_count": 35,
     "metadata": {},
     "output_type": "execute_result"
    }
   ],
   "source": [
    "word_count = getCommonWords(scifi_books_title_downloads_without_outliers)\n",
    "word_count.head()"
   ]
  },
  {
   "cell_type": "code",
   "execution_count": 36,
   "metadata": {},
   "outputs": [
    {
     "data": {
      "text/html": [
       "<div>\n",
       "<style scoped>\n",
       "    .dataframe tbody tr th:only-of-type {\n",
       "        vertical-align: middle;\n",
       "    }\n",
       "\n",
       "    .dataframe tbody tr th {\n",
       "        vertical-align: top;\n",
       "    }\n",
       "\n",
       "    .dataframe thead th {\n",
       "        text-align: right;\n",
       "    }\n",
       "</style>\n",
       "<table border=\"1\" class=\"dataframe\">\n",
       "  <thead>\n",
       "    <tr style=\"text-align: right;\">\n",
       "      <th></th>\n",
       "      <th>Word</th>\n",
       "      <th>Count</th>\n",
       "    </tr>\n",
       "  </thead>\n",
       "  <tbody>\n",
       "    <tr>\n",
       "      <th>67</th>\n",
       "      <td>space</td>\n",
       "      <td>26</td>\n",
       "    </tr>\n",
       "    <tr>\n",
       "      <th>4</th>\n",
       "      <td>planet</td>\n",
       "      <td>26</td>\n",
       "    </tr>\n",
       "    <tr>\n",
       "      <th>215</th>\n",
       "      <td>world</td>\n",
       "      <td>24</td>\n",
       "    </tr>\n",
       "    <tr>\n",
       "      <th>35</th>\n",
       "      <td>stories</td>\n",
       "      <td>23</td>\n",
       "    </tr>\n",
       "    <tr>\n",
       "      <th>14</th>\n",
       "      <td>man</td>\n",
       "      <td>22</td>\n",
       "    </tr>\n",
       "  </tbody>\n",
       "</table>\n",
       "</div>"
      ],
      "text/plain": [
       "        Word  Count\n",
       "67     space     26\n",
       "4     planet     26\n",
       "215    world     24\n",
       "35   stories     23\n",
       "14       man     22"
      ]
     },
     "execution_count": 36,
     "metadata": {},
     "output_type": "execute_result"
    }
   ],
   "source": [
    "sorted_word_counts = word_count.sort_values(by='Count', ascending=False)\n",
    "sorted_word_counts.head()"
   ]
  },
  {
   "cell_type": "code",
   "execution_count": 42,
   "metadata": {},
   "outputs": [
    {
     "data": {
      "image/png": "[encoded data removed]",
      "text/plain": [
       "<Figure size 864x576 with 1 Axes>"
      ]
     },
     "metadata": {
      "needs_background": "light"
     },
     "output_type": "display_data"
    },
    {
     "data": {
      "text/html": [
       "<div>\n",
       "<style scoped>\n",
       "    .dataframe tbody tr th:only-of-type {\n",
       "        vertical-align: middle;\n",
       "    }\n",
       "\n",
       "    .dataframe tbody tr th {\n",
       "        vertical-align: top;\n",
       "    }\n",
       "\n",
       "    .dataframe thead th {\n",
       "        text-align: right;\n",
       "    }\n",
       "</style>\n",
       "<table border=\"1\" class=\"dataframe\">\n",
       "  <thead>\n",
       "    <tr style=\"text-align: right;\">\n",
       "      <th></th>\n",
       "      <th>Word</th>\n",
       "      <th>Count</th>\n",
       "    </tr>\n",
       "  </thead>\n",
       "  <tbody>\n",
       "    <tr>\n",
       "      <th>67</th>\n",
       "      <td>space</td>\n",
       "      <td>26</td>\n",
       "    </tr>\n",
       "    <tr>\n",
       "      <th>4</th>\n",
       "      <td>planet</td>\n",
       "      <td>26</td>\n",
       "    </tr>\n",
       "    <tr>\n",
       "      <th>215</th>\n",
       "      <td>world</td>\n",
       "      <td>24</td>\n",
       "    </tr>\n",
       "    <tr>\n",
       "      <th>35</th>\n",
       "      <td>stories</td>\n",
       "      <td>23</td>\n",
       "    </tr>\n",
       "    <tr>\n",
       "      <th>14</th>\n",
       "      <td>man</td>\n",
       "      <td>22</td>\n",
       "    </tr>\n",
       "  </tbody>\n",
       "</table>\n",
       "</div>"
      ],
      "text/plain": [
       "        Word  Count\n",
       "67     space     26\n",
       "4     planet     26\n",
       "215    world     24\n",
       "35   stories     23\n",
       "14       man     22"
      ]
     },
     "execution_count": 42,
     "metadata": {},
     "output_type": "execute_result"
    }
   ],
   "source": [
    "number_of_top_words = 10\n",
    "top_words = sorted_word_counts.head(number_of_top_words)\n",
    "plt.figure(figsize=(12,8))\n",
    "plt.bar(top_words.Word, top_words.Count)\n",
    "plt.show()\n",
    "top_words.head()"
   ]
  },
  {
   "cell_type": "code",
   "execution_count": 51,
   "metadata": {},
   "outputs": [],
   "source": [
    "# plot of words vs downloads\n",
    "# plot coefficients\n",
    "# split into buckets and do linear regressions and show coef for top words\n",
    "# Show that there is no correlation between book title and number of downloads"
   ]
  },
  {
   "cell_type": "code",
   "execution_count": 44,
   "metadata": {},
   "outputs": [
    {
     "data": {
      "image/png": "[encoded data removed]",
      "text/plain": [
       "<Figure size 864x576 with 1 Axes>"
      ]
     },
     "metadata": {
      "needs_background": "light"
     },
     "output_type": "display_data"
    },
    {
     "data": {
      "text/html": [
       "<div>\n",
       "<style scoped>\n",
       "    .dataframe tbody tr th:only-of-type {\n",
       "        vertical-align: middle;\n",
       "    }\n",
       "\n",
       "    .dataframe tbody tr th {\n",
       "        vertical-align: top;\n",
       "    }\n",
       "\n",
       "    .dataframe thead th {\n",
       "        text-align: right;\n",
       "    }\n",
       "</style>\n",
       "<table border=\"1\" class=\"dataframe\">\n",
       "  <thead>\n",
       "    <tr style=\"text-align: right;\">\n",
       "      <th></th>\n",
       "      <th>Word</th>\n",
       "      <th>Count</th>\n",
       "    </tr>\n",
       "  </thead>\n",
       "  <tbody>\n",
       "    <tr>\n",
       "      <th>67</th>\n",
       "      <td>space</td>\n",
       "      <td>26</td>\n",
       "    </tr>\n",
       "    <tr>\n",
       "      <th>4</th>\n",
       "      <td>planet</td>\n",
       "      <td>26</td>\n",
       "    </tr>\n",
       "    <tr>\n",
       "      <th>215</th>\n",
       "      <td>world</td>\n",
       "      <td>24</td>\n",
       "    </tr>\n",
       "    <tr>\n",
       "      <th>35</th>\n",
       "      <td>stories</td>\n",
       "      <td>23</td>\n",
       "    </tr>\n",
       "    <tr>\n",
       "      <th>14</th>\n",
       "      <td>man</td>\n",
       "      <td>22</td>\n",
       "    </tr>\n",
       "  </tbody>\n",
       "</table>\n",
       "</div>"
      ],
      "text/plain": [
       "        Word  Count\n",
       "67     space     26\n",
       "4     planet     26\n",
       "215    world     24\n",
       "35   stories     23\n",
       "14       man     22"
      ]
     },
     "execution_count": 44,
     "metadata": {},
     "output_type": "execute_result"
    }
   ],
   "source": [
    "display_indices = np.arange(0, len(sorted_word_counts.Count))\n",
    "plt.figure(figsize=(12,8))\n",
    "plt.bar(display_indices, sorted_word_counts.Count)\n",
    "plt.show()\n",
    "top_words.head()"
   ]
  },
  {
   "cell_type": "code",
   "execution_count": 46,
   "metadata": {
    "scrolled": true
   },
   "outputs": [
    {
     "data": {
      "text/html": [
       "<div>\n",
       "<style scoped>\n",
       "    .dataframe tbody tr th:only-of-type {\n",
       "        vertical-align: middle;\n",
       "    }\n",
       "\n",
       "    .dataframe tbody tr th {\n",
       "        vertical-align: top;\n",
       "    }\n",
       "\n",
       "    .dataframe thead th {\n",
       "        text-align: right;\n",
       "    }\n",
       "</style>\n",
       "<table border=\"1\" class=\"dataframe\">\n",
       "  <thead>\n",
       "    <tr style=\"text-align: right;\">\n",
       "      <th></th>\n",
       "      <th>Title</th>\n",
       "      <th>Downloads</th>\n",
       "    </tr>\n",
       "  </thead>\n",
       "  <tbody>\n",
       "    <tr>\n",
       "      <th>755</th>\n",
       "      <td>anthem</td>\n",
       "      <td>15071</td>\n",
       "    </tr>\n",
       "    <tr>\n",
       "      <th>138</th>\n",
       "      <td>war worlds</td>\n",
       "      <td>7623</td>\n",
       "    </tr>\n",
       "    <tr>\n",
       "      <th>718</th>\n",
       "      <td>b r   b</td>\n",
       "      <td>3866</td>\n",
       "    </tr>\n",
       "    <tr>\n",
       "      <th>420</th>\n",
       "      <td>journey centre earth</td>\n",
       "      <td>1598</td>\n",
       "    </tr>\n",
       "    <tr>\n",
       "      <th>328</th>\n",
       "      <td>twenty thousand leagues seas  underwater tour ...</td>\n",
       "      <td>1254</td>\n",
       "    </tr>\n",
       "  </tbody>\n",
       "</table>\n",
       "</div>"
      ],
      "text/plain": [
       "                                                 Title  Downloads\n",
       "755                                             anthem      15071\n",
       "138                                         war worlds       7623\n",
       "718                                            b r   b       3866\n",
       "420                               journey centre earth       1598\n",
       "328  twenty thousand leagues seas  underwater tour ...       1254"
      ]
     },
     "execution_count": 46,
     "metadata": {},
     "output_type": "execute_result"
    }
   ],
   "source": [
    "scifi_books_title_downloads = scifi_books_title_downloads.sort_values(by='Downloads', ascending=False)\n",
    "scifi_books_title_downloads.head()"
   ]
  },
  {
   "cell_type": "code",
   "execution_count": 114,
   "metadata": {},
   "outputs": [
    {
     "data": {
      "image/png": "[encoded data removed]",
      "text/plain": [
       "<Figure size 1296x864 with 1 Axes>"
      ]
     },
     "metadata": {
      "needs_background": "light"
     },
     "output_type": "display_data"
    },
    {
     "data": {
      "text/html": [
       "<div>\n",
       "<style scoped>\n",
       "    .dataframe tbody tr th:only-of-type {\n",
       "        vertical-align: middle;\n",
       "    }\n",
       "\n",
       "    .dataframe tbody tr th {\n",
       "        vertical-align: top;\n",
       "    }\n",
       "\n",
       "    .dataframe thead th {\n",
       "        text-align: right;\n",
       "    }\n",
       "</style>\n",
       "<table border=\"1\" class=\"dataframe\">\n",
       "  <thead>\n",
       "    <tr style=\"text-align: right;\">\n",
       "      <th></th>\n",
       "      <th>Word</th>\n",
       "      <th>Count</th>\n",
       "    </tr>\n",
       "  </thead>\n",
       "  <tbody>\n",
       "    <tr>\n",
       "      <th>67</th>\n",
       "      <td>space</td>\n",
       "      <td>26</td>\n",
       "    </tr>\n",
       "    <tr>\n",
       "      <th>4</th>\n",
       "      <td>planet</td>\n",
       "      <td>26</td>\n",
       "    </tr>\n",
       "    <tr>\n",
       "      <th>215</th>\n",
       "      <td>world</td>\n",
       "      <td>24</td>\n",
       "    </tr>\n",
       "    <tr>\n",
       "      <th>35</th>\n",
       "      <td>stories</td>\n",
       "      <td>23</td>\n",
       "    </tr>\n",
       "    <tr>\n",
       "      <th>14</th>\n",
       "      <td>man</td>\n",
       "      <td>22</td>\n",
       "    </tr>\n",
       "  </tbody>\n",
       "</table>\n",
       "</div>"
      ],
      "text/plain": [
       "        Word  Count\n",
       "67     space     26\n",
       "4     planet     26\n",
       "215    world     24\n",
       "35   stories     23\n",
       "14       man     22"
      ]
     },
     "execution_count": 114,
     "metadata": {},
     "output_type": "execute_result"
    }
   ],
   "source": [
    "top_titles_by_download = 50\n",
    "top_titles = scifi_books_title_downloads.head(top_titles_by_download)\n",
    "plt.figure(figsize=(18,12))\n",
    "plt.barh(top_titles.Title, top_titles.Downloads)\n",
    "plt.show()\n",
    "top_words.head()"
   ]
  },
  {
   "cell_type": "code",
   "execution_count": 53,
   "metadata": {},
   "outputs": [
    {
     "name": "stdout",
     "output_type": "stream",
     "text": [
      "(949, 2)\n",
      "(664, 2)\n",
      "(285, 2)\n"
     ]
    },
    {
     "data": {
      "text/html": [
       "<div>\n",
       "<style scoped>\n",
       "    .dataframe tbody tr th:only-of-type {\n",
       "        vertical-align: middle;\n",
       "    }\n",
       "\n",
       "    .dataframe tbody tr th {\n",
       "        vertical-align: top;\n",
       "    }\n",
       "\n",
       "    .dataframe thead th {\n",
       "        text-align: right;\n",
       "    }\n",
       "</style>\n",
       "<table border=\"1\" class=\"dataframe\">\n",
       "  <thead>\n",
       "    <tr style=\"text-align: right;\">\n",
       "      <th></th>\n",
       "      <th>Title</th>\n",
       "      <th>Downloads</th>\n",
       "    </tr>\n",
       "  </thead>\n",
       "  <tbody>\n",
       "    <tr>\n",
       "      <th>381</th>\n",
       "      <td>pursuit</td>\n",
       "      <td>29</td>\n",
       "    </tr>\n",
       "    <tr>\n",
       "      <th>25</th>\n",
       "      <td>course</td>\n",
       "      <td>36</td>\n",
       "    </tr>\n",
       "    <tr>\n",
       "      <th>111</th>\n",
       "      <td>dictator</td>\n",
       "      <td>87</td>\n",
       "    </tr>\n",
       "    <tr>\n",
       "      <th>933</th>\n",
       "      <td>food gods came earth</td>\n",
       "      <td>190</td>\n",
       "    </tr>\n",
       "    <tr>\n",
       "      <th>251</th>\n",
       "      <td>third planet</td>\n",
       "      <td>111</td>\n",
       "    </tr>\n",
       "  </tbody>\n",
       "</table>\n",
       "</div>"
      ],
      "text/plain": [
       "                    Title  Downloads\n",
       "381               pursuit         29\n",
       "25                 course         36\n",
       "111              dictator         87\n",
       "933  food gods came earth        190\n",
       "251          third planet        111"
      ]
     },
     "execution_count": 53,
     "metadata": {},
     "output_type": "execute_result"
    }
   ],
   "source": [
    "train_data, test_data = train_test_split(scifi_books_title_downloads, test_size = 0.3, random_state=42)\n",
    "print(scifi_books_title_downloads.shape)\n",
    "print(train_data.shape)\n",
    "print(test_data.shape)\n",
    "train_data.head()"
   ]
  },
  {
   "cell_type": "code",
   "execution_count": 115,
   "metadata": {},
   "outputs": [],
   "source": [
    "vectorizer = CountVectorizer(stop_words=\"english\",\n",
    "                             preprocessor=clean_text,\n",
    "                             strip_accents=\"unicode\")"
   ]
  },
  {
   "cell_type": "code",
   "execution_count": 116,
   "metadata": {
    "scrolled": true
   },
   "outputs": [
    {
     "name": "stdout",
     "output_type": "stream",
     "text": [
      "(664,)\n",
      "(664, 931)\n",
      "(285,)\n",
      "(285, 931)\n"
     ]
    }
   ],
   "source": [
    "train_label = train_data[\"Downloads\"]\n",
    "train_features = vectorizer.fit_transform(train_data[\"Title\"])\n",
    "test_label = test_data[\"Downloads\"]\n",
    "test_features = vectorizer.transform(test_data[\"Title\"])\n",
    "print(train_label.shape)\n",
    "print(train_features.shape)\n",
    "print(test_label.shape)\n",
    "print(test_features.shape)"
   ]
  },
  {
   "cell_type": "code",
   "execution_count": 117,
   "metadata": {},
   "outputs": [
    {
     "data": {
      "text/plain": [
       "['abyss',\n",
       " 'accidental',\n",
       " 'acid',\n",
       " 'action',\n",
       " 'ad',\n",
       " 'adolescents',\n",
       " 'adventurer',\n",
       " 'affair',\n",
       " 'afternoon',\n",
       " 'age',\n",
       " 'agents',\n",
       " 'aggravation',\n",
       " 'air',\n",
       " 'airlords',\n",
       " 'alert',\n",
       " 'alien',\n",
       " 'aliens',\n",
       " 'almanack',\n",
       " 'aloys',\n",
       " 'amateur',\n",
       " 'amateurs',\n",
       " 'amazon',\n",
       " 'ambulance',\n",
       " 'analogue',\n",
       " 'ancestor',\n",
       " 'anchorite',\n",
       " 'andromeda',\n",
       " 'angel',\n",
       " 'angels',\n",
       " 'anglers',\n",
       " 'anthem',\n",
       " 'apples',\n",
       " 'april',\n",
       " 'aptor',\n",
       " 'arctic',\n",
       " 'arcturus',\n",
       " 'armageddon',\n",
       " 'arret',\n",
       " 'arthur',\n",
       " 'arz',\n",
       " 'ask',\n",
       " 'assassin',\n",
       " 'asses',\n",
       " 'asteroid',\n",
       " 'asti',\n",
       " 'astounding',\n",
       " 'atlantida',\n",
       " 'atom',\n",
       " 'attached',\n",
       " 'attention',\n",
       " 'attrition',\n",
       " 'atvatabar',\n",
       " 'august',\n",
       " 'awakening',\n",
       " 'bacillus',\n",
       " 'backlash',\n",
       " 'backward',\n",
       " 'bad',\n",
       " 'badge',\n",
       " 'balaam',\n",
       " 'balak',\n",
       " 'bath',\n",
       " 'battle',\n",
       " 'bearing',\n",
       " 'beast',\n",
       " 'beginning',\n",
       " 'belt',\n",
       " 'best',\n",
       " 'big',\n",
       " 'billion',\n",
       " 'black',\n",
       " 'blaster',\n",
       " 'blind',\n",
       " 'blindmans',\n",
       " 'blue',\n",
       " 'bluff',\n",
       " 'bobby',\n",
       " 'bone',\n",
       " 'boomer',\n",
       " 'borderland',\n",
       " 'born',\n",
       " 'bottle',\n",
       " 'bounce',\n",
       " 'box',\n",
       " 'brain',\n",
       " 'brains',\n",
       " 'bramble',\n",
       " 'bread',\n",
       " 'breaking',\n",
       " 'bride',\n",
       " 'bridge',\n",
       " 'brigands',\n",
       " 'bright',\n",
       " 'brightside',\n",
       " 'brood',\n",
       " 'brothers',\n",
       " 'bullet',\n",
       " 'bush',\n",
       " 'business',\n",
       " 'butterfly',\n",
       " 'called',\n",
       " 'came',\n",
       " 'cappen',\n",
       " 'carnivore',\n",
       " 'case',\n",
       " 'cat',\n",
       " 'cavern',\n",
       " 'censor',\n",
       " 'cent',\n",
       " 'centaurus',\n",
       " 'centre',\n",
       " 'chamber',\n",
       " 'charity',\n",
       " 'chessmen',\n",
       " 'chicago',\n",
       " 'child',\n",
       " 'children',\n",
       " 'choke',\n",
       " 'circle',\n",
       " 'circuit',\n",
       " 'citadel',\n",
       " 'city',\n",
       " 'clean',\n",
       " 'clerk',\n",
       " 'cleveland',\n",
       " 'coffin',\n",
       " 'collectors',\n",
       " 'colony',\n",
       " 'colors',\n",
       " 'columbus',\n",
       " 'coming',\n",
       " 'common',\n",
       " 'complete',\n",
       " 'computer',\n",
       " 'conquest',\n",
       " 'consignment',\n",
       " 'continent',\n",
       " 'control',\n",
       " 'cool',\n",
       " 'copperclad',\n",
       " 'core',\n",
       " 'cosmic',\n",
       " 'cosmos',\n",
       " 'cost',\n",
       " 'country',\n",
       " 'course',\n",
       " 'creature',\n",
       " 'creatures',\n",
       " 'crimson',\n",
       " 'croen',\n",
       " 'crossing',\n",
       " 'crossroads',\n",
       " 'crowded',\n",
       " 'crystals',\n",
       " 'cubs',\n",
       " 'cure',\n",
       " 'curiosities',\n",
       " 'damned',\n",
       " 'danger',\n",
       " 'dark',\n",
       " 'daughters',\n",
       " 'dawningsburgh',\n",
       " 'day',\n",
       " 'dead',\n",
       " 'deadly',\n",
       " 'death',\n",
       " 'deaths',\n",
       " 'deathworld',\n",
       " 'december',\n",
       " 'deep',\n",
       " 'defenders',\n",
       " 'defiant',\n",
       " 'degrees',\n",
       " 'delayed',\n",
       " 'denominator',\n",
       " 'depths',\n",
       " 'desire',\n",
       " 'despoilers',\n",
       " 'destiny',\n",
       " 'destroyers',\n",
       " 'devil',\n",
       " 'devolutionist',\n",
       " 'diagnosis',\n",
       " 'diamonds',\n",
       " 'dictator',\n",
       " 'die',\n",
       " 'difference',\n",
       " 'dig',\n",
       " 'dimension',\n",
       " 'dimensions',\n",
       " 'diplomatic',\n",
       " 'disaster',\n",
       " 'disowned',\n",
       " 'distress',\n",
       " 'dogfight',\n",
       " 'dome',\n",
       " 'dont',\n",
       " 'doodler',\n",
       " 'doom',\n",
       " 'doomsday',\n",
       " 'doomsman',\n",
       " 'door',\n",
       " 'doorstep',\n",
       " 'double',\n",
       " 'dp',\n",
       " 'dragon',\n",
       " 'draw',\n",
       " 'dread',\n",
       " 'dreams',\n",
       " 'drive',\n",
       " 'drought',\n",
       " 'dukes',\n",
       " 'dunwich',\n",
       " 'dust',\n",
       " 'earth',\n",
       " 'earthbound',\n",
       " 'earthlight',\n",
       " 'earthmen',\n",
       " 'earths',\n",
       " 'eastern',\n",
       " 'edge',\n",
       " 'edisons',\n",
       " 'eel',\n",
       " 'effect',\n",
       " 'egg',\n",
       " 'ego',\n",
       " 'einstein',\n",
       " 'elevator',\n",
       " 'elmer',\n",
       " 'emancipatrix',\n",
       " 'empire',\n",
       " 'end',\n",
       " 'ending',\n",
       " 'endless',\n",
       " 'enemy',\n",
       " 'envoy',\n",
       " 'equality',\n",
       " 'equation',\n",
       " 'equivalent',\n",
       " 'ersatz',\n",
       " 'eternal',\n",
       " 'eternity',\n",
       " 'eve',\n",
       " 'evolution',\n",
       " 'experiment',\n",
       " 'exploiters',\n",
       " 'express',\n",
       " 'extracts',\n",
       " 'eyes',\n",
       " 'ezekiel',\n",
       " 'face',\n",
       " 'fair',\n",
       " 'faithfully',\n",
       " 'falcons',\n",
       " 'fall',\n",
       " 'fan',\n",
       " 'fans',\n",
       " 'fantasia',\n",
       " 'fantasy',\n",
       " 'far',\n",
       " 'farm',\n",
       " 'father',\n",
       " 'fear',\n",
       " 'february',\n",
       " 'fee',\n",
       " 'feeling',\n",
       " 'felony',\n",
       " 'field',\n",
       " 'fiend',\n",
       " 'figure',\n",
       " 'final',\n",
       " 'finding',\n",
       " 'fishing',\n",
       " 'flatland',\n",
       " 'flight',\n",
       " 'food',\n",
       " 'foolish',\n",
       " 'foreign',\n",
       " 'forever',\n",
       " 'forgot',\n",
       " 'forgotten',\n",
       " 'foster',\n",
       " 'founding',\n",
       " 'foundling',\n",
       " 'fourday',\n",
       " 'fourfaced',\n",
       " 'fourth',\n",
       " 'frank',\n",
       " 'free',\n",
       " 'freelancer',\n",
       " 'fresh',\n",
       " 'friend',\n",
       " 'friends',\n",
       " 'frontier',\n",
       " 'furious',\n",
       " 'future',\n",
       " 'futuria',\n",
       " 'fuze',\n",
       " 'galactick',\n",
       " 'galaxy',\n",
       " 'gallery',\n",
       " 'gamblers',\n",
       " 'game',\n",
       " 'gang',\n",
       " 'ganymede',\n",
       " 'garden',\n",
       " 'garth',\n",
       " 'general',\n",
       " 'genesis',\n",
       " 'genius',\n",
       " 'ghost',\n",
       " 'giants',\n",
       " 'gift',\n",
       " 'gifts',\n",
       " 'girl',\n",
       " 'girls',\n",
       " 'giveaway',\n",
       " 'gladiator',\n",
       " 'glass',\n",
       " 'gleeb',\n",
       " 'glove',\n",
       " 'god',\n",
       " 'goddess',\n",
       " 'gods',\n",
       " 'golden',\n",
       " 'gomorrah',\n",
       " 'gone',\n",
       " 'gourmet',\n",
       " 'grave',\n",
       " 'graveyard',\n",
       " 'gray',\n",
       " 'great',\n",
       " 'greech',\n",
       " 'green',\n",
       " 'greener',\n",
       " 'greensleeves',\n",
       " 'greylorn',\n",
       " 'group',\n",
       " 'grove',\n",
       " 'guaranteed',\n",
       " 'gulliver',\n",
       " 'gun',\n",
       " 'gwahlur',\n",
       " 'haldgren',\n",
       " 'hall',\n",
       " 'ham',\n",
       " 'hammer',\n",
       " 'han',\n",
       " 'hand',\n",
       " 'hands',\n",
       " 'handyman',\n",
       " 'hanging',\n",
       " 'happy',\n",
       " 'hated',\n",
       " 'hawk',\n",
       " 'haystack',\n",
       " 'hearts',\n",
       " 'heist',\n",
       " 'hell',\n",
       " 'hellhounds',\n",
       " 'helpfully',\n",
       " 'hero',\n",
       " 'heroes',\n",
       " 'hex',\n",
       " 'hiding',\n",
       " 'highest',\n",
       " 'highways',\n",
       " 'hills',\n",
       " 'holes',\n",
       " 'home',\n",
       " 'homesick',\n",
       " 'homogenized',\n",
       " 'honeymoon',\n",
       " 'honor',\n",
       " 'hope',\n",
       " 'horror',\n",
       " 'horses',\n",
       " 'hot',\n",
       " 'hour',\n",
       " 'house',\n",
       " 'hunt',\n",
       " 'hunted',\n",
       " 'hunter',\n",
       " 'hunters',\n",
       " 'hyborian',\n",
       " 'ice',\n",
       " 'ideal',\n",
       " 'ill',\n",
       " 'im',\n",
       " 'immortals',\n",
       " 'immunity',\n",
       " 'importance',\n",
       " 'impossibles',\n",
       " 'incidents',\n",
       " 'incorporated',\n",
       " 'indulgence',\n",
       " 'industrial',\n",
       " 'infamy',\n",
       " 'infinity',\n",
       " 'innocent',\n",
       " 'inside',\n",
       " 'insidekick',\n",
       " 'interior',\n",
       " 'interstellar',\n",
       " 'invader',\n",
       " 'invaders',\n",
       " 'invasion',\n",
       " 'ipc',\n",
       " 'iron',\n",
       " 'islands',\n",
       " 'item',\n",
       " 'jacksons',\n",
       " 'jacob',\n",
       " 'january',\n",
       " 'jaywalker',\n",
       " 'jewels',\n",
       " 'job',\n",
       " 'join',\n",
       " 'journey',\n",
       " 'judas',\n",
       " 'juju',\n",
       " 'july',\n",
       " 'june',\n",
       " 'junior',\n",
       " 'jupiter',\n",
       " 'kats',\n",
       " 'keeper',\n",
       " 'kelly',\n",
       " 'key',\n",
       " 'kill',\n",
       " 'kills',\n",
       " 'kingdom',\n",
       " 'kiss',\n",
       " 'kit',\n",
       " 'knew',\n",
       " 'knife',\n",
       " 'knights',\n",
       " 'kor',\n",
       " 'kreativity',\n",
       " 'ku',\n",
       " 'lady',\n",
       " 'lamps',\n",
       " 'land',\n",
       " 'landing',\n",
       " 'lani',\n",
       " 'large',\n",
       " 'later',\n",
       " 'law',\n",
       " 'lazarus',\n",
       " 'leagues',\n",
       " 'leech',\n",
       " 'left',\n",
       " 'legacy',\n",
       " 'legion',\n",
       " 'lensman',\n",
       " 'let',\n",
       " 'letter',\n",
       " 'lies',\n",
       " 'life',\n",
       " 'light',\n",
       " 'likeness',\n",
       " 'link',\n",
       " 'lion',\n",
       " 'little',\n",
       " 'living',\n",
       " 'logical',\n",
       " 'lone',\n",
       " 'lonesome',\n",
       " 'long',\n",
       " 'longest',\n",
       " 'look',\n",
       " 'looking',\n",
       " 'loose',\n",
       " 'loray',\n",
       " 'lord',\n",
       " 'lords',\n",
       " 'lost',\n",
       " 'love',\n",
       " 'machine',\n",
       " 'mad',\n",
       " 'magazine',\n",
       " 'magic',\n",
       " 'magnet',\n",
       " 'mah',\n",
       " 'make',\n",
       " 'man',\n",
       " 'manners',\n",
       " 'mans',\n",
       " 'mappers',\n",
       " 'march',\n",
       " 'marching',\n",
       " 'mars',\n",
       " 'martian',\n",
       " 'mask',\n",
       " 'mastodon',\n",
       " 'matter',\n",
       " 'max',\n",
       " 'mcguire',\n",
       " 'measure',\n",
       " 'med',\n",
       " 'medal',\n",
       " 'medicine',\n",
       " 'meeting',\n",
       " 'memory',\n",
       " 'men',\n",
       " 'menace',\n",
       " 'mercenaries',\n",
       " 'mercenary',\n",
       " 'mercury',\n",
       " 'metal',\n",
       " 'metamorphosis',\n",
       " 'miles',\n",
       " 'minds',\n",
       " 'minus',\n",
       " 'mirrors',\n",
       " 'missing',\n",
       " 'mizora',\n",
       " 'modus',\n",
       " 'moklin',\n",
       " 'monster',\n",
       " 'moon',\n",
       " 'moonlight',\n",
       " 'moons',\n",
       " 'moonvoyage',\n",
       " 'moral',\n",
       " 'moron',\n",
       " 'morons',\n",
       " 'mother',\n",
       " 'mountain',\n",
       " 'mouse',\n",
       " 'moving',\n",
       " 'mr',\n",
       " 'mss',\n",
       " 'muddles',\n",
       " 'music',\n",
       " 'mystery',\n",
       " 'nails',\n",
       " 'named',\n",
       " 'narabedla',\n",
       " 'native',\n",
       " 'naudsonce',\n",
       " 'navy',\n",
       " 'near',\n",
       " 'negu',\n",
       " 'new',\n",
       " 'night',\n",
       " 'nightmare',\n",
       " 'nineteen',\n",
       " 'ninth',\n",
       " 'njurd',\n",
       " 'novel',\n",
       " 'novelette',\n",
       " 'novice',\n",
       " 'nucleus',\n",
       " 'occasion',\n",
       " 'ocean',\n",
       " 'october',\n",
       " 'odyssey',\n",
       " 'offer',\n",
       " 'officer',\n",
       " 'old',\n",
       " 'omnilingual',\n",
       " 'oneness',\n",
       " 'ones',\n",
       " 'oneshot',\n",
       " 'oomphel',\n",
       " 'operation',\n",
       " 'orcon',\n",
       " 'orphans',\n",
       " 'ounce',\n",
       " 'outer',\n",
       " 'outside',\n",
       " 'overhead',\n",
       " 'pail',\n",
       " 'pal',\n",
       " 'pandora',\n",
       " 'papers',\n",
       " 'paradise',\n",
       " 'party',\n",
       " 'passes',\n",
       " 'passing',\n",
       " 'patrick',\n",
       " 'patrol',\n",
       " 'peacemaker',\n",
       " 'pen',\n",
       " 'people',\n",
       " 'peril',\n",
       " 'pet',\n",
       " 'physicist',\n",
       " 'picture',\n",
       " 'pioneers',\n",
       " 'piper',\n",
       " 'pirates',\n",
       " 'place',\n",
       " 'plague',\n",
       " 'planet',\n",
       " 'planetoid',\n",
       " 'plans',\n",
       " 'pluto',\n",
       " 'point',\n",
       " 'poison',\n",
       " 'police',\n",
       " 'pool',\n",
       " 'postmark',\n",
       " 'potential',\n",
       " 'potlatch',\n",
       " 'preferred',\n",
       " 'prime',\n",
       " 'primes',\n",
       " 'princess',\n",
       " 'prison',\n",
       " 'private',\n",
       " 'problem',\n",
       " 'profession',\n",
       " 'project',\n",
       " 'prologue',\n",
       " 'proof',\n",
       " 'prophecya',\n",
       " 'prophet',\n",
       " 'proportion',\n",
       " 'prospectors',\n",
       " 'protector',\n",
       " 'proxy',\n",
       " 'psichopath',\n",
       " 'publicity',\n",
       " 'pudding',\n",
       " 'pursuit',\n",
       " 'putnam',\n",
       " 'pygmalions',\n",
       " 'pygmy',\n",
       " 'pythias',\n",
       " 'pythons',\n",
       " 'quandary',\n",
       " 'quest',\n",
       " 'question',\n",
       " 'quo',\n",
       " 'race',\n",
       " 'radiant',\n",
       " 'radio',\n",
       " 'rag',\n",
       " 'raid',\n",
       " 'raiders',\n",
       " 'rambling',\n",
       " 'rat',\n",
       " 'read',\n",
       " 'record',\n",
       " 'recruit',\n",
       " 'red',\n",
       " 'reluctant',\n",
       " 'repairman',\n",
       " 'revolt',\n",
       " 'revolution',\n",
       " 'ride',\n",
       " 'riders',\n",
       " 'rides',\n",
       " 'rigel',\n",
       " 'right',\n",
       " 'ring',\n",
       " 'ringer',\n",
       " 'riots',\n",
       " 'rip',\n",
       " 'risk',\n",
       " 'river',\n",
       " 'romance',\n",
       " 'rose',\n",
       " 'rough',\n",
       " 'round',\n",
       " 'runaway',\n",
       " 'saint',\n",
       " 'sales',\n",
       " 'salvage',\n",
       " 'sand',\n",
       " 'sandwich',\n",
       " 'sargasso',\n",
       " 'satisfaction',\n",
       " 'saved',\n",
       " 'savers',\n",
       " 'saw',\n",
       " 'scrimshaw',\n",
       " 'sea',\n",
       " 'search',\n",
       " 'seas',\n",
       " 'second',\n",
       " 'secret',\n",
       " 'security',\n",
       " 'seed',\n",
       " 'seen',\n",
       " 'seesaw',\n",
       " 'sense',\n",
       " 'sensitive',\n",
       " 'sentiment',\n",
       " 'sentimental',\n",
       " 'sentimentalists',\n",
       " 'sentry',\n",
       " 'september',\n",
       " 'servant',\n",
       " 'serve',\n",
       " 'service',\n",
       " 'set',\n",
       " 'shadows',\n",
       " 'shall',\n",
       " 'shape',\n",
       " 'shell',\n",
       " 'shining',\n",
       " 'ship',\n",
       " 'shipmatecolumbus',\n",
       " 'shipping',\n",
       " 'shoot',\n",
       " 'shop',\n",
       " 'shorter',\n",
       " 'sight',\n",
       " 'silence',\n",
       " 'silver',\n",
       " 'sinister',\n",
       " 'sjambak',\n",
       " 'skies',\n",
       " 'skull',\n",
       " 'sky',\n",
       " 'skylark',\n",
       " 'skyscraper',\n",
       " 'slave',\n",
       " 'slaves',\n",
       " 'sleeper',\n",
       " 'sleepers',\n",
       " 'slingshot',\n",
       " 'slizzers',\n",
       " 'smile',\n",
       " 'snow',\n",
       " 'snowball',\n",
       " 'sodom',\n",
       " 'soil',\n",
       " 'solar',\n",
       " 'solid',\n",
       " 'solution',\n",
       " 'son',\n",
       " 'sordman',\n",
       " 'sorry',\n",
       " 'sound',\n",
       " 'soup',\n",
       " 'space',\n",
       " 'spacehounds',\n",
       " 'spaceman',\n",
       " 'spacemen',\n",
       " 'spaceship',\n",
       " 'special',\n",
       " 'spectacles',\n",
       " 'spillthrough',\n",
       " 'spoken',\n",
       " 'spot',\n",
       " 'spring',\n",
       " 'spy',\n",
       " 'squeeze',\n",
       " 'stand',\n",
       " 'standard',\n",
       " 'star',\n",
       " 'stars',\n",
       " 'station',\n",
       " 'status',\n",
       " 'step',\n",
       " 'stolen',\n",
       " 'stop',\n",
       " 'stopped',\n",
       " 'stories',\n",
       " 'storm',\n",
       " 'stranger',\n",
       " 'strappers',\n",
       " 'stratosphere',\n",
       " 'street',\n",
       " 'strings',\n",
       " 'stuff',\n",
       " 'stunt',\n",
       " 'subspace',\n",
       " 'subversive',\n",
       " 'sui',\n",
       " 'summer',\n",
       " 'sun',\n",
       " 'supermind',\n",
       " 'superscience',\n",
       " 'supper',\n",
       " 'survival',\n",
       " 'survivors',\n",
       " 'sweeper',\n",
       " 'sweet',\n",
       " 'sword',\n",
       " 'syndic',\n",
       " 'tabby',\n",
       " 'taboo',\n",
       " 'tactics',\n",
       " 'tale',\n",
       " 'talents',\n",
       " 'tales',\n",
       " 'tea',\n",
       " 'tedric',\n",
       " 'teenage',\n",
       " 'termites',\n",
       " 'terror',\n",
       " 'test',\n",
       " 'texas',\n",
       " 'thats',\n",
       " 'thaw',\n",
       " 'theres',\n",
       " 'think',\n",
       " 'thizar',\n",
       " 'thompsons',\n",
       " 'thor',\n",
       " 'thousand',\n",
       " 'thread',\n",
       " 'thule',\n",
       " 'thy',\n",
       " 'tie',\n",
       " 'tight',\n",
       " 'time',\n",
       " 'timer',\n",
       " 'times',\n",
       " 'today',\n",
       " 'tomorrow',\n",
       " 'took',\n",
       " 'tooth',\n",
       " 'tour',\n",
       " 'tower',\n",
       " 'town',\n",
       " 'toy',\n",
       " 'trace',\n",
       " 'traders',\n",
       " 'tradition',\n",
       " 'transfer',\n",
       " 'translation',\n",
       " 'transmutation',\n",
       " 'trap',\n",
       " 'traveler',\n",
       " 'tray',\n",
       " 'treachery',\n",
       " 'treason',\n",
       " 'tribe',\n",
       " 'trip',\n",
       " 'triplanetary',\n",
       " 'trips',\n",
       " 'troubadour',\n",
       " 'troublemakers',\n",
       " 'tube',\n",
       " 'tug',\n",
       " 'turning',\n",
       " 'turnover',\n",
       " 'uller',\n",
       " 'ullr',\n",
       " 'ultima',\n",
       " 'ultimate',\n",
       " 'unborn',\n",
       " 'underground',\n",
       " 'undersea',\n",
       " 'underwater',\n",
       " 'undetected',\n",
       " 'unfortunate',\n",
       " 'united',\n",
       " 'universe',\n",
       " 'universes',\n",
       " 'unknown',\n",
       " 'unseen',\n",
       " 'unthinkable',\n",
       " 'unwise',\n",
       " 'uprising',\n",
       " 'usual',\n",
       " 'valley',\n",
       " 'valor',\n",
       " 'vampires',\n",
       " 'variety',\n",
       " 'varra',\n",
       " 'velvet',\n",
       " 'venus',\n",
       " 'vera',\n",
       " 'vermin',\n",
       " 'vibration',\n",
       " 'viking',\n",
       " 'vilbar',\n",
       " 'visitor',\n",
       " 'visitors',\n",
       " 'vivendi',\n",
       " 'void',\n",
       " 'volpla',\n",
       " 'voodoo',\n",
       " 'vortex',\n",
       " 'voyage',\n",
       " 'vulcans',\n",
       " 'wakes',\n",
       " 'walked',\n",
       " 'wall',\n",
       " 'wanderer',\n",
       " 'war',\n",
       " 'warlock',\n",
       " 'warlord',\n",
       " 'warm',\n",
       " 'warrior',\n",
       " 'warship',\n",
       " 'wasnt',\n",
       " 'watch',\n",
       " 'way',\n",
       " 'weapon',\n",
       " 'weather',\n",
       " 'weirdest',\n",
       " 'west',\n",
       " 'whats',\n",
       " 'wheels',\n",
       " 'wholesome',\n",
       " 'winds',\n",
       " 'wine',\n",
       " 'winged',\n",
       " 'wish',\n",
       " 'wisher',\n",
       " 'witch',\n",
       " 'wizard',\n",
       " 'woke',\n",
       " 'wolf',\n",
       " 'woman',\n",
       " 'wonder',\n",
       " 'woods',\n",
       " 'workshop',\n",
       " 'world',\n",
       " 'worlds',\n",
       " 'writings',\n",
       " 'wrong',\n",
       " 'wub',\n",
       " 'year',\n",
       " 'years',\n",
       " 'yillian',\n",
       " 'yonder',\n",
       " 'youth',\n",
       " 'zamboula',\n",
       " 'zarovitch',\n",
       " 'zen',\n",
       " 'zeritskys',\n",
       " 'zero']"
      ]
     },
     "execution_count": 117,
     "metadata": {},
     "output_type": "execute_result"
    }
   ],
   "source": [
    "vectorizer.get_feature_names()"
   ]
  },
  {
   "cell_type": "markdown",
   "metadata": {},
   "source": [
    "### Training"
   ]
  },
  {
   "cell_type": "code",
   "execution_count": 118,
   "metadata": {},
   "outputs": [],
   "source": [
    "linear_regression_model = LinearRegression().fit(train_features, train_label)\n",
    "linear_regression_model.score(test_features, test_label)\n",
    "y_pred_0 = linear_regression_model.predict(test_features)"
   ]
  },
  {
   "cell_type": "code",
   "execution_count": 119,
   "metadata": {},
   "outputs": [
    {
     "data": {
      "text/plain": [
       "681203.2796243742"
      ]
     },
     "execution_count": 119,
     "metadata": {},
     "output_type": "execute_result"
    }
   ],
   "source": [
    "mean_squared_error(test_label, y_pred_0)"
   ]
  },
  {
   "cell_type": "code",
   "execution_count": 120,
   "metadata": {},
   "outputs": [
    {
     "data": {
      "text/plain": [
       "{'copy_X': True,\n",
       " 'fit_intercept': True,\n",
       " 'n_jobs': None,\n",
       " 'normalize': False,\n",
       " 'positive': False}"
      ]
     },
     "execution_count": 120,
     "metadata": {},
     "output_type": "execute_result"
    }
   ],
   "source": [
    "linear_regression_model.get_params()"
   ]
  },
  {
   "cell_type": "code",
   "execution_count": 121,
   "metadata": {},
   "outputs": [
    {
     "data": {
      "text/plain": [
       "array([ 2.69637905e+02, -1.66165765e+00, -1.64924861e+01, -1.99924861e+01,\n",
       "        1.25007514e+02, -2.79849726e+01,  1.30150274e+01, -1.49924861e+01,\n",
       "       -1.89924861e+01,  7.43433517e+01,  3.75075138e+01, -1.94924861e+01,\n",
       "        1.60209017e+02, -2.99248614e+00, -5.53972450e+02,  1.01502312e+00,\n",
       "        6.40150274e+01, -5.99699434e+00, -3.98497263e+00,  9.00050093e+01,\n",
       "       -3.59849726e+01, -2.39923857e+01, -5.49248614e+00, -1.69924861e+01,\n",
       "       -4.38593846e+01, -1.99849726e+01,  2.00751386e+00,  4.56987947e+01,\n",
       "       -6.99248614e+00, -1.44924861e+01,  1.50010150e+04, -1.11969946e+01,\n",
       "        3.77108312e+01,  1.26716758e+01, -6.81778957e+00,  1.63637909e+02,\n",
       "        1.25007514e+02, -3.09969947e+01, -8.49248614e+00, -1.44924861e+01,\n",
       "        3.40050092e+01, -2.19849726e+01, -1.84924861e+01, -1.94924861e+01,\n",
       "        5.60601110e+00, -1.35384799e+02, -1.49849726e+01, -7.21156061e+01,\n",
       "       -8.49248614e+00, -1.33283242e+01, -3.89849726e+01,  1.07507514e+02,\n",
       "       -1.25723029e+01, -2.99849726e+01,  3.06716759e+01, -3.99849726e+01,\n",
       "        4.60507514e+02,  2.17419584e+01, -3.49248614e+00, -1.84924861e+01,\n",
       "       -6.99999936e+00, -1.64924861e+01, -5.53252704e+01,  7.80300548e+00,\n",
       "       -1.94924861e+01, -3.89849726e+01,  9.20075138e+01, -4.30912614e+01,\n",
       "        2.18744160e+01,  2.67167581e+00,  1.07064179e+02,  1.80075139e+01,\n",
       "        1.46685977e+02,  1.43734074e+02,  1.88734067e+02, -2.14924861e+01,\n",
       "        1.01993121e+02, -1.44994993e+02,  2.91054250e+01,  3.46063919e+02,\n",
       "        1.86734071e+02,  1.54734070e+02, -3.58593846e+01, -1.74924861e+01,\n",
       "       -9.84972631e-01, -1.49924861e+01, -1.49924861e+01, -1.29924861e+01,\n",
       "       -1.35969946e+01, -1.94924861e+01, -3.06616575e+01, -2.19949926e+01,\n",
       "        6.07340669e+01,  3.93383425e+01,  6.79398039e+01, -1.29924861e+01,\n",
       "       -2.39849726e+01, -1.49924861e+01, -1.54924861e+01, -3.59849716e+01,\n",
       "        8.78670356e+01, -2.02939342e+02,  6.71675811e-01, -9.98497263e+00,\n",
       "       -2.04924861e+01, -2.09899817e+01, -6.66165753e+00, -1.94924861e+01,\n",
       "       -1.59924861e+01,  1.12413658e+01,  7.16951023e+02, -2.09924861e+01,\n",
       "       -2.04924861e+01, -3.49282072e+01, -1.07854916e+00, -1.09924861e+01,\n",
       "       -1.54924861e+01, -2.09924861e+01,  1.20435828e+02, -1.89924861e+01,\n",
       "       -3.39849726e+01, -6.44677028e+01, -1.45928888e+02, -1.49924861e+01,\n",
       "        3.17100991e+01, -1.04924861e+01, -2.14924861e+01, -1.99924861e+01,\n",
       "        2.22672469e+01, -6.97327531e+01,  1.41822143e+01,  2.89582538e+01,\n",
       "       -7.42474967e+01,  9.20050092e+01, -2.49641028e+01, -1.89849726e+01,\n",
       "        5.38565717e+00, -1.34924861e+01, -7.60398497e+03,  1.56734074e+02,\n",
       "       -1.19924861e+01,  4.10100184e+01,  1.80075139e+01,  5.07513860e-01,\n",
       "        2.86356924e+02, -3.39849726e+01,  3.17100991e+01, -2.61622876e+02,\n",
       "        8.78670356e+01, -2.27939904e+01,  8.67668497e+00, -2.99248614e+00,\n",
       "       -5.01972450e+02, -3.09969947e+01, -2.04924861e+01,  2.50751386e+00,\n",
       "        5.82388300e+01,  6.11611974e+00,  1.62522035e+01, -7.89347935e+01,\n",
       "       -6.44676909e+01, -3.69849726e+01, -8.51958238e+01, -2.19924870e+01,\n",
       "        3.04827225e+01, -2.33233150e+01, -1.54924861e+01,  4.38015027e+02,\n",
       "        2.27108312e+01, -3.69849635e+01,  4.25015027e+02,  3.75075138e+01,\n",
       "       -1.72990840e+02, -1.99924861e+01, -5.59432246e+01, -3.04051661e+01,\n",
       "       -4.19849726e+01,  3.14623115e+02, -2.99248614e+00, -2.39899875e+01,\n",
       "        3.10090167e+01, -2.09924861e+01, -3.49849726e+01, -1.15414538e+01,\n",
       "        1.70150274e+01, -5.39924887e+01, -9.92486139e-01, -1.05505469e+01,\n",
       "       -1.16616575e+01,  1.30738607e+02,  2.00751386e+00, -1.69924861e+01,\n",
       "       -4.19849726e+01, -7.57982883e+00, -2.09849726e+01,  1.25746110e+01,\n",
       "       -1.81010924e+01, -3.09849726e+01, -1.49924861e+01, -6.99248614e+00,\n",
       "       -1.49849726e+01,  1.31899640e+02,  3.70150274e+01, -1.05939890e+01,\n",
       "       -3.79849726e+01,  6.00050092e+01, -2.09849726e+01, -3.72593245e+01,\n",
       "       -4.79398810e+00,  3.71306334e+01, -2.12238334e+01,  2.91054250e+01,\n",
       "        3.94507514e+02, -8.08528502e+01,  5.47987477e+02, -3.09849726e+01,\n",
       "       -1.39849726e+01,  7.80300548e+00, -1.19924861e+01, -7.96994514e-01,\n",
       "       -9.98497162e+00, -2.49641028e+01, -3.79849726e+01, -6.49248614e+00,\n",
       "       -6.99248614e+00,  9.00075029e+01, -1.24924861e+01, -8.99248614e+00,\n",
       "       -1.94924861e+01, -2.09924861e+01,  7.20150334e+01, -1.69924870e+01,\n",
       "        9.67167580e+00, -1.70659482e+02,  1.00150281e+01, -3.59849726e+01,\n",
       "        3.01502737e+00,  4.00150274e+01, -6.99248614e+00, -1.23283242e+01,\n",
       "       -1.94924861e+01, -2.37362093e+02, -6.99248614e+00,  4.50150274e+01,\n",
       "        7.25761842e+00, -2.39924853e+01, -5.09949908e+01, -5.99699434e+00,\n",
       "       -4.19849726e+01, -8.66165754e+00,  3.06766850e+01, -3.22593245e+01,\n",
       "       -3.19849726e+01, -4.49248614e+00, -1.79924861e+01, -1.49171778e+01,\n",
       "        2.96385569e+01,  1.77950102e+01, -1.49171778e+01, -1.29681046e+02,\n",
       "       -1.69924861e+01, -1.34924861e+01, -1.94924861e+01,  3.12831192e+01,\n",
       "       -2.09924861e+01, -3.49849726e+01, -3.89849726e+01, -1.15414538e+01,\n",
       "       -8.95969952e+01, -1.67423816e+01, -2.22425932e+01, -1.69924861e+01,\n",
       "       -7.49248614e+00,  1.30738607e+02,  5.78744206e+01, -2.02939342e+02,\n",
       "        3.40050092e+01, -1.80785507e+01, -1.29924861e+01,  6.24924973e+01,\n",
       "        1.67406755e+01, -3.50266436e+00, -1.34924861e+01, -5.16346487e+01,\n",
       "        6.37406755e+01, -8.66165754e+00, -2.20977201e+01, -1.33283242e+01,\n",
       "        1.07867036e+02, -3.99849726e+01, -8.95969952e+01, -1.32978097e+02,\n",
       "        4.69295668e+01, -2.09924861e+01, -1.89924861e+01, -2.06143407e+01,\n",
       "        1.77950102e+01,  3.80075185e+01, -5.99699434e+00,  1.75075139e+01,\n",
       "       -3.19849726e+01,  1.73734074e+02,  6.00050092e+01, -2.04924861e+01,\n",
       "       -3.49248614e+00, -1.11969946e+01, -2.09924861e+01, -4.32832420e+00,\n",
       "        2.60150274e+01, -2.32424867e+01,  5.16716758e+01, -5.58972450e+02,\n",
       "       -5.73972450e+02,  1.34090166e+01, -1.09246240e+02, -5.80972450e+02,\n",
       "       -5.99248529e+00,  6.10150274e+01, -1.79924861e+01, -5.85972450e+02,\n",
       "       -3.99248614e+00, -1.74924861e+01,  1.07507514e+02, -2.20937657e+01,\n",
       "        2.05376876e+02,  1.67167581e+00, -7.49248614e+00, -3.09849726e+01,\n",
       "       -5.65972450e+02, -9.19098565e+00, -3.50266436e+00, -1.57611386e+01,\n",
       "       -3.79849726e+01,  3.60050091e+01,  2.53383425e+01, -2.01983038e+01,\n",
       "       -1.09849726e+01, -1.34924861e+01, -2.04924861e+01, -1.04924861e+01,\n",
       "        9.07179280e+00,  1.87015027e+02,  1.66716758e+01, -1.69924861e+01,\n",
       "        4.00751386e+00, -1.54924861e+01, -1.49924861e+01, -2.99248614e+00,\n",
       "       -2.13114800e+01,  6.01502737e+00, -3.99849726e+01,  3.81007513e+02,\n",
       "       -1.36566484e+01,  5.01502407e+00, -2.14924861e+01, -2.57982883e+00,\n",
       "       -1.89924861e+01, -1.39949909e+01, -3.54264232e+01,  1.80075139e+01,\n",
       "       -2.79849726e+01,  2.00075147e+01, -1.72424856e+01, -3.89849726e+01,\n",
       "       -1.80785509e+01, -2.98998172e+00,  2.70935795e+01, -3.86735056e+01,\n",
       "        1.70717928e+01,  1.68852860e+00,  2.10150274e+01,  5.09295620e+01,\n",
       "       -6.37327531e+01, -1.59924861e+01, -1.89924861e+01,  3.94507514e+02,\n",
       "        1.25075139e+01, -1.82593245e+01,  5.03402981e+01,  1.94951110e+02,\n",
       "       -1.72719051e+02, -2.37424867e+01,  1.57734077e+02, -3.69849726e+01,\n",
       "        1.80671676e+02, -3.31671843e+01, -3.59849726e+01,  1.44372103e+01,\n",
       "       -3.92992487e+02, -2.89849726e+01,  2.00751386e+00, -1.53283242e+01,\n",
       "       -2.59849726e+01,  3.06716759e+01, -9.49248614e+00, -1.39949909e+01,\n",
       "        3.11999989e+02, -3.49248614e+00, -1.49849716e+01,  1.55075139e+01,\n",
       "       -5.23972450e+02, -2.79849726e+01, -6.57048978e+02, -1.15798288e+01,\n",
       "       -1.49849726e+01, -4.29849726e+01, -1.29361131e+01,  3.65075138e+01,\n",
       "        6.20060114e+01,  6.62672469e+01, -2.14924861e+01, -1.54924861e+01,\n",
       "       -1.04924861e+01,  1.14331314e+02, -3.89849726e+01,  2.93433517e+01,\n",
       "       -1.39949909e+01, -2.04924861e+01,  2.63076530e+02,  2.06009636e-01,\n",
       "       -4.29849726e+01,  1.69999880e+01, -2.44277221e+01, -2.99849726e+01,\n",
       "       -3.54264232e+01, -2.49248614e+00,  1.01502737e+00, -1.44924861e+01,\n",
       "        7.20075185e+01,  1.44372103e+01,  4.49582551e+01,  8.85075138e+01,\n",
       "       -4.00000128e+00,  2.56716758e+01, -5.16718566e+00,  3.99999881e+00,\n",
       "       -8.49248614e+00,  6.29432351e+01, -2.49248614e+00, -1.33283242e+01,\n",
       "        1.21333380e+00,  9.60601115e+00,  2.51872809e+02, -3.03996243e+02,\n",
       "       -3.49999378e+00,  1.55075139e+01, -1.66616575e+01, -1.74924861e+01,\n",
       "       -2.04924861e+01,  1.63421616e+02, -1.59849726e+01, -1.86734975e+01,\n",
       "        2.80150274e+01, -2.04924861e+01,  2.44015027e+02, -1.79924861e+01,\n",
       "       -1.89849726e+01,  3.66507514e+02, -2.09924861e+01, -1.79924861e+01,\n",
       "       -3.89849726e+01, -2.69849714e+01, -1.94924861e+01,  2.14116376e+01,\n",
       "        5.07513860e-01, -1.49924861e+01,  1.62459715e+02, -1.89924861e+01,\n",
       "       -2.73362093e+02, -1.59376258e+02, -1.98838788e+01,  4.60507514e+02,\n",
       "       -1.94924861e+01, -9.49248614e+00,  1.79999987e+01, -1.89924861e+01,\n",
       "        8.62937369e+00, -1.33283242e+01, -5.89924769e+01, -3.82593245e+01,\n",
       "        2.96385569e+01,  8.85075138e+01, -2.04924861e+01, -1.39949909e+01,\n",
       "       -8.49145359e+01, -5.19432275e+01, -1.06328324e+02,  1.41084394e+02,\n",
       "       -3.62593245e+01,  3.08493706e+01,  4.37507514e+02,  1.39432335e+01,\n",
       "       -1.89924861e+01, -1.86616571e+01,  1.45075139e+01, -2.56566484e+01,\n",
       "       -4.32832420e+00, -7.29969951e+01,  1.19582551e+01,  1.64791269e+01,\n",
       "       -1.59924861e+01, -2.07269326e+01,  5.70150177e+01, -5.87269334e+01,\n",
       "        2.57005011e+02, -1.59924861e+01, -9.98497263e+00, -1.29849726e+01,\n",
       "       -2.37984455e+01, -2.39949926e+01, -3.69849726e+01, -5.05751537e+02,\n",
       "       -1.29999915e+01, -1.64999938e+01,  4.00751386e+00,  3.39999985e+01,\n",
       "       -2.43668032e+00, -2.04924861e+01, -2.29849726e+01, -2.89989986e+02,\n",
       "       -1.59899816e+01,  4.23383425e+01, -5.67626371e+01, -2.79849726e+01,\n",
       "       -6.99248614e+00,  1.46210856e+02,  4.37507514e+02,  6.07340669e+01,\n",
       "       -2.79949909e+01, -3.99499087e+00,  3.51016704e+01,  2.03006012e+02,\n",
       "       -2.43668032e+00, -1.79924861e+01, -5.99699434e+00, -5.05751537e+02,\n",
       "        1.66147150e+02, -7.29969951e+01, -4.49248614e+00, -2.13233151e+01,\n",
       "       -1.99849726e+01,  6.72108558e+01,  1.12413658e+01, -1.39949909e+01,\n",
       "       -1.59098343e+00,  2.27142216e+02, -1.62593245e+01, -1.33283242e+01,\n",
       "        1.52413173e+01, -1.29681046e+02, -2.71136638e+02, -7.42474967e+01,\n",
       "       -2.69849726e+01, -3.79849726e+01, -1.69924861e+01, -2.09924861e+01,\n",
       "       -1.14277318e+01, -3.49899825e+01, -2.99999944e+01, -1.84924861e+01,\n",
       "       -3.88232718e+01,  1.77015027e+02, -3.49849726e+01, -6.66165753e+00,\n",
       "        1.50150274e+01, -1.77611700e+01, -1.54051434e+01, -7.42474967e+01,\n",
       "       -1.89924861e+01,  2.50751386e+00, -4.13276173e+01,  1.69582551e+01,\n",
       "       -1.29924861e+01,  2.49806012e+02, -3.99248614e+00, -4.29849726e+01,\n",
       "       -2.43668032e+00, -9.99248614e+00, -1.69924861e+01,  2.16698884e+01,\n",
       "       -1.33283242e+01, -1.33283242e+01, -1.70719051e+02, -3.39849726e+01,\n",
       "       -3.99248614e+00, -1.64849769e+01, -1.69924861e+01, -1.69924861e+01,\n",
       "       -3.90567610e+01, -1.94924861e+01, -4.57327531e+01,  1.02507514e+02,\n",
       "        3.93433517e+01, -2.29064225e+01, -8.98497129e+00,  6.27435416e+00,\n",
       "       -1.69924861e+01,  9.10629182e+00,  1.87734074e+02, -2.13879782e+01,\n",
       "        9.20075138e+01,  1.42017117e+00,  1.35005007e+02, -3.49248614e+00,\n",
       "       -4.50000007e+01, -7.11191621e+00,  1.88007515e+02, -9.92486139e-01,\n",
       "        1.75075139e+01,  1.70717906e+01,  2.67167581e+00, -2.43668032e+00,\n",
       "       -3.09849731e+01,  1.52007515e+02,  1.45075139e+01, -1.69924861e+01,\n",
       "       -7.99248614e+00, -2.43668032e+00, -1.59924861e+01, -1.03283242e+01,\n",
       "       -7.99248614e+00, -1.84924861e+01, -2.89849726e+01, -4.19849726e+01,\n",
       "       -1.39924861e+01, -7.99248614e+00, -4.09849726e+01,  5.45075138e+01,\n",
       "        2.96507514e+02, -4.22593245e+01, -3.99849726e+01,  6.39999984e+01,\n",
       "        1.79582551e+01, -1.15414538e+01,  3.40050092e+01, -1.59924861e+01,\n",
       "       -1.29924861e+01, -2.14924861e+01,  1.57406755e+01, -1.44994993e+02,\n",
       "       -1.54924861e+01, -8.49248614e+00, -1.51112809e+02,  6.00050092e+01,\n",
       "       -3.59849726e+01, -1.59376258e+02,  2.00751386e+00,  4.98678765e+01,\n",
       "       -1.67424856e+01,  5.40150274e+01, -3.16346487e+01, -3.69849633e+01,\n",
       "       -2.87513322e+01, -1.89924861e+01,  2.52486678e+01, -3.69849726e+01,\n",
       "       -2.59924815e+01,  2.43383424e+01, -2.99248529e+00, -7.11191621e+00,\n",
       "       -3.50266436e+00, -1.89992487e+02, -1.10491512e+01, -1.24621858e+01,\n",
       "       -1.89924861e+01, -1.94924861e+01, -7.99248269e+00, -1.99248614e+00,\n",
       "       -1.33283242e+01,  1.47468896e+02, -2.47327531e+01, -1.49924861e+01,\n",
       "       -1.54924861e+01, -3.87327531e+01, -1.04924861e+01,  2.36726549e+02,\n",
       "        4.77406755e+01,  4.15725966e+01, -3.39849726e+01, -1.65572157e+02,\n",
       "        1.01238830e+02,  3.28993773e+02,  2.68011271e+02, -2.50063870e+00,\n",
       "        1.01502737e+00,  6.00000147e+00, -1.44924861e+01, -1.24924861e+01,\n",
       "       -2.49248614e+00,  6.59582551e+01, -5.98497263e+00,  1.59582551e+01,\n",
       "       -2.59849726e+01, -1.47611700e+01,  5.02108386e+01,  2.00000064e+00,\n",
       "       -3.69849726e+01, -2.09924861e+01,  1.07867036e+02,  7.06766851e+01,\n",
       "       -5.23595211e+01, -1.59849726e+01, -2.14924861e+01, -6.66165753e+00,\n",
       "        1.64791269e+01, -1.29849726e+01, -1.49924861e+01, -1.48838803e+01,\n",
       "        5.07513860e-01, -4.32832420e+00, -2.98996243e+02, -5.99248614e+00,\n",
       "       -1.59924861e+01, -9.99248614e+00,  2.30150274e+01, -4.09849726e+01,\n",
       "        2.50015027e+02, -1.22380194e+00,  9.00150274e+01, -1.99248614e+00,\n",
       "       -1.08458542e+01, -1.71865282e+01, -1.24924861e+01, -2.09924861e+01,\n",
       "       -3.69849726e+01, -4.09849726e+01, -2.09924861e+01, -2.79449960e+01,\n",
       "       -6.49248614e+00,  1.67167581e+00, -1.76616575e+01, -2.04924861e+01,\n",
       "       -1.59924861e+01, -1.59924861e+01, -3.66165754e+00, -1.84924861e+01,\n",
       "       -1.16616575e+01, -5.99248614e+00, -1.64999938e+01,  3.97477813e+01,\n",
       "        3.65075138e+01,  3.33834235e+00,  2.63189909e+01,  1.30009017e+02,\n",
       "       -7.99248614e+00,  2.96507514e+02, -3.49849726e+01, -3.89849726e+01,\n",
       "       -1.39670947e+02, -1.45749936e+01, -8.99248614e+00, -2.14924861e+01,\n",
       "        1.07179280e+00, -1.13909835e+01, -9.67190413e+01, -1.29924861e+01,\n",
       "       -7.17327531e+01, -1.59924861e+01, -1.49924861e+01,  3.06716759e+01,\n",
       "       -1.05505469e+01,  3.51016704e+01,  1.50972125e+02,  1.45350154e+01,\n",
       "        3.86007513e+02,  3.27406755e+01, -1.89924861e+01,  1.70075139e+01,\n",
       "       -8.49248614e+00, -3.39849726e+01, -1.39924861e+01,  3.00751386e+00,\n",
       "       -3.79849726e+01, -1.33283242e+01,  4.42500770e+00,  1.99214487e+01,\n",
       "       -1.99849726e+01,  2.85542327e+00, -3.09849726e+01,  4.34335163e+00,\n",
       "        3.00751386e+00, -9.49248614e+00, -5.78666619e+00, -3.89849726e+01,\n",
       "        9.90150274e+01, -3.99849726e+01,  1.66734074e+02, -2.13283242e+01,\n",
       "        4.56987947e+01, -9.49248614e+00,  4.30259738e+02, -1.98805849e+01,\n",
       "       -2.98497155e+00, -1.77419560e+01, -1.54924861e+01, -9.57981441e+00,\n",
       "       -1.99924861e+01,  1.67167581e+00, -1.84924861e+01, -2.90874419e+02,\n",
       "       -1.89924861e+01,  8.67668497e+00, -1.39949909e+01, -1.69949909e+01,\n",
       "       -1.49924861e+01,  2.11331139e+02, -3.97992487e+02, -8.49248614e+00,\n",
       "       -1.09924861e+01,  1.14050608e+01, -2.14924861e+01,  1.60075110e+01,\n",
       "        1.35015027e+02, -1.94622880e+02, -1.29924861e+01, -5.98593908e+01,\n",
       "       -1.89924861e+01, -2.71983038e+01,  3.28993773e+02, -2.16719038e+02,\n",
       "       -1.89924861e+01,  5.07513860e-01,  9.97419672e+01,  1.48007515e+02,\n",
       "        5.45075138e+01, -5.96994560e-01, -4.36143428e+01, -1.79924861e+01,\n",
       "       -3.87611700e+01, -7.99248151e+00, -1.98805849e+01, -3.94051331e+01,\n",
       "        2.50050091e+01, -7.96994514e-01,  2.53501989e+02,  1.60150274e+01,\n",
       "       -5.49248614e+00, -3.49849726e+01, -5.98497263e+00, -1.79924861e+01,\n",
       "       -1.87327531e+01,  1.04030054e+01, -1.75969946e+01,  8.00050092e+01,\n",
       "       -5.69949908e+01, -8.49248614e+00,  1.57574069e+01, -2.04924861e+01,\n",
       "       -5.05751537e+02, -1.79924861e+01,  3.28993773e+02, -1.59849726e+01,\n",
       "       -2.33283242e+01,  9.00050093e+01, -5.99699434e+00, -8.49248614e+00,\n",
       "        3.27761971e+01, -1.94924861e+01, -2.89849726e+01, -1.09924861e+01,\n",
       "        2.30100183e+01, -1.54924861e+01, -1.81909832e+01,  6.71675811e-01,\n",
       "       -6.27327531e+01,  8.71003757e+02,  6.71675811e-01, -3.99248614e+00,\n",
       "        2.16496766e+01, -2.43668032e+00,  5.34688958e+01,  2.40637901e+02,\n",
       "        1.01267247e+02, -1.69924861e+01, -2.09924861e+01, -8.66165754e+00,\n",
       "       -2.04924861e+01, -1.89924861e+01, -3.89849726e+01,  5.77406755e+01,\n",
       "        1.80075139e+01,  2.33377120e+02, -6.99248614e+00, -1.24924861e+01,\n",
       "        1.25075139e+01, -1.94924861e+01, -2.00000118e+00,  7.57500000e+03,\n",
       "        4.24800115e+01, -4.39282073e+01,  2.30150274e+01, -1.29924861e+01,\n",
       "       -2.26143428e+01,  1.70075139e+01, -3.67611700e+01, -1.24924861e+01,\n",
       "       -1.47423790e+01, -1.91865282e+01,  2.00734074e+02, -3.29064198e+01,\n",
       "       -8.98497263e+00, -3.39849726e+01, -1.45928888e+02, -3.09924815e+01,\n",
       "       -9.18957653e+01, -7.42474967e+01,  2.56377120e+02, -1.54924861e+01,\n",
       "       -5.23595211e+01, -3.69849726e+01, -2.09924861e+01, -2.04924861e+01,\n",
       "       -1.09924861e+01, -2.49248614e+00,  1.02507514e+02, -6.99248614e+00,\n",
       "       -1.77719045e+02, -2.19849725e+01,  9.00050093e+01, -1.16616575e+01,\n",
       "        3.66507514e+02,  2.61015032e+02,  2.67167581e+00, -1.24924861e+01,\n",
       "        5.24638626e+02,  6.81015027e+02,  2.83383425e+01, -2.43668032e+00,\n",
       "       -9.98497263e+00, -1.74924861e+01, -6.73252718e+01])"
      ]
     },
     "execution_count": 121,
     "metadata": {},
     "output_type": "execute_result"
    }
   ],
   "source": [
    "linear_regression_model.coef_"
   ]
  },
  {
   "cell_type": "markdown",
   "metadata": {},
   "source": [
    "### Plot actual vs prediction labels"
   ]
  },
  {
   "cell_type": "code",
   "execution_count": 122,
   "metadata": {},
   "outputs": [
    {
     "data": {
      "image/png": "[encoded data removed]",
      "text/plain": [
       "<Figure size 864x576 with 1 Axes>"
      ]
     },
     "metadata": {
      "needs_background": "light"
     },
     "output_type": "display_data"
    }
   ],
   "source": [
    "training_label_prediction = linear_regression_model.predict(train_features)\n",
    "plt.figure(figsize=(12,8))\n",
    "plt.scatter(train_label, training_label_prediction)\n",
    "plt.title('Training Set: Actual vs Predicted Label')\n",
    "plt.xlabel('Actual Label')\n",
    "plt.ylabel('Predicted Label')\n",
    "plt.show()"
   ]
  },
  {
   "cell_type": "code",
   "execution_count": 123,
   "metadata": {},
   "outputs": [
    {
     "data": {
      "image/png": "[encoded data removed]",
      "text/plain": [
       "<Figure size 864x576 with 1 Axes>"
      ]
     },
     "metadata": {
      "needs_background": "light"
     },
     "output_type": "display_data"
    }
   ],
   "source": [
    "test_label_prediction = linear_regression_model.predict(test_features)\n",
    "plt.figure(figsize=(12,8))\n",
    "plt.scatter(test_label, test_label_prediction)\n",
    "plt.title('Test Set: Actual vs Predicted Label')\n",
    "plt.xlabel('Actual Label')\n",
    "plt.ylabel('Predicted Label')\n",
    "plt.show()"
   ]
  },
  {
   "cell_type": "markdown",
   "metadata": {},
   "source": [
    "### There does not seem to be correlation between titles and downloads, let us find a concrete example. \n",
    "### Check if we can find a word that has high downloads and low downloads find the worst predicted values and see if we can find something interesting"
   ]
  },
  {
   "cell_type": "code",
   "execution_count": 124,
   "metadata": {},
   "outputs": [
    {
     "data": {
      "text/plain": [
       "0.9998717016028656"
      ]
     },
     "execution_count": 124,
     "metadata": {},
     "output_type": "execute_result"
    }
   ],
   "source": [
    "linear_regression_model.score(train_features, train_label)"
   ]
  },
  {
   "cell_type": "code",
   "execution_count": 125,
   "metadata": {},
   "outputs": [
    {
     "data": {
      "text/plain": [
       "-9.240825330783277"
      ]
     },
     "execution_count": 125,
     "metadata": {},
     "output_type": "execute_result"
    }
   ],
   "source": [
    "linear_regression_model.score(test_features, test_label)"
   ]
  },
  {
   "cell_type": "code",
   "execution_count": 127,
   "metadata": {},
   "outputs": [
    {
     "data": {
      "text/plain": [
       "123.67598706742996"
      ]
     },
     "execution_count": 127,
     "metadata": {},
     "output_type": "execute_result"
    }
   ],
   "source": [
    "test_title = vectorizer.transform([clean_text(\"this is mars space\")])\n",
    "linear_regression_model.predict(test_title)[0]"
   ]
  },
  {
   "cell_type": "code",
   "execution_count": 128,
   "metadata": {},
   "outputs": [
    {
     "data": {
      "text/plain": [
       "-435.76656463059123"
      ]
     },
     "execution_count": 128,
     "metadata": {},
     "output_type": "execute_result"
    }
   ],
   "source": [
    "test_title = vectorizer.transform([clean_text(\"Mystery\")])\n",
    "linear_regression_model.predict(test_title)[0]"
   ]
  },
  {
   "cell_type": "code",
   "execution_count": 133,
   "metadata": {},
   "outputs": [
    {
     "data": {
      "text/plain": [
       "-107.73407245183955"
      ]
     },
     "execution_count": 133,
     "metadata": {},
     "output_type": "execute_result"
    }
   ],
   "source": [
    "test_title = vectorizer.transform([clean_text(\"world\")])\n",
    "linear_regression_model.predict(test_title)[0]"
   ]
  },
  {
   "cell_type": "code",
   "execution_count": 132,
   "metadata": {},
   "outputs": [
    {
     "data": {
      "text/plain": [
       "14907.224188419445"
      ]
     },
     "execution_count": 132,
     "metadata": {},
     "output_type": "execute_result"
    }
   ],
   "source": [
    "test_title = vectorizer.transform([clean_text(\"Anthem the first world mars\")])\n",
    "linear_regression_model.predict(test_title)[0]"
   ]
  },
  {
   "cell_type": "markdown",
   "metadata": {},
   "source": [
    "### common words between top and bottom titles"
   ]
  },
  {
   "cell_type": "code",
   "execution_count": 209,
   "metadata": {},
   "outputs": [],
   "source": [
    "def findCommonWords(top_book_titles, bottom_book_titles):\n",
    "    result = pd.DataFrame(columns=['Matched_Word', 'Top_Downloads', 'Bottom_Downloads'])\n",
    "    for top_index, top_row in top_book_titles.iterrows():\n",
    "        top_title = top_row[0].strip().lower()\n",
    "        top_split_title = top_title.split(' ')\n",
    "        top_number_of_downloads = top_row[1]\n",
    "        \n",
    "        #print(top_title)\n",
    "\n",
    "        for bottm_index, bottom_row in bottom_book_titles.iterrows():\n",
    "            bottom_title = bottom_row[0].strip().lower()\n",
    "            bottom_split_title = bottom_title.split(' ')\n",
    "            bottom_number_of_downloads = bottom_row[1]\n",
    "            \n",
    "            match_found = False\n",
    "            for bottom_word in bottom_split_title:\n",
    "                #print(bottom_word.strip())\n",
    "                if bottom_word.strip() != \"\" and bottom_word.strip() in top_split_title:\n",
    "                    #print('Top Title/Downloads: {0} - {1}, Bottom Title/Downloads: {2} - {3}, Found Match: {2}'.format(\n",
    "                    #    top_title,\n",
    "                    #    top_number_of_downloads,\n",
    "                    #    bottom_title,\n",
    "                    #    bottom_number_of_downloads,\n",
    "                    #    bottom_word)\n",
    "                    #)\n",
    "                    #print('Found Match: {0}'.format(bottom_word))\n",
    "                    #print('Top Title: {0}'.format(top_title))\n",
    "                    #print('Bottom Title: {0}'.format(bottom_title))\n",
    "                    #match_found = True\n",
    "                    \n",
    "                    result = result.append({'Matched_Word': bottom_word, 'Top_Downloads': top_number_of_downloads, 'Bottom_Downloads': bottom_number_of_downloads}, ignore_index=True)\n",
    "                    break\n",
    "                else:\n",
    "                    continue\n",
    "            \n",
    "            if match_found:\n",
    "                break\n",
    "    return result"
   ]
  },
  {
   "cell_type": "code",
   "execution_count": 210,
   "metadata": {},
   "outputs": [
    {
     "data": {
      "text/html": [
       "<div>\n",
       "<style scoped>\n",
       "    .dataframe tbody tr th:only-of-type {\n",
       "        vertical-align: middle;\n",
       "    }\n",
       "\n",
       "    .dataframe tbody tr th {\n",
       "        vertical-align: top;\n",
       "    }\n",
       "\n",
       "    .dataframe thead th {\n",
       "        text-align: right;\n",
       "    }\n",
       "</style>\n",
       "<table border=\"1\" class=\"dataframe\">\n",
       "  <thead>\n",
       "    <tr style=\"text-align: right;\">\n",
       "      <th></th>\n",
       "      <th>Matched_Word</th>\n",
       "      <th>Top_Downloads</th>\n",
       "      <th>Bottom_Downloads</th>\n",
       "    </tr>\n",
       "  </thead>\n",
       "  <tbody>\n",
       "    <tr>\n",
       "      <th>0</th>\n",
       "      <td>centre</td>\n",
       "      <td>1598</td>\n",
       "      <td>29</td>\n",
       "    </tr>\n",
       "    <tr>\n",
       "      <th>1</th>\n",
       "      <td>thousand</td>\n",
       "      <td>1254</td>\n",
       "      <td>29</td>\n",
       "    </tr>\n",
       "    <tr>\n",
       "      <th>2</th>\n",
       "      <td>wall</td>\n",
       "      <td>878</td>\n",
       "      <td>27</td>\n",
       "    </tr>\n",
       "    <tr>\n",
       "      <th>3</th>\n",
       "      <td>beyond</td>\n",
       "      <td>803</td>\n",
       "      <td>27</td>\n",
       "    </tr>\n",
       "    <tr>\n",
       "      <th>4</th>\n",
       "      <td>blind</td>\n",
       "      <td>654</td>\n",
       "      <td>28</td>\n",
       "    </tr>\n",
       "  </tbody>\n",
       "</table>\n",
       "</div>"
      ],
      "text/plain": [
       "  Matched_Word Top_Downloads Bottom_Downloads\n",
       "0       centre          1598               29\n",
       "1     thousand          1254               29\n",
       "2         wall           878               27\n",
       "3       beyond           803               27\n",
       "4        blind           654               28"
      ]
     },
     "execution_count": 210,
     "metadata": {},
     "output_type": "execute_result"
    }
   ],
   "source": [
    "top_n = 50\n",
    "top_book_titles = scifi_books_title_downloads.head(top_n)\n",
    "bottom_book_titles = scifi_books_title_downloads.tail(top_n)\n",
    "common_words = findCommonWords(top_book_titles, bottom_book_titles)\n",
    "common_words.head()"
   ]
  },
  {
   "cell_type": "code",
   "execution_count": 214,
   "metadata": {},
   "outputs": [
    {
     "data": {
      "image/png": "[encoded data removed]",
      "text/plain": [
       "<Figure size 1296x864 with 1 Axes>"
      ]
     },
     "metadata": {
      "needs_background": "light"
     },
     "output_type": "display_data"
    }
   ],
   "source": [
    "top_common_words_size = 10\n",
    "top_common_words = common_words.head(top_common_words_size)\n",
    "plt.figure(figsize=(18,12))\n",
    "plt.barh(top_common_words.Matched_Word, top_common_words.Top_Downloads)\n",
    "plt.barh(top_common_words.Matched_Word, top_common_words.Bottom_Downloads)\n",
    "plt.show()"
   ]
  },
  {
   "cell_type": "code",
   "execution_count": 212,
   "metadata": {},
   "outputs": [
    {
     "data": {
      "image/png": "[encoded data removed]",
      "text/plain": [
       "<Figure size 864x576 with 1 Axes>"
      ]
     },
     "metadata": {
      "needs_background": "light"
     },
     "output_type": "display_data"
    }
   ],
   "source": [
    "plt.figure(figsize=(12,8))\n",
    "plt.scatter(common_words.index, common_words.Top_Downloads, color='r')\n",
    "plt.scatter(common_words.index, common_words.Bottom_Downloads, color='b')\n",
    "plt.title('Common Words Between Top and Bottom Book Titles')\n",
    "plt.xlabel('Index')\n",
    "plt.ylabel('# Downloads')\n",
    "plt.show()"
   ]
  },
  {
   "cell_type": "code",
   "execution_count": 213,
   "metadata": {},
   "outputs": [
    {
     "data": {
      "image/png": "[encoded data removed]",
      "text/plain": [
       "<Figure size 864x576 with 1 Axes>"
      ]
     },
     "metadata": {
      "needs_background": "light"
     },
     "output_type": "display_data"
    }
   ],
   "source": [
    "plt.figure(figsize=(12,8))\n",
    "plt.scatter(common_words.index, abs(common_words.Top_Downloads - common_words.Bottom_Downloads), color='r')\n",
    "plt.title('Difference Between Top and Bottom Book Titles by # Downloads')\n",
    "plt.xlabel('Index')\n",
    "plt.ylabel('# Downloads')\n",
    "plt.show()"
   ]
  },
  {
   "cell_type": "code",
   "execution_count": 224,
   "metadata": {},
   "outputs": [
    {
     "data": {
      "text/plain": [
       "'Predicted # Downloads: 101'"
      ]
     },
     "execution_count": 224,
     "metadata": {},
     "output_type": "execute_result"
    }
   ],
   "source": [
    "test_title = vectorizer.transform([clean_text(\"this is mars space\")])\n",
    "'Predicted # Downloads: {0}'.format(linear_svc_model.predict(test_title)[0])"
   ]
  },
  {
   "cell_type": "code",
   "execution_count": 225,
   "metadata": {},
   "outputs": [
    {
     "data": {
      "image/png": "[encoded data removed]",
      "text/plain": [
       "<Figure size 864x576 with 1 Axes>"
      ]
     },
     "metadata": {
      "needs_background": "light"
     },
     "output_type": "display_data"
    }
   ],
   "source": [
    "# Plot indices vs score\n",
    "test_label_prediction = linear_regression_model.predict(test_features)\n",
    "plt.figure(figsize=(12,8))\n",
    "plt.scatter(test_data.index, test_label_prediction)\n",
    "plt.title('Test Set: Prediction vs Data Index')\n",
    "plt.xlabel('Index')\n",
    "plt.ylabel('Predicted Label')\n",
    "plt.show()"
   ]
  },
  {
   "cell_type": "code",
   "execution_count": 216,
   "metadata": {},
   "outputs": [
    {
     "data": {
      "text/plain": [
       "Title        morale  story war\n",
       "Downloads                   39\n",
       "Name: 414, dtype: object"
      ]
     },
     "execution_count": 216,
     "metadata": {},
     "output_type": "execute_result"
    }
   ],
   "source": [
    "pd.DataFrame(test_label_prediction).idxmax()\n",
    "worst_case_title = test_data.iloc[55]\n",
    "worst_case_title"
   ]
  },
  {
   "cell_type": "code",
   "execution_count": 217,
   "metadata": {},
   "outputs": [
    {
     "name": "stdout",
     "output_type": "stream",
     "text": [
      "morale  story war\n"
     ]
    }
   ],
   "source": [
    "for index, row in scifi_books_title_downloads.iterrows():\n",
    "    title = row[0].strip()\n",
    "    split_title = title.split(' ')\n",
    "    split_worst_case_title = worst_case_title[0].split(' ')\n",
    "    for word in split_worst_case_title:\n",
    "        if word.strip() in split_title:\n",
    "            print(title)\n",
    "        break\n",
    "    #if any(i in split_worst_case_title for i in split_title):\n",
    "    #    print(title)\n",
    "    "
   ]
  }
 ],
 "metadata": {
  "kernelspec": {
   "display_name": "Python 3",
   "language": "python",
   "name": "python3"
  },
  "language_info": {
   "codemirror_mode": {
    "name": "ipython",
    "version": 3
   },
   "file_extension": ".py",
   "mimetype": "text/x-python",
   "name": "python",
   "nbconvert_exporter": "python",
   "pygments_lexer": "ipython3",
   "version": "3.9.1"
  }
 },
 "nbformat": 4,
 "nbformat_minor": 4
}
